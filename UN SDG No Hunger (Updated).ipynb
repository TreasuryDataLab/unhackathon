{
 "cells": [
  {
   "cell_type": "markdown",
   "id": "c64a70e6",
   "metadata": {
    "toc": true
   },
   "source": [
    "<h1>Table of Contents<span class=\"tocSkip\"></span></h1>\n",
    "<div class=\"toc\"><ul class=\"toc-item\"><li><span><a href=\"#Preparation\" data-toc-modified-id=\"Preparation-1\"><span class=\"toc-item-num\">1&nbsp;&nbsp;</span>Preparation</a></span></li><li><span><a href=\"#Understanding-The-Data\" data-toc-modified-id=\"Understanding-The-Data-2\"><span class=\"toc-item-num\">2&nbsp;&nbsp;</span>Understanding The Data</a></span></li><li><span><a href=\"#Exploratory-Model\" data-toc-modified-id=\"Exploratory-Model-3\"><span class=\"toc-item-num\">3&nbsp;&nbsp;</span>Exploratory Model</a></span><ul class=\"toc-item\"><li><span><a href=\"#WO-Country\" data-toc-modified-id=\"WO-Country-3.1\"><span class=\"toc-item-num\">3.1&nbsp;&nbsp;</span>WO Country</a></span></li><li><span><a href=\"#W-Country\" data-toc-modified-id=\"W-Country-3.2\"><span class=\"toc-item-num\">3.2&nbsp;&nbsp;</span>W Country</a></span></li></ul></li><li><span><a href=\"#Best-Model\" data-toc-modified-id=\"Best-Model-4\"><span class=\"toc-item-num\">4&nbsp;&nbsp;</span>Best Model</a></span><ul class=\"toc-item\"><li><span><a href=\"#Extra-Trees-Regressor\" data-toc-modified-id=\"Extra-Trees-Regressor-4.1\"><span class=\"toc-item-num\">4.1&nbsp;&nbsp;</span>Extra Trees Regressor</a></span></li></ul></li><li><span><a href=\"#Clustering\" data-toc-modified-id=\"Clustering-5\"><span class=\"toc-item-num\">5&nbsp;&nbsp;</span>Clustering</a></span></li></ul></div>"
   ]
  },
  {
   "cell_type": "markdown",
   "id": "28db9381",
   "metadata": {},
   "source": [
    "# Preparation"
   ]
  },
  {
   "cell_type": "code",
   "execution_count": 30,
   "id": "c5cd9474",
   "metadata": {
    "ExecuteTime": {
     "end_time": "2022-11-10T18:40:47.511219Z",
     "start_time": "2022-11-10T18:40:47.503585Z"
    }
   },
   "outputs": [],
   "source": [
    "#Loading Packages\n",
    "import pandas as pd\n",
    "import numpy as np\n",
    "import seaborn as sns\n",
    "import matplotlib.pyplot as plt\n",
    "import pycaret\n",
    "import plotly.express as px\n",
    "from pycaret.regression import *\n",
    "from sklearn.cluster import KMeans\n",
    "from sklearn.preprocessing import MinMaxScaler\n",
    "import plotly.graph_objects as go"
   ]
  },
  {
   "cell_type": "code",
   "execution_count": 45,
   "id": "c0ac2c50",
   "metadata": {
    "ExecuteTime": {
     "end_time": "2022-11-10T18:49:00.472949Z",
     "start_time": "2022-11-10T18:49:00.305516Z"
    }
   },
   "outputs": [],
   "source": [
    "#Reading Data\n",
    "train=pd.read_excel(\"Train Data.xlsx\")"
   ]
  },
  {
   "cell_type": "markdown",
   "id": "4276dc38",
   "metadata": {},
   "source": [
    "# Understanding The Data"
   ]
  },
  {
   "cell_type": "code",
   "execution_count": 32,
   "id": "cd9ff26f",
   "metadata": {
    "ExecuteTime": {
     "end_time": "2022-11-10T18:40:48.924976Z",
     "start_time": "2022-11-10T18:40:48.892448Z"
    }
   },
   "outputs": [
    {
     "name": "stdout",
     "output_type": "stream",
     "text": [
      "<class 'pandas.core.frame.DataFrame'>\n",
      "RangeIndex: 600 entries, 0 to 599\n",
      "Data columns (total 8 columns):\n",
      " #   Column                                                         Non-Null Count  Dtype  \n",
      "---  ------                                                         --------------  -----  \n",
      " 0   Country                                                        600 non-null    object \n",
      " 1   Year                                                           600 non-null    int64  \n",
      " 2   C&Y                                                            600 non-null    object \n",
      " 3   Prevalence of Undernourishment (%)                             480 non-null    float64\n",
      " 4   GDP per Capita t-1 (Current US$)                               600 non-null    float64\n",
      " 5   Food Price Index (May)                                         600 non-null    float64\n",
      " 6   Agri to GDP t-1 (%)                                            600 non-null    float64\n",
      " 7   Agri Raw Materials Import to Total Merchandise Import t-1 (%)  600 non-null    float64\n",
      "dtypes: float64(5), int64(1), object(2)\n",
      "memory usage: 37.6+ KB\n"
     ]
    }
   ],
   "source": [
    "#Train Data Structure\n",
    "train.info()"
   ]
  },
  {
   "cell_type": "code",
   "execution_count": 33,
   "id": "27fb9eda",
   "metadata": {
    "ExecuteTime": {
     "end_time": "2022-11-10T18:40:49.339974Z",
     "start_time": "2022-11-10T18:40:49.281657Z"
    }
   },
   "outputs": [
    {
     "data": {
      "text/html": [
       "<div>\n",
       "<style scoped>\n",
       "    .dataframe tbody tr th:only-of-type {\n",
       "        vertical-align: middle;\n",
       "    }\n",
       "\n",
       "    .dataframe tbody tr th {\n",
       "        vertical-align: top;\n",
       "    }\n",
       "\n",
       "    .dataframe thead th {\n",
       "        text-align: right;\n",
       "    }\n",
       "</style>\n",
       "<table border=\"1\" class=\"dataframe\">\n",
       "  <thead>\n",
       "    <tr style=\"text-align: right;\">\n",
       "      <th></th>\n",
       "      <th>Year</th>\n",
       "      <th>Prevalence of Undernourishment (%)</th>\n",
       "      <th>GDP per Capita t-1 (Current US$)</th>\n",
       "      <th>Food Price Index (May)</th>\n",
       "      <th>Agri to GDP t-1 (%)</th>\n",
       "      <th>Agri Raw Materials Import to Total Merchandise Import t-1 (%)</th>\n",
       "    </tr>\n",
       "  </thead>\n",
       "  <tbody>\n",
       "    <tr>\n",
       "      <th>count</th>\n",
       "      <td>600.000000</td>\n",
       "      <td>480.000000</td>\n",
       "      <td>600.000000</td>\n",
       "      <td>600.000000</td>\n",
       "      <td>600.000000</td>\n",
       "      <td>600.000000</td>\n",
       "    </tr>\n",
       "    <tr>\n",
       "      <th>mean</th>\n",
       "      <td>2017.500000</td>\n",
       "      <td>4.509583</td>\n",
       "      <td>20860.025968</td>\n",
       "      <td>110.921989</td>\n",
       "      <td>7.334404</td>\n",
       "      <td>1.487031</td>\n",
       "    </tr>\n",
       "    <tr>\n",
       "      <th>std</th>\n",
       "      <td>2.874678</td>\n",
       "      <td>5.952617</td>\n",
       "      <td>24335.163044</td>\n",
       "      <td>25.219787</td>\n",
       "      <td>7.002313</td>\n",
       "      <td>0.832950</td>\n",
       "    </tr>\n",
       "    <tr>\n",
       "      <th>min</th>\n",
       "      <td>2013.000000</td>\n",
       "      <td>0.000000</td>\n",
       "      <td>570.909967</td>\n",
       "      <td>61.716051</td>\n",
       "      <td>0.187098</td>\n",
       "      <td>0.033175</td>\n",
       "    </tr>\n",
       "    <tr>\n",
       "      <th>25%</th>\n",
       "      <td>2015.000000</td>\n",
       "      <td>0.000000</td>\n",
       "      <td>3772.666933</td>\n",
       "      <td>100.129300</td>\n",
       "      <td>2.090128</td>\n",
       "      <td>0.866231</td>\n",
       "    </tr>\n",
       "    <tr>\n",
       "      <th>50%</th>\n",
       "      <td>2017.500000</td>\n",
       "      <td>0.000000</td>\n",
       "      <td>11345.080482</td>\n",
       "      <td>103.896950</td>\n",
       "      <td>3.940702</td>\n",
       "      <td>1.265559</td>\n",
       "    </tr>\n",
       "    <tr>\n",
       "      <th>75%</th>\n",
       "      <td>2020.000000</td>\n",
       "      <td>7.700000</td>\n",
       "      <td>28470.146000</td>\n",
       "      <td>114.112050</td>\n",
       "      <td>11.110814</td>\n",
       "      <td>1.906986</td>\n",
       "    </tr>\n",
       "    <tr>\n",
       "      <th>max</th>\n",
       "      <td>2022.000000</td>\n",
       "      <td>23.400000</td>\n",
       "      <td>135682.794275</td>\n",
       "      <td>433.221600</td>\n",
       "      <td>42.523918</td>\n",
       "      <td>5.896540</td>\n",
       "    </tr>\n",
       "  </tbody>\n",
       "</table>\n",
       "</div>"
      ],
      "text/plain": [
       "              Year  Prevalence of Undernourishment (%)  \\\n",
       "count   600.000000                          480.000000   \n",
       "mean   2017.500000                            4.509583   \n",
       "std       2.874678                            5.952617   \n",
       "min    2013.000000                            0.000000   \n",
       "25%    2015.000000                            0.000000   \n",
       "50%    2017.500000                            0.000000   \n",
       "75%    2020.000000                            7.700000   \n",
       "max    2022.000000                           23.400000   \n",
       "\n",
       "       GDP per Capita t-1 (Current US$)  Food Price Index (May)  \\\n",
       "count                        600.000000              600.000000   \n",
       "mean                       20860.025968              110.921989   \n",
       "std                        24335.163044               25.219787   \n",
       "min                          570.909967               61.716051   \n",
       "25%                         3772.666933              100.129300   \n",
       "50%                        11345.080482              103.896950   \n",
       "75%                        28470.146000              114.112050   \n",
       "max                       135682.794275              433.221600   \n",
       "\n",
       "       Agri to GDP t-1 (%)  \\\n",
       "count           600.000000   \n",
       "mean              7.334404   \n",
       "std               7.002313   \n",
       "min               0.187098   \n",
       "25%               2.090128   \n",
       "50%               3.940702   \n",
       "75%              11.110814   \n",
       "max              42.523918   \n",
       "\n",
       "       Agri Raw Materials Import to Total Merchandise Import t-1 (%)  \n",
       "count                                         600.000000              \n",
       "mean                                            1.487031              \n",
       "std                                             0.832950              \n",
       "min                                             0.033175              \n",
       "25%                                             0.866231              \n",
       "50%                                             1.265559              \n",
       "75%                                             1.906986              \n",
       "max                                             5.896540              "
      ]
     },
     "execution_count": 33,
     "metadata": {},
     "output_type": "execute_result"
    }
   ],
   "source": [
    "train.describe()"
   ]
  },
  {
   "cell_type": "code",
   "execution_count": 46,
   "id": "89623ec0",
   "metadata": {
    "ExecuteTime": {
     "end_time": "2022-11-10T18:49:05.374654Z",
     "start_time": "2022-11-10T18:49:05.360653Z"
    }
   },
   "outputs": [],
   "source": [
    "train=train.drop(['C&Y','Year'],axis=1)"
   ]
  },
  {
   "cell_type": "code",
   "execution_count": 47,
   "id": "5a4616cf",
   "metadata": {
    "ExecuteTime": {
     "end_time": "2022-11-10T18:49:06.535725Z",
     "start_time": "2022-11-10T18:49:05.970121Z"
    }
   },
   "outputs": [
    {
     "data": {
      "text/plain": [
       "Text(0.5, 1.0, 'Correlation Heatmap')"
      ]
     },
     "execution_count": 47,
     "metadata": {},
     "output_type": "execute_result"
    },
    {
     "data": {
      "image/png": "[encoded data removed]",
      "text/plain": [
       "<Figure size 720x720 with 2 Axes>"
      ]
     },
     "metadata": {},
     "output_type": "display_data"
    }
   ],
   "source": [
    "plt.figure(figsize=(10, 10))\n",
    "\n",
    "heatmap = sns.heatmap(train.corr(), vmin=-1, vmax=1, annot=True)\n",
    "heatmap.set_title('Correlation Heatmap', fontdict={'fontsize':20}, pad=20)"
   ]
  },
  {
   "cell_type": "markdown",
   "id": "ae3ec0f4",
   "metadata": {
    "ExecuteTime": {
     "end_time": "2022-11-10T10:33:31.269458Z",
     "start_time": "2022-11-10T10:33:31.260429Z"
    }
   },
   "source": [
    "# Exploratory Model"
   ]
  },
  {
   "cell_type": "markdown",
   "id": "a77dd514",
   "metadata": {},
   "source": [
    "## WO Country"
   ]
  },
  {
   "cell_type": "code",
   "execution_count": 48,
   "id": "85a20235",
   "metadata": {
    "ExecuteTime": {
     "end_time": "2022-11-10T18:49:07.270697Z",
     "start_time": "2022-11-10T18:49:07.248709Z"
    }
   },
   "outputs": [],
   "source": [
    "#Dropping Index\n",
    "train1=train.drop(['Country'],axis=1)"
   ]
  },
  {
   "cell_type": "code",
   "execution_count": 49,
   "id": "99792142",
   "metadata": {
    "ExecuteTime": {
     "end_time": "2022-11-10T18:49:08.981519Z",
     "start_time": "2022-11-10T18:49:07.553463Z"
    }
   },
   "outputs": [
    {
     "data": {
      "text/html": [
       "<style type=\"text/css\">\n",
       "#T_6d252_row16_col1, #T_6d252_row42_col1 {\n",
       "  background-color: lightgreen;\n",
       "}\n",
       "</style>\n",
       "<table id=\"T_6d252_\">\n",
       "  <thead>\n",
       "    <tr>\n",
       "      <th class=\"blank level0\" >&nbsp;</th>\n",
       "      <th class=\"col_heading level0 col0\" >Description</th>\n",
       "      <th class=\"col_heading level0 col1\" >Value</th>\n",
       "    </tr>\n",
       "  </thead>\n",
       "  <tbody>\n",
       "    <tr>\n",
       "      <th id=\"T_6d252_level0_row0\" class=\"row_heading level0 row0\" >0</th>\n",
       "      <td id=\"T_6d252_row0_col0\" class=\"data row0 col0\" >session_id</td>\n",
       "      <td id=\"T_6d252_row0_col1\" class=\"data row0 col1\" >2886</td>\n",
       "    </tr>\n",
       "    <tr>\n",
       "      <th id=\"T_6d252_level0_row1\" class=\"row_heading level0 row1\" >1</th>\n",
       "      <td id=\"T_6d252_row1_col0\" class=\"data row1 col0\" >Target</td>\n",
       "      <td id=\"T_6d252_row1_col1\" class=\"data row1 col1\" >Prevalence of Undernourishment (%)</td>\n",
       "    </tr>\n",
       "    <tr>\n",
       "      <th id=\"T_6d252_level0_row2\" class=\"row_heading level0 row2\" >2</th>\n",
       "      <td id=\"T_6d252_row2_col0\" class=\"data row2 col0\" >Original Data</td>\n",
       "      <td id=\"T_6d252_row2_col1\" class=\"data row2 col1\" >(480, 5)</td>\n",
       "    </tr>\n",
       "    <tr>\n",
       "      <th id=\"T_6d252_level0_row3\" class=\"row_heading level0 row3\" >3</th>\n",
       "      <td id=\"T_6d252_row3_col0\" class=\"data row3 col0\" >Missing Values</td>\n",
       "      <td id=\"T_6d252_row3_col1\" class=\"data row3 col1\" >False</td>\n",
       "    </tr>\n",
       "    <tr>\n",
       "      <th id=\"T_6d252_level0_row4\" class=\"row_heading level0 row4\" >4</th>\n",
       "      <td id=\"T_6d252_row4_col0\" class=\"data row4 col0\" >Numeric Features</td>\n",
       "      <td id=\"T_6d252_row4_col1\" class=\"data row4 col1\" >4</td>\n",
       "    </tr>\n",
       "    <tr>\n",
       "      <th id=\"T_6d252_level0_row5\" class=\"row_heading level0 row5\" >5</th>\n",
       "      <td id=\"T_6d252_row5_col0\" class=\"data row5 col0\" >Categorical Features</td>\n",
       "      <td id=\"T_6d252_row5_col1\" class=\"data row5 col1\" >0</td>\n",
       "    </tr>\n",
       "    <tr>\n",
       "      <th id=\"T_6d252_level0_row6\" class=\"row_heading level0 row6\" >6</th>\n",
       "      <td id=\"T_6d252_row6_col0\" class=\"data row6 col0\" >Ordinal Features</td>\n",
       "      <td id=\"T_6d252_row6_col1\" class=\"data row6 col1\" >False</td>\n",
       "    </tr>\n",
       "    <tr>\n",
       "      <th id=\"T_6d252_level0_row7\" class=\"row_heading level0 row7\" >7</th>\n",
       "      <td id=\"T_6d252_row7_col0\" class=\"data row7 col0\" >High Cardinality Features</td>\n",
       "      <td id=\"T_6d252_row7_col1\" class=\"data row7 col1\" >False</td>\n",
       "    </tr>\n",
       "    <tr>\n",
       "      <th id=\"T_6d252_level0_row8\" class=\"row_heading level0 row8\" >8</th>\n",
       "      <td id=\"T_6d252_row8_col0\" class=\"data row8 col0\" >High Cardinality Method</td>\n",
       "      <td id=\"T_6d252_row8_col1\" class=\"data row8 col1\" >None</td>\n",
       "    </tr>\n",
       "    <tr>\n",
       "      <th id=\"T_6d252_level0_row9\" class=\"row_heading level0 row9\" >9</th>\n",
       "      <td id=\"T_6d252_row9_col0\" class=\"data row9 col0\" >Transformed Train Set</td>\n",
       "      <td id=\"T_6d252_row9_col1\" class=\"data row9 col1\" >(384, 4)</td>\n",
       "    </tr>\n",
       "    <tr>\n",
       "      <th id=\"T_6d252_level0_row10\" class=\"row_heading level0 row10\" >10</th>\n",
       "      <td id=\"T_6d252_row10_col0\" class=\"data row10 col0\" >Transformed Test Set</td>\n",
       "      <td id=\"T_6d252_row10_col1\" class=\"data row10 col1\" >(96, 4)</td>\n",
       "    </tr>\n",
       "    <tr>\n",
       "      <th id=\"T_6d252_level0_row11\" class=\"row_heading level0 row11\" >11</th>\n",
       "      <td id=\"T_6d252_row11_col0\" class=\"data row11 col0\" >Shuffle Train-Test</td>\n",
       "      <td id=\"T_6d252_row11_col1\" class=\"data row11 col1\" >True</td>\n",
       "    </tr>\n",
       "    <tr>\n",
       "      <th id=\"T_6d252_level0_row12\" class=\"row_heading level0 row12\" >12</th>\n",
       "      <td id=\"T_6d252_row12_col0\" class=\"data row12 col0\" >Stratify Train-Test</td>\n",
       "      <td id=\"T_6d252_row12_col1\" class=\"data row12 col1\" >False</td>\n",
       "    </tr>\n",
       "    <tr>\n",
       "      <th id=\"T_6d252_level0_row13\" class=\"row_heading level0 row13\" >13</th>\n",
       "      <td id=\"T_6d252_row13_col0\" class=\"data row13 col0\" >Fold Generator</td>\n",
       "      <td id=\"T_6d252_row13_col1\" class=\"data row13 col1\" >KFold</td>\n",
       "    </tr>\n",
       "    <tr>\n",
       "      <th id=\"T_6d252_level0_row14\" class=\"row_heading level0 row14\" >14</th>\n",
       "      <td id=\"T_6d252_row14_col0\" class=\"data row14 col0\" >Fold Number</td>\n",
       "      <td id=\"T_6d252_row14_col1\" class=\"data row14 col1\" >10</td>\n",
       "    </tr>\n",
       "    <tr>\n",
       "      <th id=\"T_6d252_level0_row15\" class=\"row_heading level0 row15\" >15</th>\n",
       "      <td id=\"T_6d252_row15_col0\" class=\"data row15 col0\" >CPU Jobs</td>\n",
       "      <td id=\"T_6d252_row15_col1\" class=\"data row15 col1\" >-1</td>\n",
       "    </tr>\n",
       "    <tr>\n",
       "      <th id=\"T_6d252_level0_row16\" class=\"row_heading level0 row16\" >16</th>\n",
       "      <td id=\"T_6d252_row16_col0\" class=\"data row16 col0\" >Use GPU</td>\n",
       "      <td id=\"T_6d252_row16_col1\" class=\"data row16 col1\" >True</td>\n",
       "    </tr>\n",
       "    <tr>\n",
       "      <th id=\"T_6d252_level0_row17\" class=\"row_heading level0 row17\" >17</th>\n",
       "      <td id=\"T_6d252_row17_col0\" class=\"data row17 col0\" >Log Experiment</td>\n",
       "      <td id=\"T_6d252_row17_col1\" class=\"data row17 col1\" >False</td>\n",
       "    </tr>\n",
       "    <tr>\n",
       "      <th id=\"T_6d252_level0_row18\" class=\"row_heading level0 row18\" >18</th>\n",
       "      <td id=\"T_6d252_row18_col0\" class=\"data row18 col0\" >Experiment Name</td>\n",
       "      <td id=\"T_6d252_row18_col1\" class=\"data row18 col1\" >reg-default-name</td>\n",
       "    </tr>\n",
       "    <tr>\n",
       "      <th id=\"T_6d252_level0_row19\" class=\"row_heading level0 row19\" >19</th>\n",
       "      <td id=\"T_6d252_row19_col0\" class=\"data row19 col0\" >USI</td>\n",
       "      <td id=\"T_6d252_row19_col1\" class=\"data row19 col1\" >68a8</td>\n",
       "    </tr>\n",
       "    <tr>\n",
       "      <th id=\"T_6d252_level0_row20\" class=\"row_heading level0 row20\" >20</th>\n",
       "      <td id=\"T_6d252_row20_col0\" class=\"data row20 col0\" >Imputation Type</td>\n",
       "      <td id=\"T_6d252_row20_col1\" class=\"data row20 col1\" >simple</td>\n",
       "    </tr>\n",
       "    <tr>\n",
       "      <th id=\"T_6d252_level0_row21\" class=\"row_heading level0 row21\" >21</th>\n",
       "      <td id=\"T_6d252_row21_col0\" class=\"data row21 col0\" >Iterative Imputation Iteration</td>\n",
       "      <td id=\"T_6d252_row21_col1\" class=\"data row21 col1\" >None</td>\n",
       "    </tr>\n",
       "    <tr>\n",
       "      <th id=\"T_6d252_level0_row22\" class=\"row_heading level0 row22\" >22</th>\n",
       "      <td id=\"T_6d252_row22_col0\" class=\"data row22 col0\" >Numeric Imputer</td>\n",
       "      <td id=\"T_6d252_row22_col1\" class=\"data row22 col1\" >mean</td>\n",
       "    </tr>\n",
       "    <tr>\n",
       "      <th id=\"T_6d252_level0_row23\" class=\"row_heading level0 row23\" >23</th>\n",
       "      <td id=\"T_6d252_row23_col0\" class=\"data row23 col0\" >Iterative Imputation Numeric Model</td>\n",
       "      <td id=\"T_6d252_row23_col1\" class=\"data row23 col1\" >None</td>\n",
       "    </tr>\n",
       "    <tr>\n",
       "      <th id=\"T_6d252_level0_row24\" class=\"row_heading level0 row24\" >24</th>\n",
       "      <td id=\"T_6d252_row24_col0\" class=\"data row24 col0\" >Categorical Imputer</td>\n",
       "      <td id=\"T_6d252_row24_col1\" class=\"data row24 col1\" >constant</td>\n",
       "    </tr>\n",
       "    <tr>\n",
       "      <th id=\"T_6d252_level0_row25\" class=\"row_heading level0 row25\" >25</th>\n",
       "      <td id=\"T_6d252_row25_col0\" class=\"data row25 col0\" >Iterative Imputation Categorical Model</td>\n",
       "      <td id=\"T_6d252_row25_col1\" class=\"data row25 col1\" >None</td>\n",
       "    </tr>\n",
       "    <tr>\n",
       "      <th id=\"T_6d252_level0_row26\" class=\"row_heading level0 row26\" >26</th>\n",
       "      <td id=\"T_6d252_row26_col0\" class=\"data row26 col0\" >Unknown Categoricals Handling</td>\n",
       "      <td id=\"T_6d252_row26_col1\" class=\"data row26 col1\" >least_frequent</td>\n",
       "    </tr>\n",
       "    <tr>\n",
       "      <th id=\"T_6d252_level0_row27\" class=\"row_heading level0 row27\" >27</th>\n",
       "      <td id=\"T_6d252_row27_col0\" class=\"data row27 col0\" >Normalize</td>\n",
       "      <td id=\"T_6d252_row27_col1\" class=\"data row27 col1\" >False</td>\n",
       "    </tr>\n",
       "    <tr>\n",
       "      <th id=\"T_6d252_level0_row28\" class=\"row_heading level0 row28\" >28</th>\n",
       "      <td id=\"T_6d252_row28_col0\" class=\"data row28 col0\" >Normalize Method</td>\n",
       "      <td id=\"T_6d252_row28_col1\" class=\"data row28 col1\" >None</td>\n",
       "    </tr>\n",
       "    <tr>\n",
       "      <th id=\"T_6d252_level0_row29\" class=\"row_heading level0 row29\" >29</th>\n",
       "      <td id=\"T_6d252_row29_col0\" class=\"data row29 col0\" >Transformation</td>\n",
       "      <td id=\"T_6d252_row29_col1\" class=\"data row29 col1\" >False</td>\n",
       "    </tr>\n",
       "    <tr>\n",
       "      <th id=\"T_6d252_level0_row30\" class=\"row_heading level0 row30\" >30</th>\n",
       "      <td id=\"T_6d252_row30_col0\" class=\"data row30 col0\" >Transformation Method</td>\n",
       "      <td id=\"T_6d252_row30_col1\" class=\"data row30 col1\" >None</td>\n",
       "    </tr>\n",
       "    <tr>\n",
       "      <th id=\"T_6d252_level0_row31\" class=\"row_heading level0 row31\" >31</th>\n",
       "      <td id=\"T_6d252_row31_col0\" class=\"data row31 col0\" >PCA</td>\n",
       "      <td id=\"T_6d252_row31_col1\" class=\"data row31 col1\" >False</td>\n",
       "    </tr>\n",
       "    <tr>\n",
       "      <th id=\"T_6d252_level0_row32\" class=\"row_heading level0 row32\" >32</th>\n",
       "      <td id=\"T_6d252_row32_col0\" class=\"data row32 col0\" >PCA Method</td>\n",
       "      <td id=\"T_6d252_row32_col1\" class=\"data row32 col1\" >None</td>\n",
       "    </tr>\n",
       "    <tr>\n",
       "      <th id=\"T_6d252_level0_row33\" class=\"row_heading level0 row33\" >33</th>\n",
       "      <td id=\"T_6d252_row33_col0\" class=\"data row33 col0\" >PCA Components</td>\n",
       "      <td id=\"T_6d252_row33_col1\" class=\"data row33 col1\" >None</td>\n",
       "    </tr>\n",
       "    <tr>\n",
       "      <th id=\"T_6d252_level0_row34\" class=\"row_heading level0 row34\" >34</th>\n",
       "      <td id=\"T_6d252_row34_col0\" class=\"data row34 col0\" >Ignore Low Variance</td>\n",
       "      <td id=\"T_6d252_row34_col1\" class=\"data row34 col1\" >False</td>\n",
       "    </tr>\n",
       "    <tr>\n",
       "      <th id=\"T_6d252_level0_row35\" class=\"row_heading level0 row35\" >35</th>\n",
       "      <td id=\"T_6d252_row35_col0\" class=\"data row35 col0\" >Combine Rare Levels</td>\n",
       "      <td id=\"T_6d252_row35_col1\" class=\"data row35 col1\" >False</td>\n",
       "    </tr>\n",
       "    <tr>\n",
       "      <th id=\"T_6d252_level0_row36\" class=\"row_heading level0 row36\" >36</th>\n",
       "      <td id=\"T_6d252_row36_col0\" class=\"data row36 col0\" >Rare Level Threshold</td>\n",
       "      <td id=\"T_6d252_row36_col1\" class=\"data row36 col1\" >None</td>\n",
       "    </tr>\n",
       "    <tr>\n",
       "      <th id=\"T_6d252_level0_row37\" class=\"row_heading level0 row37\" >37</th>\n",
       "      <td id=\"T_6d252_row37_col0\" class=\"data row37 col0\" >Numeric Binning</td>\n",
       "      <td id=\"T_6d252_row37_col1\" class=\"data row37 col1\" >False</td>\n",
       "    </tr>\n",
       "    <tr>\n",
       "      <th id=\"T_6d252_level0_row38\" class=\"row_heading level0 row38\" >38</th>\n",
       "      <td id=\"T_6d252_row38_col0\" class=\"data row38 col0\" >Remove Outliers</td>\n",
       "      <td id=\"T_6d252_row38_col1\" class=\"data row38 col1\" >False</td>\n",
       "    </tr>\n",
       "    <tr>\n",
       "      <th id=\"T_6d252_level0_row39\" class=\"row_heading level0 row39\" >39</th>\n",
       "      <td id=\"T_6d252_row39_col0\" class=\"data row39 col0\" >Outliers Threshold</td>\n",
       "      <td id=\"T_6d252_row39_col1\" class=\"data row39 col1\" >None</td>\n",
       "    </tr>\n",
       "    <tr>\n",
       "      <th id=\"T_6d252_level0_row40\" class=\"row_heading level0 row40\" >40</th>\n",
       "      <td id=\"T_6d252_row40_col0\" class=\"data row40 col0\" >Remove Multicollinearity</td>\n",
       "      <td id=\"T_6d252_row40_col1\" class=\"data row40 col1\" >False</td>\n",
       "    </tr>\n",
       "    <tr>\n",
       "      <th id=\"T_6d252_level0_row41\" class=\"row_heading level0 row41\" >41</th>\n",
       "      <td id=\"T_6d252_row41_col0\" class=\"data row41 col0\" >Multicollinearity Threshold</td>\n",
       "      <td id=\"T_6d252_row41_col1\" class=\"data row41 col1\" >None</td>\n",
       "    </tr>\n",
       "    <tr>\n",
       "      <th id=\"T_6d252_level0_row42\" class=\"row_heading level0 row42\" >42</th>\n",
       "      <td id=\"T_6d252_row42_col0\" class=\"data row42 col0\" >Remove Perfect Collinearity</td>\n",
       "      <td id=\"T_6d252_row42_col1\" class=\"data row42 col1\" >True</td>\n",
       "    </tr>\n",
       "    <tr>\n",
       "      <th id=\"T_6d252_level0_row43\" class=\"row_heading level0 row43\" >43</th>\n",
       "      <td id=\"T_6d252_row43_col0\" class=\"data row43 col0\" >Clustering</td>\n",
       "      <td id=\"T_6d252_row43_col1\" class=\"data row43 col1\" >False</td>\n",
       "    </tr>\n",
       "    <tr>\n",
       "      <th id=\"T_6d252_level0_row44\" class=\"row_heading level0 row44\" >44</th>\n",
       "      <td id=\"T_6d252_row44_col0\" class=\"data row44 col0\" >Clustering Iteration</td>\n",
       "      <td id=\"T_6d252_row44_col1\" class=\"data row44 col1\" >None</td>\n",
       "    </tr>\n",
       "    <tr>\n",
       "      <th id=\"T_6d252_level0_row45\" class=\"row_heading level0 row45\" >45</th>\n",
       "      <td id=\"T_6d252_row45_col0\" class=\"data row45 col0\" >Polynomial Features</td>\n",
       "      <td id=\"T_6d252_row45_col1\" class=\"data row45 col1\" >False</td>\n",
       "    </tr>\n",
       "    <tr>\n",
       "      <th id=\"T_6d252_level0_row46\" class=\"row_heading level0 row46\" >46</th>\n",
       "      <td id=\"T_6d252_row46_col0\" class=\"data row46 col0\" >Polynomial Degree</td>\n",
       "      <td id=\"T_6d252_row46_col1\" class=\"data row46 col1\" >None</td>\n",
       "    </tr>\n",
       "    <tr>\n",
       "      <th id=\"T_6d252_level0_row47\" class=\"row_heading level0 row47\" >47</th>\n",
       "      <td id=\"T_6d252_row47_col0\" class=\"data row47 col0\" >Trignometry Features</td>\n",
       "      <td id=\"T_6d252_row47_col1\" class=\"data row47 col1\" >False</td>\n",
       "    </tr>\n",
       "    <tr>\n",
       "      <th id=\"T_6d252_level0_row48\" class=\"row_heading level0 row48\" >48</th>\n",
       "      <td id=\"T_6d252_row48_col0\" class=\"data row48 col0\" >Polynomial Threshold</td>\n",
       "      <td id=\"T_6d252_row48_col1\" class=\"data row48 col1\" >None</td>\n",
       "    </tr>\n",
       "    <tr>\n",
       "      <th id=\"T_6d252_level0_row49\" class=\"row_heading level0 row49\" >49</th>\n",
       "      <td id=\"T_6d252_row49_col0\" class=\"data row49 col0\" >Group Features</td>\n",
       "      <td id=\"T_6d252_row49_col1\" class=\"data row49 col1\" >False</td>\n",
       "    </tr>\n",
       "    <tr>\n",
       "      <th id=\"T_6d252_level0_row50\" class=\"row_heading level0 row50\" >50</th>\n",
       "      <td id=\"T_6d252_row50_col0\" class=\"data row50 col0\" >Feature Selection</td>\n",
       "      <td id=\"T_6d252_row50_col1\" class=\"data row50 col1\" >False</td>\n",
       "    </tr>\n",
       "    <tr>\n",
       "      <th id=\"T_6d252_level0_row51\" class=\"row_heading level0 row51\" >51</th>\n",
       "      <td id=\"T_6d252_row51_col0\" class=\"data row51 col0\" >Feature Selection Method</td>\n",
       "      <td id=\"T_6d252_row51_col1\" class=\"data row51 col1\" >classic</td>\n",
       "    </tr>\n",
       "    <tr>\n",
       "      <th id=\"T_6d252_level0_row52\" class=\"row_heading level0 row52\" >52</th>\n",
       "      <td id=\"T_6d252_row52_col0\" class=\"data row52 col0\" >Features Selection Threshold</td>\n",
       "      <td id=\"T_6d252_row52_col1\" class=\"data row52 col1\" >None</td>\n",
       "    </tr>\n",
       "    <tr>\n",
       "      <th id=\"T_6d252_level0_row53\" class=\"row_heading level0 row53\" >53</th>\n",
       "      <td id=\"T_6d252_row53_col0\" class=\"data row53 col0\" >Feature Interaction</td>\n",
       "      <td id=\"T_6d252_row53_col1\" class=\"data row53 col1\" >False</td>\n",
       "    </tr>\n",
       "    <tr>\n",
       "      <th id=\"T_6d252_level0_row54\" class=\"row_heading level0 row54\" >54</th>\n",
       "      <td id=\"T_6d252_row54_col0\" class=\"data row54 col0\" >Feature Ratio</td>\n",
       "      <td id=\"T_6d252_row54_col1\" class=\"data row54 col1\" >False</td>\n",
       "    </tr>\n",
       "    <tr>\n",
       "      <th id=\"T_6d252_level0_row55\" class=\"row_heading level0 row55\" >55</th>\n",
       "      <td id=\"T_6d252_row55_col0\" class=\"data row55 col0\" >Interaction Threshold</td>\n",
       "      <td id=\"T_6d252_row55_col1\" class=\"data row55 col1\" >None</td>\n",
       "    </tr>\n",
       "    <tr>\n",
       "      <th id=\"T_6d252_level0_row56\" class=\"row_heading level0 row56\" >56</th>\n",
       "      <td id=\"T_6d252_row56_col0\" class=\"data row56 col0\" >Transform Target</td>\n",
       "      <td id=\"T_6d252_row56_col1\" class=\"data row56 col1\" >False</td>\n",
       "    </tr>\n",
       "    <tr>\n",
       "      <th id=\"T_6d252_level0_row57\" class=\"row_heading level0 row57\" >57</th>\n",
       "      <td id=\"T_6d252_row57_col0\" class=\"data row57 col0\" >Transform Target Method</td>\n",
       "      <td id=\"T_6d252_row57_col1\" class=\"data row57 col1\" >box-cox</td>\n",
       "    </tr>\n",
       "  </tbody>\n",
       "</table>\n"
      ],
      "text/plain": [
       "<pandas.io.formats.style.Styler at 0x193d9a6cfd0>"
      ]
     },
     "metadata": {},
     "output_type": "display_data"
    }
   ],
   "source": [
    "model_exp = setup(train1, target = 'Prevalence of Undernourishment (%)', use_gpu=True, train_size = 0.8)"
   ]
  },
  {
   "cell_type": "code",
   "execution_count": 11,
   "id": "0300ad82",
   "metadata": {
    "ExecuteTime": {
     "end_time": "2022-11-10T18:25:02.286863Z",
     "start_time": "2022-11-10T18:23:44.265634Z"
    }
   },
   "outputs": [
    {
     "data": {
      "text/html": [
       "<style type=\"text/css\">\n",
       "#T_15594_ th {\n",
       "  text-align: left;\n",
       "}\n",
       "#T_15594_row0_col0, #T_15594_row1_col0, #T_15594_row1_col1, #T_15594_row1_col2, #T_15594_row1_col3, #T_15594_row1_col4, #T_15594_row1_col5, #T_15594_row1_col6, #T_15594_row2_col0, #T_15594_row2_col1, #T_15594_row2_col2, #T_15594_row2_col3, #T_15594_row2_col4, #T_15594_row2_col5, #T_15594_row2_col6, #T_15594_row3_col0, #T_15594_row3_col1, #T_15594_row3_col2, #T_15594_row3_col3, #T_15594_row3_col4, #T_15594_row3_col5, #T_15594_row3_col6, #T_15594_row4_col0, #T_15594_row4_col1, #T_15594_row4_col2, #T_15594_row4_col3, #T_15594_row4_col4, #T_15594_row4_col5, #T_15594_row4_col6, #T_15594_row5_col0, #T_15594_row5_col1, #T_15594_row5_col2, #T_15594_row5_col3, #T_15594_row5_col4, #T_15594_row5_col5, #T_15594_row5_col6, #T_15594_row6_col0, #T_15594_row6_col1, #T_15594_row6_col2, #T_15594_row6_col3, #T_15594_row6_col4, #T_15594_row6_col5, #T_15594_row6_col6, #T_15594_row7_col0, #T_15594_row7_col1, #T_15594_row7_col2, #T_15594_row7_col3, #T_15594_row7_col4, #T_15594_row7_col5, #T_15594_row7_col6, #T_15594_row8_col0, #T_15594_row8_col1, #T_15594_row8_col2, #T_15594_row8_col3, #T_15594_row8_col4, #T_15594_row8_col5, #T_15594_row8_col6, #T_15594_row9_col0, #T_15594_row9_col1, #T_15594_row9_col2, #T_15594_row9_col3, #T_15594_row9_col4, #T_15594_row9_col5, #T_15594_row9_col6, #T_15594_row10_col0, #T_15594_row10_col1, #T_15594_row10_col2, #T_15594_row10_col3, #T_15594_row10_col4, #T_15594_row10_col5, #T_15594_row10_col6, #T_15594_row11_col0, #T_15594_row11_col1, #T_15594_row11_col2, #T_15594_row11_col3, #T_15594_row11_col4, #T_15594_row11_col5, #T_15594_row11_col6, #T_15594_row12_col0, #T_15594_row12_col1, #T_15594_row12_col2, #T_15594_row12_col3, #T_15594_row12_col4, #T_15594_row12_col5, #T_15594_row12_col6, #T_15594_row13_col0, #T_15594_row13_col1, #T_15594_row13_col2, #T_15594_row13_col3, #T_15594_row13_col4, #T_15594_row13_col5, #T_15594_row13_col6, #T_15594_row14_col0, #T_15594_row14_col1, #T_15594_row14_col2, #T_15594_row14_col3, #T_15594_row14_col4, #T_15594_row14_col5, #T_15594_row14_col6, #T_15594_row15_col0, #T_15594_row15_col1, #T_15594_row15_col2, #T_15594_row15_col3, #T_15594_row15_col4, #T_15594_row15_col5, #T_15594_row15_col6, #T_15594_row16_col0, #T_15594_row16_col1, #T_15594_row16_col2, #T_15594_row16_col3, #T_15594_row16_col4, #T_15594_row16_col5, #T_15594_row16_col6, #T_15594_row17_col0, #T_15594_row17_col1, #T_15594_row17_col2, #T_15594_row17_col3, #T_15594_row17_col4, #T_15594_row17_col5, #T_15594_row17_col6, #T_15594_row18_col0, #T_15594_row18_col1, #T_15594_row18_col2, #T_15594_row18_col3, #T_15594_row18_col4, #T_15594_row18_col5, #T_15594_row18_col6, #T_15594_row19_col0, #T_15594_row19_col1, #T_15594_row19_col2, #T_15594_row19_col3, #T_15594_row19_col4, #T_15594_row19_col5, #T_15594_row19_col6 {\n",
       "  text-align: left;\n",
       "}\n",
       "#T_15594_row0_col1, #T_15594_row0_col2, #T_15594_row0_col3, #T_15594_row0_col4, #T_15594_row0_col5, #T_15594_row0_col6 {\n",
       "  text-align: left;\n",
       "  background-color: yellow;\n",
       "}\n",
       "#T_15594_row0_col7, #T_15594_row1_col7, #T_15594_row2_col7, #T_15594_row3_col7, #T_15594_row4_col7, #T_15594_row5_col7, #T_15594_row6_col7, #T_15594_row7_col7, #T_15594_row8_col7, #T_15594_row9_col7, #T_15594_row10_col7, #T_15594_row11_col7, #T_15594_row12_col7, #T_15594_row13_col7, #T_15594_row14_col7, #T_15594_row15_col7, #T_15594_row16_col7, #T_15594_row17_col7, #T_15594_row19_col7 {\n",
       "  text-align: left;\n",
       "  background-color: lightgrey;\n",
       "}\n",
       "#T_15594_row18_col7 {\n",
       "  text-align: left;\n",
       "  background-color: yellow;\n",
       "  background-color: lightgrey;\n",
       "}\n",
       "</style>\n",
       "<table id=\"T_15594_\">\n",
       "  <thead>\n",
       "    <tr>\n",
       "      <th class=\"blank level0\" >&nbsp;</th>\n",
       "      <th class=\"col_heading level0 col0\" >Model</th>\n",
       "      <th class=\"col_heading level0 col1\" >MAE</th>\n",
       "      <th class=\"col_heading level0 col2\" >MSE</th>\n",
       "      <th class=\"col_heading level0 col3\" >RMSE</th>\n",
       "      <th class=\"col_heading level0 col4\" >R2</th>\n",
       "      <th class=\"col_heading level0 col5\" >RMSLE</th>\n",
       "      <th class=\"col_heading level0 col6\" >MAPE</th>\n",
       "      <th class=\"col_heading level0 col7\" >TT (Sec)</th>\n",
       "    </tr>\n",
       "  </thead>\n",
       "  <tbody>\n",
       "    <tr>\n",
       "      <th id=\"T_15594_level0_row0\" class=\"row_heading level0 row0\" >et</th>\n",
       "      <td id=\"T_15594_row0_col0\" class=\"data row0 col0\" >Extra Trees Regressor</td>\n",
       "      <td id=\"T_15594_row0_col1\" class=\"data row0 col1\" >1.1058</td>\n",
       "      <td id=\"T_15594_row0_col2\" class=\"data row0 col2\" >4.2754</td>\n",
       "      <td id=\"T_15594_row0_col3\" class=\"data row0 col3\" >2.0069</td>\n",
       "      <td id=\"T_15594_row0_col4\" class=\"data row0 col4\" >0.8609</td>\n",
       "      <td id=\"T_15594_row0_col5\" class=\"data row0 col5\" >0.4259</td>\n",
       "      <td id=\"T_15594_row0_col6\" class=\"data row0 col6\" >0.2452</td>\n",
       "      <td id=\"T_15594_row0_col7\" class=\"data row0 col7\" >1.0540</td>\n",
       "    </tr>\n",
       "    <tr>\n",
       "      <th id=\"T_15594_level0_row1\" class=\"row_heading level0 row1\" >catboost</th>\n",
       "      <td id=\"T_15594_row1_col0\" class=\"data row1 col0\" >CatBoost Regressor</td>\n",
       "      <td id=\"T_15594_row1_col1\" class=\"data row1 col1\" >1.3033</td>\n",
       "      <td id=\"T_15594_row1_col2\" class=\"data row1 col2\" >5.3191</td>\n",
       "      <td id=\"T_15594_row1_col3\" class=\"data row1 col3\" >2.2916</td>\n",
       "      <td id=\"T_15594_row1_col4\" class=\"data row1 col4\" >0.8230</td>\n",
       "      <td id=\"T_15594_row1_col5\" class=\"data row1 col5\" >0.4786</td>\n",
       "      <td id=\"T_15594_row1_col6\" class=\"data row1 col6\" >0.2688</td>\n",
       "      <td id=\"T_15594_row1_col7\" class=\"data row1 col7\" >2.3250</td>\n",
       "    </tr>\n",
       "    <tr>\n",
       "      <th id=\"T_15594_level0_row2\" class=\"row_heading level0 row2\" >rf</th>\n",
       "      <td id=\"T_15594_row2_col0\" class=\"data row2 col0\" >Random Forest Regressor</td>\n",
       "      <td id=\"T_15594_row2_col1\" class=\"data row2 col1\" >1.2644</td>\n",
       "      <td id=\"T_15594_row2_col2\" class=\"data row2 col2\" >5.6690</td>\n",
       "      <td id=\"T_15594_row2_col3\" class=\"data row2 col3\" >2.3473</td>\n",
       "      <td id=\"T_15594_row2_col4\" class=\"data row2 col4\" >0.8089</td>\n",
       "      <td id=\"T_15594_row2_col5\" class=\"data row2 col5\" >0.4502</td>\n",
       "      <td id=\"T_15594_row2_col6\" class=\"data row2 col6\" >0.2841</td>\n",
       "      <td id=\"T_15594_row2_col7\" class=\"data row2 col7\" >1.0540</td>\n",
       "    </tr>\n",
       "    <tr>\n",
       "      <th id=\"T_15594_level0_row3\" class=\"row_heading level0 row3\" >xgboost</th>\n",
       "      <td id=\"T_15594_row3_col0\" class=\"data row3 col0\" >Extreme Gradient Boosting</td>\n",
       "      <td id=\"T_15594_row3_col1\" class=\"data row3 col1\" >1.3222</td>\n",
       "      <td id=\"T_15594_row3_col2\" class=\"data row3 col2\" >6.6253</td>\n",
       "      <td id=\"T_15594_row3_col3\" class=\"data row3 col3\" >2.5323</td>\n",
       "      <td id=\"T_15594_row3_col4\" class=\"data row3 col4\" >0.7813</td>\n",
       "      <td id=\"T_15594_row3_col5\" class=\"data row3 col5\" >0.4758</td>\n",
       "      <td id=\"T_15594_row3_col6\" class=\"data row3 col6\" >0.3084</td>\n",
       "      <td id=\"T_15594_row3_col7\" class=\"data row3 col7\" >0.7680</td>\n",
       "    </tr>\n",
       "    <tr>\n",
       "      <th id=\"T_15594_level0_row4\" class=\"row_heading level0 row4\" >gbr</th>\n",
       "      <td id=\"T_15594_row4_col0\" class=\"data row4 col0\" >Gradient Boosting Regressor</td>\n",
       "      <td id=\"T_15594_row4_col1\" class=\"data row4 col1\" >1.4739</td>\n",
       "      <td id=\"T_15594_row4_col2\" class=\"data row4 col2\" >6.8430</td>\n",
       "      <td id=\"T_15594_row4_col3\" class=\"data row4 col3\" >2.5884</td>\n",
       "      <td id=\"T_15594_row4_col4\" class=\"data row4 col4\" >0.7807</td>\n",
       "      <td id=\"T_15594_row4_col5\" class=\"data row4 col5\" >0.5278</td>\n",
       "      <td id=\"T_15594_row4_col6\" class=\"data row4 col6\" >0.3102</td>\n",
       "      <td id=\"T_15594_row4_col7\" class=\"data row4 col7\" >0.1190</td>\n",
       "    </tr>\n",
       "    <tr>\n",
       "      <th id=\"T_15594_level0_row5\" class=\"row_heading level0 row5\" >lightgbm</th>\n",
       "      <td id=\"T_15594_row5_col0\" class=\"data row5 col0\" >Light Gradient Boosting Machine</td>\n",
       "      <td id=\"T_15594_row5_col1\" class=\"data row5 col1\" >1.7677</td>\n",
       "      <td id=\"T_15594_row5_col2\" class=\"data row5 col2\" >8.3364</td>\n",
       "      <td id=\"T_15594_row5_col3\" class=\"data row5 col3\" >2.8463</td>\n",
       "      <td id=\"T_15594_row5_col4\" class=\"data row5 col4\" >0.7325</td>\n",
       "      <td id=\"T_15594_row5_col5\" class=\"data row5 col5\" >0.5564</td>\n",
       "      <td id=\"T_15594_row5_col6\" class=\"data row5 col6\" >0.3922</td>\n",
       "      <td id=\"T_15594_row5_col7\" class=\"data row5 col7\" >0.9090</td>\n",
       "    </tr>\n",
       "    <tr>\n",
       "      <th id=\"T_15594_level0_row6\" class=\"row_heading level0 row6\" >ada</th>\n",
       "      <td id=\"T_15594_row6_col0\" class=\"data row6 col0\" >AdaBoost Regressor</td>\n",
       "      <td id=\"T_15594_row6_col1\" class=\"data row6 col1\" >2.4949</td>\n",
       "      <td id=\"T_15594_row6_col2\" class=\"data row6 col2\" >9.9187</td>\n",
       "      <td id=\"T_15594_row6_col3\" class=\"data row6 col3\" >3.1412</td>\n",
       "      <td id=\"T_15594_row6_col4\" class=\"data row6 col4\" >0.6727</td>\n",
       "      <td id=\"T_15594_row6_col5\" class=\"data row6 col5\" >0.8367</td>\n",
       "      <td id=\"T_15594_row6_col6\" class=\"data row6 col6\" >0.4373</td>\n",
       "      <td id=\"T_15594_row6_col7\" class=\"data row6 col7\" >0.1110</td>\n",
       "    </tr>\n",
       "    <tr>\n",
       "      <th id=\"T_15594_level0_row7\" class=\"row_heading level0 row7\" >dt</th>\n",
       "      <td id=\"T_15594_row7_col0\" class=\"data row7 col0\" >Decision Tree Regressor</td>\n",
       "      <td id=\"T_15594_row7_col1\" class=\"data row7 col1\" >1.3453</td>\n",
       "      <td id=\"T_15594_row7_col2\" class=\"data row7 col2\" >10.0211</td>\n",
       "      <td id=\"T_15594_row7_col3\" class=\"data row7 col3\" >3.1264</td>\n",
       "      <td id=\"T_15594_row7_col4\" class=\"data row7 col4\" >0.6677</td>\n",
       "      <td id=\"T_15594_row7_col5\" class=\"data row7 col5\" >0.5571</td>\n",
       "      <td id=\"T_15594_row7_col6\" class=\"data row7 col6\" >0.3246</td>\n",
       "      <td id=\"T_15594_row7_col7\" class=\"data row7 col7\" >0.0120</td>\n",
       "    </tr>\n",
       "    <tr>\n",
       "      <th id=\"T_15594_level0_row8\" class=\"row_heading level0 row8\" >knn</th>\n",
       "      <td id=\"T_15594_row8_col0\" class=\"data row8 col0\" >K Neighbors Regressor</td>\n",
       "      <td id=\"T_15594_row8_col1\" class=\"data row8 col1\" >2.0849</td>\n",
       "      <td id=\"T_15594_row8_col2\" class=\"data row8 col2\" >10.6309</td>\n",
       "      <td id=\"T_15594_row8_col3\" class=\"data row8 col3\" >3.2387</td>\n",
       "      <td id=\"T_15594_row8_col4\" class=\"data row8 col4\" >0.6557</td>\n",
       "      <td id=\"T_15594_row8_col5\" class=\"data row8 col5\" >0.7003</td>\n",
       "      <td id=\"T_15594_row8_col6\" class=\"data row8 col6\" >0.4547</td>\n",
       "      <td id=\"T_15594_row8_col7\" class=\"data row8 col7\" >0.4320</td>\n",
       "    </tr>\n",
       "    <tr>\n",
       "      <th id=\"T_15594_level0_row9\" class=\"row_heading level0 row9\" >ridge</th>\n",
       "      <td id=\"T_15594_row9_col0\" class=\"data row9 col0\" >Ridge Regression</td>\n",
       "      <td id=\"T_15594_row9_col1\" class=\"data row9 col1\" >2.8508</td>\n",
       "      <td id=\"T_15594_row9_col2\" class=\"data row9 col2\" >15.3668</td>\n",
       "      <td id=\"T_15594_row9_col3\" class=\"data row9 col3\" >3.8816</td>\n",
       "      <td id=\"T_15594_row9_col4\" class=\"data row9 col4\" >0.5275</td>\n",
       "      <td id=\"T_15594_row9_col5\" class=\"data row9 col5\" >0.8261</td>\n",
       "      <td id=\"T_15594_row9_col6\" class=\"data row9 col6\" >0.5711</td>\n",
       "      <td id=\"T_15594_row9_col7\" class=\"data row9 col7\" >0.0100</td>\n",
       "    </tr>\n",
       "    <tr>\n",
       "      <th id=\"T_15594_level0_row10\" class=\"row_heading level0 row10\" >lr</th>\n",
       "      <td id=\"T_15594_row10_col0\" class=\"data row10 col0\" >Linear Regression</td>\n",
       "      <td id=\"T_15594_row10_col1\" class=\"data row10 col1\" >2.8506</td>\n",
       "      <td id=\"T_15594_row10_col2\" class=\"data row10 col2\" >15.3674</td>\n",
       "      <td id=\"T_15594_row10_col3\" class=\"data row10 col3\" >3.8817</td>\n",
       "      <td id=\"T_15594_row10_col4\" class=\"data row10 col4\" >0.5275</td>\n",
       "      <td id=\"T_15594_row10_col5\" class=\"data row10 col5\" >0.8261</td>\n",
       "      <td id=\"T_15594_row10_col6\" class=\"data row10 col6\" >0.5711</td>\n",
       "      <td id=\"T_15594_row10_col7\" class=\"data row10 col7\" >0.0100</td>\n",
       "    </tr>\n",
       "    <tr>\n",
       "      <th id=\"T_15594_level0_row11\" class=\"row_heading level0 row11\" >lar</th>\n",
       "      <td id=\"T_15594_row11_col0\" class=\"data row11 col0\" >Least Angle Regression</td>\n",
       "      <td id=\"T_15594_row11_col1\" class=\"data row11 col1\" >2.8506</td>\n",
       "      <td id=\"T_15594_row11_col2\" class=\"data row11 col2\" >15.3674</td>\n",
       "      <td id=\"T_15594_row11_col3\" class=\"data row11 col3\" >3.8817</td>\n",
       "      <td id=\"T_15594_row11_col4\" class=\"data row11 col4\" >0.5275</td>\n",
       "      <td id=\"T_15594_row11_col5\" class=\"data row11 col5\" >0.8261</td>\n",
       "      <td id=\"T_15594_row11_col6\" class=\"data row11 col6\" >0.5711</td>\n",
       "      <td id=\"T_15594_row11_col7\" class=\"data row11 col7\" >0.0130</td>\n",
       "    </tr>\n",
       "    <tr>\n",
       "      <th id=\"T_15594_level0_row12\" class=\"row_heading level0 row12\" >br</th>\n",
       "      <td id=\"T_15594_row12_col0\" class=\"data row12 col0\" >Bayesian Ridge</td>\n",
       "      <td id=\"T_15594_row12_col1\" class=\"data row12 col1\" >2.8661</td>\n",
       "      <td id=\"T_15594_row12_col2\" class=\"data row12 col2\" >15.3880</td>\n",
       "      <td id=\"T_15594_row12_col3\" class=\"data row12 col3\" >3.8854</td>\n",
       "      <td id=\"T_15594_row12_col4\" class=\"data row12 col4\" >0.5266</td>\n",
       "      <td id=\"T_15594_row12_col5\" class=\"data row12 col5\" >0.8320</td>\n",
       "      <td id=\"T_15594_row12_col6\" class=\"data row12 col6\" >0.5701</td>\n",
       "      <td id=\"T_15594_row12_col7\" class=\"data row12 col7\" >0.0100</td>\n",
       "    </tr>\n",
       "    <tr>\n",
       "      <th id=\"T_15594_level0_row13\" class=\"row_heading level0 row13\" >lasso</th>\n",
       "      <td id=\"T_15594_row13_col0\" class=\"data row13 col0\" >Lasso Regression</td>\n",
       "      <td id=\"T_15594_row13_col1\" class=\"data row13 col1\" >2.9495</td>\n",
       "      <td id=\"T_15594_row13_col2\" class=\"data row13 col2\" >15.6746</td>\n",
       "      <td id=\"T_15594_row13_col3\" class=\"data row13 col3\" >3.9245</td>\n",
       "      <td id=\"T_15594_row13_col4\" class=\"data row13 col4\" >0.5171</td>\n",
       "      <td id=\"T_15594_row13_col5\" class=\"data row13 col5\" >0.8625</td>\n",
       "      <td id=\"T_15594_row13_col6\" class=\"data row13 col6\" >0.5655</td>\n",
       "      <td id=\"T_15594_row13_col7\" class=\"data row13 col7\" >0.0120</td>\n",
       "    </tr>\n",
       "    <tr>\n",
       "      <th id=\"T_15594_level0_row14\" class=\"row_heading level0 row14\" >en</th>\n",
       "      <td id=\"T_15594_row14_col0\" class=\"data row14 col0\" >Elastic Net</td>\n",
       "      <td id=\"T_15594_row14_col1\" class=\"data row14 col1\" >2.9425</td>\n",
       "      <td id=\"T_15594_row14_col2\" class=\"data row14 col2\" >15.6792</td>\n",
       "      <td id=\"T_15594_row14_col3\" class=\"data row14 col3\" >3.9249</td>\n",
       "      <td id=\"T_15594_row14_col4\" class=\"data row14 col4\" >0.5168</td>\n",
       "      <td id=\"T_15594_row14_col5\" class=\"data row14 col5\" >0.8581</td>\n",
       "      <td id=\"T_15594_row14_col6\" class=\"data row14 col6\" >0.5690</td>\n",
       "      <td id=\"T_15594_row14_col7\" class=\"data row14 col7\" >0.0110</td>\n",
       "    </tr>\n",
       "    <tr>\n",
       "      <th id=\"T_15594_level0_row15\" class=\"row_heading level0 row15\" >omp</th>\n",
       "      <td id=\"T_15594_row15_col0\" class=\"data row15 col0\" >Orthogonal Matching Pursuit</td>\n",
       "      <td id=\"T_15594_row15_col1\" class=\"data row15 col1\" >2.9251</td>\n",
       "      <td id=\"T_15594_row15_col2\" class=\"data row15 col2\" >15.9366</td>\n",
       "      <td id=\"T_15594_row15_col3\" class=\"data row15 col3\" >3.9513</td>\n",
       "      <td id=\"T_15594_row15_col4\" class=\"data row15 col4\" >0.5098</td>\n",
       "      <td id=\"T_15594_row15_col5\" class=\"data row15 col5\" >0.8290</td>\n",
       "      <td id=\"T_15594_row15_col6\" class=\"data row15 col6\" >0.6036</td>\n",
       "      <td id=\"T_15594_row15_col7\" class=\"data row15 col7\" >0.0100</td>\n",
       "    </tr>\n",
       "    <tr>\n",
       "      <th id=\"T_15594_level0_row16\" class=\"row_heading level0 row16\" >huber</th>\n",
       "      <td id=\"T_15594_row16_col0\" class=\"data row16 col0\" >Huber Regressor</td>\n",
       "      <td id=\"T_15594_row16_col1\" class=\"data row16 col1\" >2.7306</td>\n",
       "      <td id=\"T_15594_row16_col2\" class=\"data row16 col2\" >16.3871</td>\n",
       "      <td id=\"T_15594_row16_col3\" class=\"data row16 col3\" >4.0010</td>\n",
       "      <td id=\"T_15594_row16_col4\" class=\"data row16 col4\" >0.4994</td>\n",
       "      <td id=\"T_15594_row16_col5\" class=\"data row16 col5\" >0.7561</td>\n",
       "      <td id=\"T_15594_row16_col6\" class=\"data row16 col6\" >0.6208</td>\n",
       "      <td id=\"T_15594_row16_col7\" class=\"data row16 col7\" >0.0320</td>\n",
       "    </tr>\n",
       "    <tr>\n",
       "      <th id=\"T_15594_level0_row17\" class=\"row_heading level0 row17\" >llar</th>\n",
       "      <td id=\"T_15594_row17_col0\" class=\"data row17 col0\" >Lasso Least Angle Regression</td>\n",
       "      <td id=\"T_15594_row17_col1\" class=\"data row17 col1\" >4.8172</td>\n",
       "      <td id=\"T_15594_row17_col2\" class=\"data row17 col2\" >35.1472</td>\n",
       "      <td id=\"T_15594_row17_col3\" class=\"data row17 col3\" >5.8638</td>\n",
       "      <td id=\"T_15594_row17_col4\" class=\"data row17 col4\" >-0.0580</td>\n",
       "      <td id=\"T_15594_row17_col5\" class=\"data row17 col5\" >1.3157</td>\n",
       "      <td id=\"T_15594_row17_col6\" class=\"data row17 col6\" >0.4721</td>\n",
       "      <td id=\"T_15594_row17_col7\" class=\"data row17 col7\" >0.0110</td>\n",
       "    </tr>\n",
       "    <tr>\n",
       "      <th id=\"T_15594_level0_row18\" class=\"row_heading level0 row18\" >dummy</th>\n",
       "      <td id=\"T_15594_row18_col0\" class=\"data row18 col0\" >Dummy Regressor</td>\n",
       "      <td id=\"T_15594_row18_col1\" class=\"data row18 col1\" >4.8172</td>\n",
       "      <td id=\"T_15594_row18_col2\" class=\"data row18 col2\" >35.1472</td>\n",
       "      <td id=\"T_15594_row18_col3\" class=\"data row18 col3\" >5.8638</td>\n",
       "      <td id=\"T_15594_row18_col4\" class=\"data row18 col4\" >-0.0580</td>\n",
       "      <td id=\"T_15594_row18_col5\" class=\"data row18 col5\" >1.3157</td>\n",
       "      <td id=\"T_15594_row18_col6\" class=\"data row18 col6\" >0.4721</td>\n",
       "      <td id=\"T_15594_row18_col7\" class=\"data row18 col7\" >0.0050</td>\n",
       "    </tr>\n",
       "    <tr>\n",
       "      <th id=\"T_15594_level0_row19\" class=\"row_heading level0 row19\" >par</th>\n",
       "      <td id=\"T_15594_row19_col0\" class=\"data row19 col0\" >Passive Aggressive Regressor</td>\n",
       "      <td id=\"T_15594_row19_col1\" class=\"data row19 col1\" >32.3429</td>\n",
       "      <td id=\"T_15594_row19_col2\" class=\"data row19 col2\" >6733.2850</td>\n",
       "      <td id=\"T_15594_row19_col3\" class=\"data row19 col3\" >50.6222</td>\n",
       "      <td id=\"T_15594_row19_col4\" class=\"data row19 col4\" >-265.0698</td>\n",
       "      <td id=\"T_15594_row19_col5\" class=\"data row19 col5\" >2.2748</td>\n",
       "      <td id=\"T_15594_row19_col6\" class=\"data row19 col6\" >1.7001</td>\n",
       "      <td id=\"T_15594_row19_col7\" class=\"data row19 col7\" >0.0110</td>\n",
       "    </tr>\n",
       "  </tbody>\n",
       "</table>\n"
      ],
      "text/plain": [
       "<pandas.io.formats.style.Styler at 0x193b3d9c070>"
      ]
     },
     "metadata": {},
     "output_type": "display_data"
    },
    {
     "data": {
      "text/plain": [
       "[ExtraTreesRegressor(bootstrap=False, ccp_alpha=0.0, criterion='mse',\n",
       "                     max_depth=None, max_features='auto', max_leaf_nodes=None,\n",
       "                     max_samples=None, min_impurity_decrease=0.0,\n",
       "                     min_impurity_split=None, min_samples_leaf=1,\n",
       "                     min_samples_split=2, min_weight_fraction_leaf=0.0,\n",
       "                     n_estimators=100, n_jobs=-1, oob_score=False,\n",
       "                     random_state=493, verbose=0, warm_start=False),\n",
       " <catboost.core.CatBoostRegressor at 0x193bd3da640>,\n",
       " RandomForestRegressor(bootstrap=True, ccp_alpha=0.0, criterion='mse',\n",
       "                       max_depth=None, max_features='auto', max_leaf_nodes=None,\n",
       "                       max_samples=None, min_impurity_decrease=0.0,\n",
       "                       min_impurity_split=None, min_samples_leaf=1,\n",
       "                       min_samples_split=2, min_weight_fraction_leaf=0.0,\n",
       "                       n_estimators=100, n_jobs=-1, oob_score=False,\n",
       "                       random_state=493, verbose=0, warm_start=False)]"
      ]
     },
     "execution_count": 11,
     "metadata": {},
     "output_type": "execute_result"
    }
   ],
   "source": [
    "compare_models(sort = 'r2', n_select=3)"
   ]
  },
  {
   "cell_type": "code",
   "execution_count": 12,
   "id": "4feae283",
   "metadata": {
    "ExecuteTime": {
     "end_time": "2022-11-10T18:25:13.742437Z",
     "start_time": "2022-11-10T18:25:02.290399Z"
    }
   },
   "outputs": [
    {
     "data": {
      "text/html": [
       "<style type=\"text/css\">\n",
       "#T_78500_row10_col0, #T_78500_row10_col1, #T_78500_row10_col2, #T_78500_row10_col3, #T_78500_row10_col4, #T_78500_row10_col5 {\n",
       "  background: yellow;\n",
       "}\n",
       "</style>\n",
       "<table id=\"T_78500_\">\n",
       "  <thead>\n",
       "    <tr>\n",
       "      <th class=\"blank level0\" >&nbsp;</th>\n",
       "      <th class=\"col_heading level0 col0\" >MAE</th>\n",
       "      <th class=\"col_heading level0 col1\" >MSE</th>\n",
       "      <th class=\"col_heading level0 col2\" >RMSE</th>\n",
       "      <th class=\"col_heading level0 col3\" >R2</th>\n",
       "      <th class=\"col_heading level0 col4\" >RMSLE</th>\n",
       "      <th class=\"col_heading level0 col5\" >MAPE</th>\n",
       "    </tr>\n",
       "    <tr>\n",
       "      <th class=\"index_name level0\" >Fold</th>\n",
       "      <th class=\"blank col0\" >&nbsp;</th>\n",
       "      <th class=\"blank col1\" >&nbsp;</th>\n",
       "      <th class=\"blank col2\" >&nbsp;</th>\n",
       "      <th class=\"blank col3\" >&nbsp;</th>\n",
       "      <th class=\"blank col4\" >&nbsp;</th>\n",
       "      <th class=\"blank col5\" >&nbsp;</th>\n",
       "    </tr>\n",
       "  </thead>\n",
       "  <tbody>\n",
       "    <tr>\n",
       "      <th id=\"T_78500_level0_row0\" class=\"row_heading level0 row0\" >0</th>\n",
       "      <td id=\"T_78500_row0_col0\" class=\"data row0 col0\" >0.8237</td>\n",
       "      <td id=\"T_78500_row0_col1\" class=\"data row0 col1\" >3.1660</td>\n",
       "      <td id=\"T_78500_row0_col2\" class=\"data row0 col2\" >1.7793</td>\n",
       "      <td id=\"T_78500_row0_col3\" class=\"data row0 col3\" >0.9045</td>\n",
       "      <td id=\"T_78500_row0_col4\" class=\"data row0 col4\" >0.4431</td>\n",
       "      <td id=\"T_78500_row0_col5\" class=\"data row0 col5\" >0.1719</td>\n",
       "    </tr>\n",
       "    <tr>\n",
       "      <th id=\"T_78500_level0_row1\" class=\"row_heading level0 row1\" >1</th>\n",
       "      <td id=\"T_78500_row1_col0\" class=\"data row1 col0\" >1.2168</td>\n",
       "      <td id=\"T_78500_row1_col1\" class=\"data row1 col1\" >3.8266</td>\n",
       "      <td id=\"T_78500_row1_col2\" class=\"data row1 col2\" >1.9562</td>\n",
       "      <td id=\"T_78500_row1_col3\" class=\"data row1 col3\" >0.8962</td>\n",
       "      <td id=\"T_78500_row1_col4\" class=\"data row1 col4\" >0.2420</td>\n",
       "      <td id=\"T_78500_row1_col5\" class=\"data row1 col5\" >0.2470</td>\n",
       "    </tr>\n",
       "    <tr>\n",
       "      <th id=\"T_78500_level0_row2\" class=\"row_heading level0 row2\" >2</th>\n",
       "      <td id=\"T_78500_row2_col0\" class=\"data row2 col0\" >1.0636</td>\n",
       "      <td id=\"T_78500_row2_col1\" class=\"data row2 col1\" >3.6242</td>\n",
       "      <td id=\"T_78500_row2_col2\" class=\"data row2 col2\" >1.9037</td>\n",
       "      <td id=\"T_78500_row2_col3\" class=\"data row2 col3\" >0.8647</td>\n",
       "      <td id=\"T_78500_row2_col4\" class=\"data row2 col4\" >0.3336</td>\n",
       "      <td id=\"T_78500_row2_col5\" class=\"data row2 col5\" >0.2655</td>\n",
       "    </tr>\n",
       "    <tr>\n",
       "      <th id=\"T_78500_level0_row3\" class=\"row_heading level0 row3\" >3</th>\n",
       "      <td id=\"T_78500_row3_col0\" class=\"data row3 col0\" >0.8296</td>\n",
       "      <td id=\"T_78500_row3_col1\" class=\"data row3 col1\" >1.9374</td>\n",
       "      <td id=\"T_78500_row3_col2\" class=\"data row3 col2\" >1.3919</td>\n",
       "      <td id=\"T_78500_row3_col3\" class=\"data row3 col3\" >0.9262</td>\n",
       "      <td id=\"T_78500_row3_col4\" class=\"data row3 col4\" >0.2597</td>\n",
       "      <td id=\"T_78500_row3_col5\" class=\"data row3 col5\" >0.2447</td>\n",
       "    </tr>\n",
       "    <tr>\n",
       "      <th id=\"T_78500_level0_row4\" class=\"row_heading level0 row4\" >4</th>\n",
       "      <td id=\"T_78500_row4_col0\" class=\"data row4 col0\" >1.4624</td>\n",
       "      <td id=\"T_78500_row4_col1\" class=\"data row4 col1\" >5.4714</td>\n",
       "      <td id=\"T_78500_row4_col2\" class=\"data row4 col2\" >2.3391</td>\n",
       "      <td id=\"T_78500_row4_col3\" class=\"data row4 col3\" >0.9037</td>\n",
       "      <td id=\"T_78500_row4_col4\" class=\"data row4 col4\" >0.3540</td>\n",
       "      <td id=\"T_78500_row4_col5\" class=\"data row4 col5\" >0.2730</td>\n",
       "    </tr>\n",
       "    <tr>\n",
       "      <th id=\"T_78500_level0_row5\" class=\"row_heading level0 row5\" >5</th>\n",
       "      <td id=\"T_78500_row5_col0\" class=\"data row5 col0\" >0.9874</td>\n",
       "      <td id=\"T_78500_row5_col1\" class=\"data row5 col1\" >3.1257</td>\n",
       "      <td id=\"T_78500_row5_col2\" class=\"data row5 col2\" >1.7680</td>\n",
       "      <td id=\"T_78500_row5_col3\" class=\"data row5 col3\" >0.9326</td>\n",
       "      <td id=\"T_78500_row5_col4\" class=\"data row5 col4\" >0.3818</td>\n",
       "      <td id=\"T_78500_row5_col5\" class=\"data row5 col5\" >0.1680</td>\n",
       "    </tr>\n",
       "    <tr>\n",
       "      <th id=\"T_78500_level0_row6\" class=\"row_heading level0 row6\" >6</th>\n",
       "      <td id=\"T_78500_row6_col0\" class=\"data row6 col0\" >0.7356</td>\n",
       "      <td id=\"T_78500_row6_col1\" class=\"data row6 col1\" >1.4562</td>\n",
       "      <td id=\"T_78500_row6_col2\" class=\"data row6 col2\" >1.2067</td>\n",
       "      <td id=\"T_78500_row6_col3\" class=\"data row6 col3\" >0.9464</td>\n",
       "      <td id=\"T_78500_row6_col4\" class=\"data row6 col4\" >0.4523</td>\n",
       "      <td id=\"T_78500_row6_col5\" class=\"data row6 col5\" >0.1142</td>\n",
       "    </tr>\n",
       "    <tr>\n",
       "      <th id=\"T_78500_level0_row7\" class=\"row_heading level0 row7\" >7</th>\n",
       "      <td id=\"T_78500_row7_col0\" class=\"data row7 col0\" >1.5195</td>\n",
       "      <td id=\"T_78500_row7_col1\" class=\"data row7 col1\" >7.8223</td>\n",
       "      <td id=\"T_78500_row7_col2\" class=\"data row7 col2\" >2.7968</td>\n",
       "      <td id=\"T_78500_row7_col3\" class=\"data row7 col3\" >0.6766</td>\n",
       "      <td id=\"T_78500_row7_col4\" class=\"data row7 col4\" >0.7308</td>\n",
       "      <td id=\"T_78500_row7_col5\" class=\"data row7 col5\" >0.2253</td>\n",
       "    </tr>\n",
       "    <tr>\n",
       "      <th id=\"T_78500_level0_row8\" class=\"row_heading level0 row8\" >8</th>\n",
       "      <td id=\"T_78500_row8_col0\" class=\"data row8 col0\" >1.3336</td>\n",
       "      <td id=\"T_78500_row8_col1\" class=\"data row8 col1\" >7.6536</td>\n",
       "      <td id=\"T_78500_row8_col2\" class=\"data row8 col2\" >2.7665</td>\n",
       "      <td id=\"T_78500_row8_col3\" class=\"data row8 col3\" >0.7899</td>\n",
       "      <td id=\"T_78500_row8_col4\" class=\"data row8 col4\" >0.5907</td>\n",
       "      <td id=\"T_78500_row8_col5\" class=\"data row8 col5\" >0.2830</td>\n",
       "    </tr>\n",
       "    <tr>\n",
       "      <th id=\"T_78500_level0_row9\" class=\"row_heading level0 row9\" >9</th>\n",
       "      <td id=\"T_78500_row9_col0\" class=\"data row9 col0\" >1.0855</td>\n",
       "      <td id=\"T_78500_row9_col1\" class=\"data row9 col1\" >4.6707</td>\n",
       "      <td id=\"T_78500_row9_col2\" class=\"data row9 col2\" >2.1612</td>\n",
       "      <td id=\"T_78500_row9_col3\" class=\"data row9 col3\" >0.7684</td>\n",
       "      <td id=\"T_78500_row9_col4\" class=\"data row9 col4\" >0.4705</td>\n",
       "      <td id=\"T_78500_row9_col5\" class=\"data row9 col5\" >0.4598</td>\n",
       "    </tr>\n",
       "    <tr>\n",
       "      <th id=\"T_78500_level0_row10\" class=\"row_heading level0 row10\" >Mean</th>\n",
       "      <td id=\"T_78500_row10_col0\" class=\"data row10 col0\" >1.1058</td>\n",
       "      <td id=\"T_78500_row10_col1\" class=\"data row10 col1\" >4.2754</td>\n",
       "      <td id=\"T_78500_row10_col2\" class=\"data row10 col2\" >2.0069</td>\n",
       "      <td id=\"T_78500_row10_col3\" class=\"data row10 col3\" >0.8609</td>\n",
       "      <td id=\"T_78500_row10_col4\" class=\"data row10 col4\" >0.4259</td>\n",
       "      <td id=\"T_78500_row10_col5\" class=\"data row10 col5\" >0.2452</td>\n",
       "    </tr>\n",
       "    <tr>\n",
       "      <th id=\"T_78500_level0_row11\" class=\"row_heading level0 row11\" >Std</th>\n",
       "      <td id=\"T_78500_row11_col0\" class=\"data row11 col0\" >0.2592</td>\n",
       "      <td id=\"T_78500_row11_col1\" class=\"data row11 col1\" >2.0536</td>\n",
       "      <td id=\"T_78500_row11_col2\" class=\"data row11 col2\" >0.4976</td>\n",
       "      <td id=\"T_78500_row11_col3\" class=\"data row11 col3\" >0.0832</td>\n",
       "      <td id=\"T_78500_row11_col4\" class=\"data row11 col4\" >0.1415</td>\n",
       "      <td id=\"T_78500_row11_col5\" class=\"data row11 col5\" >0.0881</td>\n",
       "    </tr>\n",
       "  </tbody>\n",
       "</table>\n"
      ],
      "text/plain": [
       "<pandas.io.formats.style.Styler at 0x193bd4cba30>"
      ]
     },
     "metadata": {},
     "output_type": "display_data"
    }
   ],
   "source": [
    "model_exp = create_model('et')"
   ]
  },
  {
   "cell_type": "code",
   "execution_count": 13,
   "id": "7971273d",
   "metadata": {
    "ExecuteTime": {
     "end_time": "2022-11-10T18:25:14.081596Z",
     "start_time": "2022-11-10T18:25:13.745881Z"
    }
   },
   "outputs": [
    {
     "data": {
      "application/vnd.jupyter.widget-view+json": {
       "model_id": "419ba0c9f72943a2b6395995fedc087f",
       "version_major": 2,
       "version_minor": 0
      },
      "text/plain": [
       "interactive(children=(ToggleButtons(description='Plot Type:', icons=('',), options=(('Hyperparameters', 'param…"
      ]
     },
     "metadata": {},
     "output_type": "display_data"
    }
   ],
   "source": [
    "evaluate_model(model_exp)"
   ]
  },
  {
   "cell_type": "code",
   "execution_count": 14,
   "id": "87afd8ae",
   "metadata": {
    "ExecuteTime": {
     "end_time": "2022-11-10T18:25:15.545922Z",
     "start_time": "2022-11-10T18:25:14.085524Z"
    }
   },
   "outputs": [
    {
     "data": {
      "image/png": "[encoded data removed]",
      "text/plain": [
       "<Figure size 576x223.2 with 2 Axes>"
      ]
     },
     "metadata": {},
     "output_type": "display_data"
    }
   ],
   "source": [
    "interpret_model(model_exp, plot = 'summary')"
   ]
  },
  {
   "cell_type": "code",
   "execution_count": 15,
   "id": "6d2e2ba9",
   "metadata": {
    "ExecuteTime": {
     "end_time": "2022-11-10T18:25:16.121128Z",
     "start_time": "2022-11-10T18:25:15.548450Z"
    }
   },
   "outputs": [
    {
     "data": {
      "image/png": "[encoded data removed]",
      "text/plain": [
       "<Figure size 800x500 with 1 Axes>"
      ]
     },
     "metadata": {},
     "output_type": "display_data"
    }
   ],
   "source": [
    "plot_model(model_exp, plot = 'feature')"
   ]
  },
  {
   "cell_type": "code",
   "execution_count": 16,
   "id": "1f7249bf",
   "metadata": {
    "ExecuteTime": {
     "end_time": "2022-11-10T18:25:16.214683Z",
     "start_time": "2022-11-10T18:25:16.124846Z"
    }
   },
   "outputs": [],
   "source": [
    "#Reading Test Data\n",
    "test=pd.read_excel(\"Test Data.xlsx\")"
   ]
  },
  {
   "cell_type": "code",
   "execution_count": 17,
   "id": "95a94515",
   "metadata": {
    "ExecuteTime": {
     "end_time": "2022-11-10T18:25:16.431567Z",
     "start_time": "2022-11-10T18:25:16.219273Z"
    }
   },
   "outputs": [
    {
     "data": {
      "text/html": [
       "<style type=\"text/css\">\n",
       "</style>\n",
       "<table id=\"T_14d69_\">\n",
       "  <thead>\n",
       "    <tr>\n",
       "      <th class=\"blank level0\" >&nbsp;</th>\n",
       "      <th class=\"col_heading level0 col0\" >Model</th>\n",
       "      <th class=\"col_heading level0 col1\" >MAE</th>\n",
       "      <th class=\"col_heading level0 col2\" >MSE</th>\n",
       "      <th class=\"col_heading level0 col3\" >RMSE</th>\n",
       "      <th class=\"col_heading level0 col4\" >R2</th>\n",
       "      <th class=\"col_heading level0 col5\" >RMSLE</th>\n",
       "      <th class=\"col_heading level0 col6\" >MAPE</th>\n",
       "    </tr>\n",
       "  </thead>\n",
       "  <tbody>\n",
       "    <tr>\n",
       "      <th id=\"T_14d69_level0_row0\" class=\"row_heading level0 row0\" >0</th>\n",
       "      <td id=\"T_14d69_row0_col0\" class=\"data row0 col0\" >Extra Trees Regressor</td>\n",
       "      <td id=\"T_14d69_row0_col1\" class=\"data row0 col1\" >1.1066</td>\n",
       "      <td id=\"T_14d69_row0_col2\" class=\"data row0 col2\" >4.0986</td>\n",
       "      <td id=\"T_14d69_row0_col3\" class=\"data row0 col3\" >2.0245</td>\n",
       "      <td id=\"T_14d69_row0_col4\" class=\"data row0 col4\" >0.8898</td>\n",
       "      <td id=\"T_14d69_row0_col5\" class=\"data row0 col5\" >0.3804</td>\n",
       "      <td id=\"T_14d69_row0_col6\" class=\"data row0 col6\" >0.1850</td>\n",
       "    </tr>\n",
       "  </tbody>\n",
       "</table>\n"
      ],
      "text/plain": [
       "<pandas.io.formats.style.Styler at 0x193bd426340>"
      ]
     },
     "metadata": {},
     "output_type": "display_data"
    }
   ],
   "source": [
    "pred_holdout = predict_model(model_exp)"
   ]
  },
  {
   "cell_type": "code",
   "execution_count": 18,
   "id": "e029014c",
   "metadata": {
    "ExecuteTime": {
     "end_time": "2022-11-10T18:25:16.681486Z",
     "start_time": "2022-11-10T18:25:16.438136Z"
    }
   },
   "outputs": [
    {
     "data": {
      "text/html": [
       "<style type=\"text/css\">\n",
       "</style>\n",
       "<table id=\"T_64596_\">\n",
       "  <thead>\n",
       "    <tr>\n",
       "      <th class=\"blank level0\" >&nbsp;</th>\n",
       "      <th class=\"col_heading level0 col0\" >Model</th>\n",
       "      <th class=\"col_heading level0 col1\" >MAE</th>\n",
       "      <th class=\"col_heading level0 col2\" >MSE</th>\n",
       "      <th class=\"col_heading level0 col3\" >RMSE</th>\n",
       "      <th class=\"col_heading level0 col4\" >R2</th>\n",
       "      <th class=\"col_heading level0 col5\" >RMSLE</th>\n",
       "      <th class=\"col_heading level0 col6\" >MAPE</th>\n",
       "    </tr>\n",
       "  </thead>\n",
       "  <tbody>\n",
       "    <tr>\n",
       "      <th id=\"T_64596_level0_row0\" class=\"row_heading level0 row0\" >0</th>\n",
       "      <td id=\"T_64596_row0_col0\" class=\"data row0 col0\" >Extra Trees Regressor</td>\n",
       "      <td id=\"T_64596_row0_col1\" class=\"data row0 col1\" >0</td>\n",
       "      <td id=\"T_64596_row0_col2\" class=\"data row0 col2\" >0</td>\n",
       "      <td id=\"T_64596_row0_col3\" class=\"data row0 col3\" >0</td>\n",
       "      <td id=\"T_64596_row0_col4\" class=\"data row0 col4\" >0</td>\n",
       "      <td id=\"T_64596_row0_col5\" class=\"data row0 col5\" >0</td>\n",
       "      <td id=\"T_64596_row0_col6\" class=\"data row0 col6\" >0</td>\n",
       "    </tr>\n",
       "  </tbody>\n",
       "</table>\n"
      ],
      "text/plain": [
       "<pandas.io.formats.style.Styler at 0x193bd3df0a0>"
      ]
     },
     "metadata": {},
     "output_type": "display_data"
    }
   ],
   "source": [
    "pred_unseen = predict_model(model_exp, data = test)"
   ]
  },
  {
   "cell_type": "markdown",
   "id": "f650f9d6",
   "metadata": {},
   "source": [
    "## W Country"
   ]
  },
  {
   "cell_type": "code",
   "execution_count": 19,
   "id": "5da459cc",
   "metadata": {
    "ExecuteTime": {
     "end_time": "2022-11-10T18:30:49.040066Z",
     "start_time": "2022-11-10T18:25:16.684481Z"
    }
   },
   "outputs": [
    {
     "data": {
      "text/html": [
       "<style type=\"text/css\">\n",
       "#T_38952_row3_col1, #T_38952_row16_col1, #T_38952_row42_col1 {\n",
       "  background-color: lightgreen;\n",
       "}\n",
       "</style>\n",
       "<table id=\"T_38952_\">\n",
       "  <thead>\n",
       "    <tr>\n",
       "      <th class=\"blank level0\" >&nbsp;</th>\n",
       "      <th class=\"col_heading level0 col0\" >Description</th>\n",
       "      <th class=\"col_heading level0 col1\" >Value</th>\n",
       "    </tr>\n",
       "  </thead>\n",
       "  <tbody>\n",
       "    <tr>\n",
       "      <th id=\"T_38952_level0_row0\" class=\"row_heading level0 row0\" >0</th>\n",
       "      <td id=\"T_38952_row0_col0\" class=\"data row0 col0\" >session_id</td>\n",
       "      <td id=\"T_38952_row0_col1\" class=\"data row0 col1\" >2012</td>\n",
       "    </tr>\n",
       "    <tr>\n",
       "      <th id=\"T_38952_level0_row1\" class=\"row_heading level0 row1\" >1</th>\n",
       "      <td id=\"T_38952_row1_col0\" class=\"data row1 col0\" >Target</td>\n",
       "      <td id=\"T_38952_row1_col1\" class=\"data row1 col1\" >Prevalence of Undernourishment (%)</td>\n",
       "    </tr>\n",
       "    <tr>\n",
       "      <th id=\"T_38952_level0_row2\" class=\"row_heading level0 row2\" >2</th>\n",
       "      <td id=\"T_38952_row2_col0\" class=\"data row2 col0\" >Original Data</td>\n",
       "      <td id=\"T_38952_row2_col1\" class=\"data row2 col1\" >(600, 6)</td>\n",
       "    </tr>\n",
       "    <tr>\n",
       "      <th id=\"T_38952_level0_row3\" class=\"row_heading level0 row3\" >3</th>\n",
       "      <td id=\"T_38952_row3_col0\" class=\"data row3 col0\" >Missing Values</td>\n",
       "      <td id=\"T_38952_row3_col1\" class=\"data row3 col1\" >True</td>\n",
       "    </tr>\n",
       "    <tr>\n",
       "      <th id=\"T_38952_level0_row4\" class=\"row_heading level0 row4\" >4</th>\n",
       "      <td id=\"T_38952_row4_col0\" class=\"data row4 col0\" >Numeric Features</td>\n",
       "      <td id=\"T_38952_row4_col1\" class=\"data row4 col1\" >4</td>\n",
       "    </tr>\n",
       "    <tr>\n",
       "      <th id=\"T_38952_level0_row5\" class=\"row_heading level0 row5\" >5</th>\n",
       "      <td id=\"T_38952_row5_col0\" class=\"data row5 col0\" >Categorical Features</td>\n",
       "      <td id=\"T_38952_row5_col1\" class=\"data row5 col1\" >1</td>\n",
       "    </tr>\n",
       "    <tr>\n",
       "      <th id=\"T_38952_level0_row6\" class=\"row_heading level0 row6\" >6</th>\n",
       "      <td id=\"T_38952_row6_col0\" class=\"data row6 col0\" >Ordinal Features</td>\n",
       "      <td id=\"T_38952_row6_col1\" class=\"data row6 col1\" >False</td>\n",
       "    </tr>\n",
       "    <tr>\n",
       "      <th id=\"T_38952_level0_row7\" class=\"row_heading level0 row7\" >7</th>\n",
       "      <td id=\"T_38952_row7_col0\" class=\"data row7 col0\" >High Cardinality Features</td>\n",
       "      <td id=\"T_38952_row7_col1\" class=\"data row7 col1\" >False</td>\n",
       "    </tr>\n",
       "    <tr>\n",
       "      <th id=\"T_38952_level0_row8\" class=\"row_heading level0 row8\" >8</th>\n",
       "      <td id=\"T_38952_row8_col0\" class=\"data row8 col0\" >High Cardinality Method</td>\n",
       "      <td id=\"T_38952_row8_col1\" class=\"data row8 col1\" >None</td>\n",
       "    </tr>\n",
       "    <tr>\n",
       "      <th id=\"T_38952_level0_row9\" class=\"row_heading level0 row9\" >9</th>\n",
       "      <td id=\"T_38952_row9_col0\" class=\"data row9 col0\" >Transformed Train Set</td>\n",
       "      <td id=\"T_38952_row9_col1\" class=\"data row9 col1\" >(384, 64)</td>\n",
       "    </tr>\n",
       "    <tr>\n",
       "      <th id=\"T_38952_level0_row10\" class=\"row_heading level0 row10\" >10</th>\n",
       "      <td id=\"T_38952_row10_col0\" class=\"data row10 col0\" >Transformed Test Set</td>\n",
       "      <td id=\"T_38952_row10_col1\" class=\"data row10 col1\" >(96, 64)</td>\n",
       "    </tr>\n",
       "    <tr>\n",
       "      <th id=\"T_38952_level0_row11\" class=\"row_heading level0 row11\" >11</th>\n",
       "      <td id=\"T_38952_row11_col0\" class=\"data row11 col0\" >Shuffle Train-Test</td>\n",
       "      <td id=\"T_38952_row11_col1\" class=\"data row11 col1\" >True</td>\n",
       "    </tr>\n",
       "    <tr>\n",
       "      <th id=\"T_38952_level0_row12\" class=\"row_heading level0 row12\" >12</th>\n",
       "      <td id=\"T_38952_row12_col0\" class=\"data row12 col0\" >Stratify Train-Test</td>\n",
       "      <td id=\"T_38952_row12_col1\" class=\"data row12 col1\" >False</td>\n",
       "    </tr>\n",
       "    <tr>\n",
       "      <th id=\"T_38952_level0_row13\" class=\"row_heading level0 row13\" >13</th>\n",
       "      <td id=\"T_38952_row13_col0\" class=\"data row13 col0\" >Fold Generator</td>\n",
       "      <td id=\"T_38952_row13_col1\" class=\"data row13 col1\" >KFold</td>\n",
       "    </tr>\n",
       "    <tr>\n",
       "      <th id=\"T_38952_level0_row14\" class=\"row_heading level0 row14\" >14</th>\n",
       "      <td id=\"T_38952_row14_col0\" class=\"data row14 col0\" >Fold Number</td>\n",
       "      <td id=\"T_38952_row14_col1\" class=\"data row14 col1\" >10</td>\n",
       "    </tr>\n",
       "    <tr>\n",
       "      <th id=\"T_38952_level0_row15\" class=\"row_heading level0 row15\" >15</th>\n",
       "      <td id=\"T_38952_row15_col0\" class=\"data row15 col0\" >CPU Jobs</td>\n",
       "      <td id=\"T_38952_row15_col1\" class=\"data row15 col1\" >-1</td>\n",
       "    </tr>\n",
       "    <tr>\n",
       "      <th id=\"T_38952_level0_row16\" class=\"row_heading level0 row16\" >16</th>\n",
       "      <td id=\"T_38952_row16_col0\" class=\"data row16 col0\" >Use GPU</td>\n",
       "      <td id=\"T_38952_row16_col1\" class=\"data row16 col1\" >True</td>\n",
       "    </tr>\n",
       "    <tr>\n",
       "      <th id=\"T_38952_level0_row17\" class=\"row_heading level0 row17\" >17</th>\n",
       "      <td id=\"T_38952_row17_col0\" class=\"data row17 col0\" >Log Experiment</td>\n",
       "      <td id=\"T_38952_row17_col1\" class=\"data row17 col1\" >False</td>\n",
       "    </tr>\n",
       "    <tr>\n",
       "      <th id=\"T_38952_level0_row18\" class=\"row_heading level0 row18\" >18</th>\n",
       "      <td id=\"T_38952_row18_col0\" class=\"data row18 col0\" >Experiment Name</td>\n",
       "      <td id=\"T_38952_row18_col1\" class=\"data row18 col1\" >reg-default-name</td>\n",
       "    </tr>\n",
       "    <tr>\n",
       "      <th id=\"T_38952_level0_row19\" class=\"row_heading level0 row19\" >19</th>\n",
       "      <td id=\"T_38952_row19_col0\" class=\"data row19 col0\" >USI</td>\n",
       "      <td id=\"T_38952_row19_col1\" class=\"data row19 col1\" >d2d4</td>\n",
       "    </tr>\n",
       "    <tr>\n",
       "      <th id=\"T_38952_level0_row20\" class=\"row_heading level0 row20\" >20</th>\n",
       "      <td id=\"T_38952_row20_col0\" class=\"data row20 col0\" >Imputation Type</td>\n",
       "      <td id=\"T_38952_row20_col1\" class=\"data row20 col1\" >simple</td>\n",
       "    </tr>\n",
       "    <tr>\n",
       "      <th id=\"T_38952_level0_row21\" class=\"row_heading level0 row21\" >21</th>\n",
       "      <td id=\"T_38952_row21_col0\" class=\"data row21 col0\" >Iterative Imputation Iteration</td>\n",
       "      <td id=\"T_38952_row21_col1\" class=\"data row21 col1\" >None</td>\n",
       "    </tr>\n",
       "    <tr>\n",
       "      <th id=\"T_38952_level0_row22\" class=\"row_heading level0 row22\" >22</th>\n",
       "      <td id=\"T_38952_row22_col0\" class=\"data row22 col0\" >Numeric Imputer</td>\n",
       "      <td id=\"T_38952_row22_col1\" class=\"data row22 col1\" >mean</td>\n",
       "    </tr>\n",
       "    <tr>\n",
       "      <th id=\"T_38952_level0_row23\" class=\"row_heading level0 row23\" >23</th>\n",
       "      <td id=\"T_38952_row23_col0\" class=\"data row23 col0\" >Iterative Imputation Numeric Model</td>\n",
       "      <td id=\"T_38952_row23_col1\" class=\"data row23 col1\" >None</td>\n",
       "    </tr>\n",
       "    <tr>\n",
       "      <th id=\"T_38952_level0_row24\" class=\"row_heading level0 row24\" >24</th>\n",
       "      <td id=\"T_38952_row24_col0\" class=\"data row24 col0\" >Categorical Imputer</td>\n",
       "      <td id=\"T_38952_row24_col1\" class=\"data row24 col1\" >constant</td>\n",
       "    </tr>\n",
       "    <tr>\n",
       "      <th id=\"T_38952_level0_row25\" class=\"row_heading level0 row25\" >25</th>\n",
       "      <td id=\"T_38952_row25_col0\" class=\"data row25 col0\" >Iterative Imputation Categorical Model</td>\n",
       "      <td id=\"T_38952_row25_col1\" class=\"data row25 col1\" >None</td>\n",
       "    </tr>\n",
       "    <tr>\n",
       "      <th id=\"T_38952_level0_row26\" class=\"row_heading level0 row26\" >26</th>\n",
       "      <td id=\"T_38952_row26_col0\" class=\"data row26 col0\" >Unknown Categoricals Handling</td>\n",
       "      <td id=\"T_38952_row26_col1\" class=\"data row26 col1\" >least_frequent</td>\n",
       "    </tr>\n",
       "    <tr>\n",
       "      <th id=\"T_38952_level0_row27\" class=\"row_heading level0 row27\" >27</th>\n",
       "      <td id=\"T_38952_row27_col0\" class=\"data row27 col0\" >Normalize</td>\n",
       "      <td id=\"T_38952_row27_col1\" class=\"data row27 col1\" >False</td>\n",
       "    </tr>\n",
       "    <tr>\n",
       "      <th id=\"T_38952_level0_row28\" class=\"row_heading level0 row28\" >28</th>\n",
       "      <td id=\"T_38952_row28_col0\" class=\"data row28 col0\" >Normalize Method</td>\n",
       "      <td id=\"T_38952_row28_col1\" class=\"data row28 col1\" >None</td>\n",
       "    </tr>\n",
       "    <tr>\n",
       "      <th id=\"T_38952_level0_row29\" class=\"row_heading level0 row29\" >29</th>\n",
       "      <td id=\"T_38952_row29_col0\" class=\"data row29 col0\" >Transformation</td>\n",
       "      <td id=\"T_38952_row29_col1\" class=\"data row29 col1\" >False</td>\n",
       "    </tr>\n",
       "    <tr>\n",
       "      <th id=\"T_38952_level0_row30\" class=\"row_heading level0 row30\" >30</th>\n",
       "      <td id=\"T_38952_row30_col0\" class=\"data row30 col0\" >Transformation Method</td>\n",
       "      <td id=\"T_38952_row30_col1\" class=\"data row30 col1\" >None</td>\n",
       "    </tr>\n",
       "    <tr>\n",
       "      <th id=\"T_38952_level0_row31\" class=\"row_heading level0 row31\" >31</th>\n",
       "      <td id=\"T_38952_row31_col0\" class=\"data row31 col0\" >PCA</td>\n",
       "      <td id=\"T_38952_row31_col1\" class=\"data row31 col1\" >False</td>\n",
       "    </tr>\n",
       "    <tr>\n",
       "      <th id=\"T_38952_level0_row32\" class=\"row_heading level0 row32\" >32</th>\n",
       "      <td id=\"T_38952_row32_col0\" class=\"data row32 col0\" >PCA Method</td>\n",
       "      <td id=\"T_38952_row32_col1\" class=\"data row32 col1\" >None</td>\n",
       "    </tr>\n",
       "    <tr>\n",
       "      <th id=\"T_38952_level0_row33\" class=\"row_heading level0 row33\" >33</th>\n",
       "      <td id=\"T_38952_row33_col0\" class=\"data row33 col0\" >PCA Components</td>\n",
       "      <td id=\"T_38952_row33_col1\" class=\"data row33 col1\" >None</td>\n",
       "    </tr>\n",
       "    <tr>\n",
       "      <th id=\"T_38952_level0_row34\" class=\"row_heading level0 row34\" >34</th>\n",
       "      <td id=\"T_38952_row34_col0\" class=\"data row34 col0\" >Ignore Low Variance</td>\n",
       "      <td id=\"T_38952_row34_col1\" class=\"data row34 col1\" >False</td>\n",
       "    </tr>\n",
       "    <tr>\n",
       "      <th id=\"T_38952_level0_row35\" class=\"row_heading level0 row35\" >35</th>\n",
       "      <td id=\"T_38952_row35_col0\" class=\"data row35 col0\" >Combine Rare Levels</td>\n",
       "      <td id=\"T_38952_row35_col1\" class=\"data row35 col1\" >False</td>\n",
       "    </tr>\n",
       "    <tr>\n",
       "      <th id=\"T_38952_level0_row36\" class=\"row_heading level0 row36\" >36</th>\n",
       "      <td id=\"T_38952_row36_col0\" class=\"data row36 col0\" >Rare Level Threshold</td>\n",
       "      <td id=\"T_38952_row36_col1\" class=\"data row36 col1\" >None</td>\n",
       "    </tr>\n",
       "    <tr>\n",
       "      <th id=\"T_38952_level0_row37\" class=\"row_heading level0 row37\" >37</th>\n",
       "      <td id=\"T_38952_row37_col0\" class=\"data row37 col0\" >Numeric Binning</td>\n",
       "      <td id=\"T_38952_row37_col1\" class=\"data row37 col1\" >False</td>\n",
       "    </tr>\n",
       "    <tr>\n",
       "      <th id=\"T_38952_level0_row38\" class=\"row_heading level0 row38\" >38</th>\n",
       "      <td id=\"T_38952_row38_col0\" class=\"data row38 col0\" >Remove Outliers</td>\n",
       "      <td id=\"T_38952_row38_col1\" class=\"data row38 col1\" >False</td>\n",
       "    </tr>\n",
       "    <tr>\n",
       "      <th id=\"T_38952_level0_row39\" class=\"row_heading level0 row39\" >39</th>\n",
       "      <td id=\"T_38952_row39_col0\" class=\"data row39 col0\" >Outliers Threshold</td>\n",
       "      <td id=\"T_38952_row39_col1\" class=\"data row39 col1\" >None</td>\n",
       "    </tr>\n",
       "    <tr>\n",
       "      <th id=\"T_38952_level0_row40\" class=\"row_heading level0 row40\" >40</th>\n",
       "      <td id=\"T_38952_row40_col0\" class=\"data row40 col0\" >Remove Multicollinearity</td>\n",
       "      <td id=\"T_38952_row40_col1\" class=\"data row40 col1\" >False</td>\n",
       "    </tr>\n",
       "    <tr>\n",
       "      <th id=\"T_38952_level0_row41\" class=\"row_heading level0 row41\" >41</th>\n",
       "      <td id=\"T_38952_row41_col0\" class=\"data row41 col0\" >Multicollinearity Threshold</td>\n",
       "      <td id=\"T_38952_row41_col1\" class=\"data row41 col1\" >None</td>\n",
       "    </tr>\n",
       "    <tr>\n",
       "      <th id=\"T_38952_level0_row42\" class=\"row_heading level0 row42\" >42</th>\n",
       "      <td id=\"T_38952_row42_col0\" class=\"data row42 col0\" >Remove Perfect Collinearity</td>\n",
       "      <td id=\"T_38952_row42_col1\" class=\"data row42 col1\" >True</td>\n",
       "    </tr>\n",
       "    <tr>\n",
       "      <th id=\"T_38952_level0_row43\" class=\"row_heading level0 row43\" >43</th>\n",
       "      <td id=\"T_38952_row43_col0\" class=\"data row43 col0\" >Clustering</td>\n",
       "      <td id=\"T_38952_row43_col1\" class=\"data row43 col1\" >False</td>\n",
       "    </tr>\n",
       "    <tr>\n",
       "      <th id=\"T_38952_level0_row44\" class=\"row_heading level0 row44\" >44</th>\n",
       "      <td id=\"T_38952_row44_col0\" class=\"data row44 col0\" >Clustering Iteration</td>\n",
       "      <td id=\"T_38952_row44_col1\" class=\"data row44 col1\" >None</td>\n",
       "    </tr>\n",
       "    <tr>\n",
       "      <th id=\"T_38952_level0_row45\" class=\"row_heading level0 row45\" >45</th>\n",
       "      <td id=\"T_38952_row45_col0\" class=\"data row45 col0\" >Polynomial Features</td>\n",
       "      <td id=\"T_38952_row45_col1\" class=\"data row45 col1\" >False</td>\n",
       "    </tr>\n",
       "    <tr>\n",
       "      <th id=\"T_38952_level0_row46\" class=\"row_heading level0 row46\" >46</th>\n",
       "      <td id=\"T_38952_row46_col0\" class=\"data row46 col0\" >Polynomial Degree</td>\n",
       "      <td id=\"T_38952_row46_col1\" class=\"data row46 col1\" >None</td>\n",
       "    </tr>\n",
       "    <tr>\n",
       "      <th id=\"T_38952_level0_row47\" class=\"row_heading level0 row47\" >47</th>\n",
       "      <td id=\"T_38952_row47_col0\" class=\"data row47 col0\" >Trignometry Features</td>\n",
       "      <td id=\"T_38952_row47_col1\" class=\"data row47 col1\" >False</td>\n",
       "    </tr>\n",
       "    <tr>\n",
       "      <th id=\"T_38952_level0_row48\" class=\"row_heading level0 row48\" >48</th>\n",
       "      <td id=\"T_38952_row48_col0\" class=\"data row48 col0\" >Polynomial Threshold</td>\n",
       "      <td id=\"T_38952_row48_col1\" class=\"data row48 col1\" >None</td>\n",
       "    </tr>\n",
       "    <tr>\n",
       "      <th id=\"T_38952_level0_row49\" class=\"row_heading level0 row49\" >49</th>\n",
       "      <td id=\"T_38952_row49_col0\" class=\"data row49 col0\" >Group Features</td>\n",
       "      <td id=\"T_38952_row49_col1\" class=\"data row49 col1\" >False</td>\n",
       "    </tr>\n",
       "    <tr>\n",
       "      <th id=\"T_38952_level0_row50\" class=\"row_heading level0 row50\" >50</th>\n",
       "      <td id=\"T_38952_row50_col0\" class=\"data row50 col0\" >Feature Selection</td>\n",
       "      <td id=\"T_38952_row50_col1\" class=\"data row50 col1\" >False</td>\n",
       "    </tr>\n",
       "    <tr>\n",
       "      <th id=\"T_38952_level0_row51\" class=\"row_heading level0 row51\" >51</th>\n",
       "      <td id=\"T_38952_row51_col0\" class=\"data row51 col0\" >Feature Selection Method</td>\n",
       "      <td id=\"T_38952_row51_col1\" class=\"data row51 col1\" >classic</td>\n",
       "    </tr>\n",
       "    <tr>\n",
       "      <th id=\"T_38952_level0_row52\" class=\"row_heading level0 row52\" >52</th>\n",
       "      <td id=\"T_38952_row52_col0\" class=\"data row52 col0\" >Features Selection Threshold</td>\n",
       "      <td id=\"T_38952_row52_col1\" class=\"data row52 col1\" >None</td>\n",
       "    </tr>\n",
       "    <tr>\n",
       "      <th id=\"T_38952_level0_row53\" class=\"row_heading level0 row53\" >53</th>\n",
       "      <td id=\"T_38952_row53_col0\" class=\"data row53 col0\" >Feature Interaction</td>\n",
       "      <td id=\"T_38952_row53_col1\" class=\"data row53 col1\" >False</td>\n",
       "    </tr>\n",
       "    <tr>\n",
       "      <th id=\"T_38952_level0_row54\" class=\"row_heading level0 row54\" >54</th>\n",
       "      <td id=\"T_38952_row54_col0\" class=\"data row54 col0\" >Feature Ratio</td>\n",
       "      <td id=\"T_38952_row54_col1\" class=\"data row54 col1\" >False</td>\n",
       "    </tr>\n",
       "    <tr>\n",
       "      <th id=\"T_38952_level0_row55\" class=\"row_heading level0 row55\" >55</th>\n",
       "      <td id=\"T_38952_row55_col0\" class=\"data row55 col0\" >Interaction Threshold</td>\n",
       "      <td id=\"T_38952_row55_col1\" class=\"data row55 col1\" >None</td>\n",
       "    </tr>\n",
       "    <tr>\n",
       "      <th id=\"T_38952_level0_row56\" class=\"row_heading level0 row56\" >56</th>\n",
       "      <td id=\"T_38952_row56_col0\" class=\"data row56 col0\" >Transform Target</td>\n",
       "      <td id=\"T_38952_row56_col1\" class=\"data row56 col1\" >False</td>\n",
       "    </tr>\n",
       "    <tr>\n",
       "      <th id=\"T_38952_level0_row57\" class=\"row_heading level0 row57\" >57</th>\n",
       "      <td id=\"T_38952_row57_col0\" class=\"data row57 col0\" >Transform Target Method</td>\n",
       "      <td id=\"T_38952_row57_col1\" class=\"data row57 col1\" >box-cox</td>\n",
       "    </tr>\n",
       "  </tbody>\n",
       "</table>\n"
      ],
      "text/plain": [
       "<pandas.io.formats.style.Styler at 0x193b52282e0>"
      ]
     },
     "metadata": {},
     "output_type": "display_data"
    }
   ],
   "source": [
    "model_exp = setup(train, target = 'Prevalence of Undernourishment (%)', use_gpu=True, train_size = 0.8)"
   ]
  },
  {
   "cell_type": "code",
   "execution_count": 20,
   "id": "6899e8b8",
   "metadata": {
    "ExecuteTime": {
     "end_time": "2022-11-10T18:32:10.113324Z",
     "start_time": "2022-11-10T18:30:49.043519Z"
    }
   },
   "outputs": [
    {
     "data": {
      "text/html": [
       "<style type=\"text/css\">\n",
       "#T_715de_ th {\n",
       "  text-align: left;\n",
       "}\n",
       "#T_715de_row0_col0, #T_715de_row1_col0, #T_715de_row1_col1, #T_715de_row1_col2, #T_715de_row1_col3, #T_715de_row1_col4, #T_715de_row1_col5, #T_715de_row1_col6, #T_715de_row2_col0, #T_715de_row2_col1, #T_715de_row2_col2, #T_715de_row2_col3, #T_715de_row2_col4, #T_715de_row2_col5, #T_715de_row2_col6, #T_715de_row3_col0, #T_715de_row3_col1, #T_715de_row3_col2, #T_715de_row3_col3, #T_715de_row3_col4, #T_715de_row3_col5, #T_715de_row3_col6, #T_715de_row4_col0, #T_715de_row4_col1, #T_715de_row4_col2, #T_715de_row4_col3, #T_715de_row4_col4, #T_715de_row4_col5, #T_715de_row4_col6, #T_715de_row5_col0, #T_715de_row5_col1, #T_715de_row5_col2, #T_715de_row5_col3, #T_715de_row5_col4, #T_715de_row5_col5, #T_715de_row5_col6, #T_715de_row6_col0, #T_715de_row6_col1, #T_715de_row6_col2, #T_715de_row6_col3, #T_715de_row6_col4, #T_715de_row6_col5, #T_715de_row6_col6, #T_715de_row7_col0, #T_715de_row7_col1, #T_715de_row7_col2, #T_715de_row7_col3, #T_715de_row7_col4, #T_715de_row7_col5, #T_715de_row7_col6, #T_715de_row8_col0, #T_715de_row8_col1, #T_715de_row8_col2, #T_715de_row8_col3, #T_715de_row8_col4, #T_715de_row8_col5, #T_715de_row8_col6, #T_715de_row9_col0, #T_715de_row9_col1, #T_715de_row9_col2, #T_715de_row9_col3, #T_715de_row9_col4, #T_715de_row9_col5, #T_715de_row9_col6, #T_715de_row10_col0, #T_715de_row10_col1, #T_715de_row10_col2, #T_715de_row10_col3, #T_715de_row10_col4, #T_715de_row10_col5, #T_715de_row10_col6, #T_715de_row11_col0, #T_715de_row11_col1, #T_715de_row11_col2, #T_715de_row11_col3, #T_715de_row11_col4, #T_715de_row11_col5, #T_715de_row11_col6, #T_715de_row12_col0, #T_715de_row12_col1, #T_715de_row12_col2, #T_715de_row12_col3, #T_715de_row12_col4, #T_715de_row12_col5, #T_715de_row12_col6, #T_715de_row13_col0, #T_715de_row13_col1, #T_715de_row13_col2, #T_715de_row13_col3, #T_715de_row13_col4, #T_715de_row13_col5, #T_715de_row13_col6, #T_715de_row14_col0, #T_715de_row14_col1, #T_715de_row14_col2, #T_715de_row14_col3, #T_715de_row14_col4, #T_715de_row14_col5, #T_715de_row14_col6, #T_715de_row15_col0, #T_715de_row15_col1, #T_715de_row15_col2, #T_715de_row15_col3, #T_715de_row15_col4, #T_715de_row15_col5, #T_715de_row15_col6, #T_715de_row16_col0, #T_715de_row16_col1, #T_715de_row16_col2, #T_715de_row16_col3, #T_715de_row16_col4, #T_715de_row16_col5, #T_715de_row16_col6, #T_715de_row17_col0, #T_715de_row17_col1, #T_715de_row17_col2, #T_715de_row17_col3, #T_715de_row17_col4, #T_715de_row17_col5, #T_715de_row17_col6, #T_715de_row18_col0, #T_715de_row18_col1, #T_715de_row18_col2, #T_715de_row18_col3, #T_715de_row18_col4, #T_715de_row18_col5, #T_715de_row18_col6 {\n",
       "  text-align: left;\n",
       "}\n",
       "#T_715de_row0_col1, #T_715de_row0_col2, #T_715de_row0_col3, #T_715de_row0_col4, #T_715de_row0_col5, #T_715de_row0_col6 {\n",
       "  text-align: left;\n",
       "  background-color: yellow;\n",
       "}\n",
       "#T_715de_row0_col7, #T_715de_row1_col7, #T_715de_row2_col7, #T_715de_row3_col7, #T_715de_row4_col7, #T_715de_row5_col7, #T_715de_row6_col7, #T_715de_row7_col7, #T_715de_row8_col7, #T_715de_row9_col7, #T_715de_row10_col7, #T_715de_row11_col7, #T_715de_row12_col7, #T_715de_row13_col7, #T_715de_row14_col7, #T_715de_row15_col7, #T_715de_row16_col7, #T_715de_row18_col7 {\n",
       "  text-align: left;\n",
       "  background-color: lightgrey;\n",
       "}\n",
       "#T_715de_row17_col7 {\n",
       "  text-align: left;\n",
       "  background-color: yellow;\n",
       "  background-color: lightgrey;\n",
       "}\n",
       "</style>\n",
       "<table id=\"T_715de_\">\n",
       "  <thead>\n",
       "    <tr>\n",
       "      <th class=\"blank level0\" >&nbsp;</th>\n",
       "      <th class=\"col_heading level0 col0\" >Model</th>\n",
       "      <th class=\"col_heading level0 col1\" >MAE</th>\n",
       "      <th class=\"col_heading level0 col2\" >MSE</th>\n",
       "      <th class=\"col_heading level0 col3\" >RMSE</th>\n",
       "      <th class=\"col_heading level0 col4\" >R2</th>\n",
       "      <th class=\"col_heading level0 col5\" >RMSLE</th>\n",
       "      <th class=\"col_heading level0 col6\" >MAPE</th>\n",
       "      <th class=\"col_heading level0 col7\" >TT (Sec)</th>\n",
       "    </tr>\n",
       "  </thead>\n",
       "  <tbody>\n",
       "    <tr>\n",
       "      <th id=\"T_715de_level0_row0\" class=\"row_heading level0 row0\" >et</th>\n",
       "      <td id=\"T_715de_row0_col0\" class=\"data row0 col0\" >Extra Trees Regressor</td>\n",
       "      <td id=\"T_715de_row0_col1\" class=\"data row0 col1\" >0.3113</td>\n",
       "      <td id=\"T_715de_row0_col2\" class=\"data row0 col2\" >0.5380</td>\n",
       "      <td id=\"T_715de_row0_col3\" class=\"data row0 col3\" >0.6718</td>\n",
       "      <td id=\"T_715de_row0_col4\" class=\"data row0 col4\" >0.9838</td>\n",
       "      <td id=\"T_715de_row0_col5\" class=\"data row0 col5\" >0.1278</td>\n",
       "      <td id=\"T_715de_row0_col6\" class=\"data row0 col6\" >0.0714</td>\n",
       "      <td id=\"T_715de_row0_col7\" class=\"data row0 col7\" >1.0710</td>\n",
       "    </tr>\n",
       "    <tr>\n",
       "      <th id=\"T_715de_level0_row1\" class=\"row_heading level0 row1\" >lr</th>\n",
       "      <td id=\"T_715de_row1_col0\" class=\"data row1 col0\" >Linear Regression</td>\n",
       "      <td id=\"T_715de_row1_col1\" class=\"data row1 col1\" >0.5014</td>\n",
       "      <td id=\"T_715de_row1_col2\" class=\"data row1 col2\" >0.8463</td>\n",
       "      <td id=\"T_715de_row1_col3\" class=\"data row1 col3\" >0.8932</td>\n",
       "      <td id=\"T_715de_row1_col4\" class=\"data row1 col4\" >0.9754</td>\n",
       "      <td id=\"T_715de_row1_col5\" class=\"data row1 col5\" >0.1727</td>\n",
       "      <td id=\"T_715de_row1_col6\" class=\"data row1 col6\" >0.1216</td>\n",
       "      <td id=\"T_715de_row1_col7\" class=\"data row1 col7\" >0.0290</td>\n",
       "    </tr>\n",
       "    <tr>\n",
       "      <th id=\"T_715de_level0_row2\" class=\"row_heading level0 row2\" >br</th>\n",
       "      <td id=\"T_715de_row2_col0\" class=\"data row2 col0\" >Bayesian Ridge</td>\n",
       "      <td id=\"T_715de_row2_col1\" class=\"data row2 col1\" >0.4939</td>\n",
       "      <td id=\"T_715de_row2_col2\" class=\"data row2 col2\" >0.8705</td>\n",
       "      <td id=\"T_715de_row2_col3\" class=\"data row2 col3\" >0.8983</td>\n",
       "      <td id=\"T_715de_row2_col4\" class=\"data row2 col4\" >0.9752</td>\n",
       "      <td id=\"T_715de_row2_col5\" class=\"data row2 col5\" >0.1619</td>\n",
       "      <td id=\"T_715de_row2_col6\" class=\"data row2 col6\" >0.1154</td>\n",
       "      <td id=\"T_715de_row2_col7\" class=\"data row2 col7\" >0.0530</td>\n",
       "    </tr>\n",
       "    <tr>\n",
       "      <th id=\"T_715de_level0_row3\" class=\"row_heading level0 row3\" >catboost</th>\n",
       "      <td id=\"T_715de_row3_col0\" class=\"data row3 col0\" >CatBoost Regressor</td>\n",
       "      <td id=\"T_715de_row3_col1\" class=\"data row3 col1\" >0.5983</td>\n",
       "      <td id=\"T_715de_row3_col2\" class=\"data row3 col2\" >1.2381</td>\n",
       "      <td id=\"T_715de_row3_col3\" class=\"data row3 col3\" >1.0313</td>\n",
       "      <td id=\"T_715de_row3_col4\" class=\"data row3 col4\" >0.9629</td>\n",
       "      <td id=\"T_715de_row3_col5\" class=\"data row3 col5\" >0.2390</td>\n",
       "      <td id=\"T_715de_row3_col6\" class=\"data row3 col6\" >0.1217</td>\n",
       "      <td id=\"T_715de_row3_col7\" class=\"data row3 col7\" >2.6170</td>\n",
       "    </tr>\n",
       "    <tr>\n",
       "      <th id=\"T_715de_level0_row4\" class=\"row_heading level0 row4\" >ridge</th>\n",
       "      <td id=\"T_715de_row4_col0\" class=\"data row4 col0\" >Ridge Regression</td>\n",
       "      <td id=\"T_715de_row4_col1\" class=\"data row4 col1\" >0.8211</td>\n",
       "      <td id=\"T_715de_row4_col2\" class=\"data row4 col2\" >1.8458</td>\n",
       "      <td id=\"T_715de_row4_col3\" class=\"data row4 col3\" >1.3155</td>\n",
       "      <td id=\"T_715de_row4_col4\" class=\"data row4 col4\" >0.9496</td>\n",
       "      <td id=\"T_715de_row4_col5\" class=\"data row4 col5\" >0.3098</td>\n",
       "      <td id=\"T_715de_row4_col6\" class=\"data row4 col6\" >0.1595</td>\n",
       "      <td id=\"T_715de_row4_col7\" class=\"data row4 col7\" >0.0140</td>\n",
       "    </tr>\n",
       "    <tr>\n",
       "      <th id=\"T_715de_level0_row5\" class=\"row_heading level0 row5\" >gbr</th>\n",
       "      <td id=\"T_715de_row5_col0\" class=\"data row5 col0\" >Gradient Boosting Regressor</td>\n",
       "      <td id=\"T_715de_row5_col1\" class=\"data row5 col1\" >0.7191</td>\n",
       "      <td id=\"T_715de_row5_col2\" class=\"data row5 col2\" >1.7186</td>\n",
       "      <td id=\"T_715de_row5_col3\" class=\"data row5 col3\" >1.2076</td>\n",
       "      <td id=\"T_715de_row5_col4\" class=\"data row5 col4\" >0.9490</td>\n",
       "      <td id=\"T_715de_row5_col5\" class=\"data row5 col5\" >0.3047</td>\n",
       "      <td id=\"T_715de_row5_col6\" class=\"data row5 col6\" >0.1433</td>\n",
       "      <td id=\"T_715de_row5_col7\" class=\"data row5 col7\" >0.1810</td>\n",
       "    </tr>\n",
       "    <tr>\n",
       "      <th id=\"T_715de_level0_row6\" class=\"row_heading level0 row6\" >xgboost</th>\n",
       "      <td id=\"T_715de_row6_col0\" class=\"data row6 col0\" >Extreme Gradient Boosting</td>\n",
       "      <td id=\"T_715de_row6_col1\" class=\"data row6 col1\" >0.5855</td>\n",
       "      <td id=\"T_715de_row6_col2\" class=\"data row6 col2\" >1.7829</td>\n",
       "      <td id=\"T_715de_row6_col3\" class=\"data row6 col3\" >1.2329</td>\n",
       "      <td id=\"T_715de_row6_col4\" class=\"data row6 col4\" >0.9464</td>\n",
       "      <td id=\"T_715de_row6_col5\" class=\"data row6 col5\" >0.2372</td>\n",
       "      <td id=\"T_715de_row6_col6\" class=\"data row6 col6\" >0.1310</td>\n",
       "      <td id=\"T_715de_row6_col7\" class=\"data row6 col7\" >0.7510</td>\n",
       "    </tr>\n",
       "    <tr>\n",
       "      <th id=\"T_715de_level0_row7\" class=\"row_heading level0 row7\" >rf</th>\n",
       "      <td id=\"T_715de_row7_col0\" class=\"data row7 col0\" >Random Forest Regressor</td>\n",
       "      <td id=\"T_715de_row7_col1\" class=\"data row7 col1\" >0.5978</td>\n",
       "      <td id=\"T_715de_row7_col2\" class=\"data row7 col2\" >1.8136</td>\n",
       "      <td id=\"T_715de_row7_col3\" class=\"data row7 col3\" >1.2215</td>\n",
       "      <td id=\"T_715de_row7_col4\" class=\"data row7 col4\" >0.9459</td>\n",
       "      <td id=\"T_715de_row7_col5\" class=\"data row7 col5\" >0.2307</td>\n",
       "      <td id=\"T_715de_row7_col6\" class=\"data row7 col6\" >0.1409</td>\n",
       "      <td id=\"T_715de_row7_col7\" class=\"data row7 col7\" >1.3850</td>\n",
       "    </tr>\n",
       "    <tr>\n",
       "      <th id=\"T_715de_level0_row8\" class=\"row_heading level0 row8\" >dt</th>\n",
       "      <td id=\"T_715de_row8_col0\" class=\"data row8 col0\" >Decision Tree Regressor</td>\n",
       "      <td id=\"T_715de_row8_col1\" class=\"data row8 col1\" >0.6604</td>\n",
       "      <td id=\"T_715de_row8_col2\" class=\"data row8 col2\" >3.6480</td>\n",
       "      <td id=\"T_715de_row8_col3\" class=\"data row8 col3\" >1.6103</td>\n",
       "      <td id=\"T_715de_row8_col4\" class=\"data row8 col4\" >0.8924</td>\n",
       "      <td id=\"T_715de_row8_col5\" class=\"data row8 col5\" >0.2632</td>\n",
       "      <td id=\"T_715de_row8_col6\" class=\"data row8 col6\" >0.1310</td>\n",
       "      <td id=\"T_715de_row8_col7\" class=\"data row8 col7\" >0.0140</td>\n",
       "    </tr>\n",
       "    <tr>\n",
       "      <th id=\"T_715de_level0_row9\" class=\"row_heading level0 row9\" >ada</th>\n",
       "      <td id=\"T_715de_row9_col0\" class=\"data row9 col0\" >AdaBoost Regressor</td>\n",
       "      <td id=\"T_715de_row9_col1\" class=\"data row9 col1\" >1.9541</td>\n",
       "      <td id=\"T_715de_row9_col2\" class=\"data row9 col2\" >6.1989</td>\n",
       "      <td id=\"T_715de_row9_col3\" class=\"data row9 col3\" >2.4554</td>\n",
       "      <td id=\"T_715de_row9_col4\" class=\"data row9 col4\" >0.8211</td>\n",
       "      <td id=\"T_715de_row9_col5\" class=\"data row9 col5\" >0.7087</td>\n",
       "      <td id=\"T_715de_row9_col6\" class=\"data row9 col6\" >0.3382</td>\n",
       "      <td id=\"T_715de_row9_col7\" class=\"data row9 col7\" >0.1350</td>\n",
       "    </tr>\n",
       "    <tr>\n",
       "      <th id=\"T_715de_level0_row10\" class=\"row_heading level0 row10\" >lightgbm</th>\n",
       "      <td id=\"T_715de_row10_col0\" class=\"data row10 col0\" >Light Gradient Boosting Machine</td>\n",
       "      <td id=\"T_715de_row10_col1\" class=\"data row10 col1\" >1.5362</td>\n",
       "      <td id=\"T_715de_row10_col2\" class=\"data row10 col2\" >7.0256</td>\n",
       "      <td id=\"T_715de_row10_col3\" class=\"data row10 col3\" >2.5671</td>\n",
       "      <td id=\"T_715de_row10_col4\" class=\"data row10 col4\" >0.7989</td>\n",
       "      <td id=\"T_715de_row10_col5\" class=\"data row10 col5\" >0.4844</td>\n",
       "      <td id=\"T_715de_row10_col6\" class=\"data row10 col6\" >0.3592</td>\n",
       "      <td id=\"T_715de_row10_col7\" class=\"data row10 col7\" >0.8730</td>\n",
       "    </tr>\n",
       "    <tr>\n",
       "      <th id=\"T_715de_level0_row11\" class=\"row_heading level0 row11\" >knn</th>\n",
       "      <td id=\"T_715de_row11_col0\" class=\"data row11 col0\" >K Neighbors Regressor</td>\n",
       "      <td id=\"T_715de_row11_col1\" class=\"data row11 col1\" >1.7544</td>\n",
       "      <td id=\"T_715de_row11_col2\" class=\"data row11 col2\" >7.9176</td>\n",
       "      <td id=\"T_715de_row11_col3\" class=\"data row11 col3\" >2.7812</td>\n",
       "      <td id=\"T_715de_row11_col4\" class=\"data row11 col4\" >0.7705</td>\n",
       "      <td id=\"T_715de_row11_col5\" class=\"data row11 col5\" >0.6019</td>\n",
       "      <td id=\"T_715de_row11_col6\" class=\"data row11 col6\" >0.3980</td>\n",
       "      <td id=\"T_715de_row11_col7\" class=\"data row11 col7\" >0.0900</td>\n",
       "    </tr>\n",
       "    <tr>\n",
       "      <th id=\"T_715de_level0_row12\" class=\"row_heading level0 row12\" >omp</th>\n",
       "      <td id=\"T_715de_row12_col0\" class=\"data row12 col0\" >Orthogonal Matching Pursuit</td>\n",
       "      <td id=\"T_715de_row12_col1\" class=\"data row12 col1\" >2.0531</td>\n",
       "      <td id=\"T_715de_row12_col2\" class=\"data row12 col2\" >8.2409</td>\n",
       "      <td id=\"T_715de_row12_col3\" class=\"data row12 col3\" >2.8381</td>\n",
       "      <td id=\"T_715de_row12_col4\" class=\"data row12 col4\" >0.7702</td>\n",
       "      <td id=\"T_715de_row12_col5\" class=\"data row12 col5\" >0.7027</td>\n",
       "      <td id=\"T_715de_row12_col6\" class=\"data row12 col6\" >0.3985</td>\n",
       "      <td id=\"T_715de_row12_col7\" class=\"data row12 col7\" >0.0140</td>\n",
       "    </tr>\n",
       "    <tr>\n",
       "      <th id=\"T_715de_level0_row13\" class=\"row_heading level0 row13\" >en</th>\n",
       "      <td id=\"T_715de_row13_col0\" class=\"data row13 col0\" >Elastic Net</td>\n",
       "      <td id=\"T_715de_row13_col1\" class=\"data row13 col1\" >2.6973</td>\n",
       "      <td id=\"T_715de_row13_col2\" class=\"data row13 col2\" >13.2532</td>\n",
       "      <td id=\"T_715de_row13_col3\" class=\"data row13 col3\" >3.6051</td>\n",
       "      <td id=\"T_715de_row13_col4\" class=\"data row13 col4\" >0.6278</td>\n",
       "      <td id=\"T_715de_row13_col5\" class=\"data row13 col5\" >0.8002</td>\n",
       "      <td id=\"T_715de_row13_col6\" class=\"data row13 col6\" >0.5010</td>\n",
       "      <td id=\"T_715de_row13_col7\" class=\"data row13 col7\" >0.0180</td>\n",
       "    </tr>\n",
       "    <tr>\n",
       "      <th id=\"T_715de_level0_row14\" class=\"row_heading level0 row14\" >lasso</th>\n",
       "      <td id=\"T_715de_row14_col0\" class=\"data row14 col0\" >Lasso Regression</td>\n",
       "      <td id=\"T_715de_row14_col1\" class=\"data row14 col1\" >2.7371</td>\n",
       "      <td id=\"T_715de_row14_col2\" class=\"data row14 col2\" >13.4565</td>\n",
       "      <td id=\"T_715de_row14_col3\" class=\"data row14 col3\" >3.6341</td>\n",
       "      <td id=\"T_715de_row14_col4\" class=\"data row14 col4\" >0.6222</td>\n",
       "      <td id=\"T_715de_row14_col5\" class=\"data row14 col5\" >0.8113</td>\n",
       "      <td id=\"T_715de_row14_col6\" class=\"data row14 col6\" >0.5024</td>\n",
       "      <td id=\"T_715de_row14_col7\" class=\"data row14 col7\" >0.0170</td>\n",
       "    </tr>\n",
       "    <tr>\n",
       "      <th id=\"T_715de_level0_row15\" class=\"row_heading level0 row15\" >huber</th>\n",
       "      <td id=\"T_715de_row15_col0\" class=\"data row15 col0\" >Huber Regressor</td>\n",
       "      <td id=\"T_715de_row15_col1\" class=\"data row15 col1\" >2.4114</td>\n",
       "      <td id=\"T_715de_row15_col2\" class=\"data row15 col2\" >13.6093</td>\n",
       "      <td id=\"T_715de_row15_col3\" class=\"data row15 col3\" >3.6110</td>\n",
       "      <td id=\"T_715de_row15_col4\" class=\"data row15 col4\" >0.6176</td>\n",
       "      <td id=\"T_715de_row15_col5\" class=\"data row15 col5\" >0.6891</td>\n",
       "      <td id=\"T_715de_row15_col6\" class=\"data row15 col6\" >0.5472</td>\n",
       "      <td id=\"T_715de_row15_col7\" class=\"data row15 col7\" >0.1080</td>\n",
       "    </tr>\n",
       "    <tr>\n",
       "      <th id=\"T_715de_level0_row16\" class=\"row_heading level0 row16\" >llar</th>\n",
       "      <td id=\"T_715de_row16_col0\" class=\"data row16 col0\" >Lasso Least Angle Regression</td>\n",
       "      <td id=\"T_715de_row16_col1\" class=\"data row16 col1\" >4.9123</td>\n",
       "      <td id=\"T_715de_row16_col2\" class=\"data row16 col2\" >36.2152</td>\n",
       "      <td id=\"T_715de_row16_col3\" class=\"data row16 col3\" >6.0026</td>\n",
       "      <td id=\"T_715de_row16_col4\" class=\"data row16 col4\" >-0.0111</td>\n",
       "      <td id=\"T_715de_row16_col5\" class=\"data row16 col5\" >1.3300</td>\n",
       "      <td id=\"T_715de_row16_col6\" class=\"data row16 col6\" >0.4693</td>\n",
       "      <td id=\"T_715de_row16_col7\" class=\"data row16 col7\" >0.0150</td>\n",
       "    </tr>\n",
       "    <tr>\n",
       "      <th id=\"T_715de_level0_row17\" class=\"row_heading level0 row17\" >dummy</th>\n",
       "      <td id=\"T_715de_row17_col0\" class=\"data row17 col0\" >Dummy Regressor</td>\n",
       "      <td id=\"T_715de_row17_col1\" class=\"data row17 col1\" >4.9123</td>\n",
       "      <td id=\"T_715de_row17_col2\" class=\"data row17 col2\" >36.2152</td>\n",
       "      <td id=\"T_715de_row17_col3\" class=\"data row17 col3\" >6.0026</td>\n",
       "      <td id=\"T_715de_row17_col4\" class=\"data row17 col4\" >-0.0111</td>\n",
       "      <td id=\"T_715de_row17_col5\" class=\"data row17 col5\" >1.3300</td>\n",
       "      <td id=\"T_715de_row17_col6\" class=\"data row17 col6\" >0.4693</td>\n",
       "      <td id=\"T_715de_row17_col7\" class=\"data row17 col7\" >0.0060</td>\n",
       "    </tr>\n",
       "    <tr>\n",
       "      <th id=\"T_715de_level0_row18\" class=\"row_heading level0 row18\" >par</th>\n",
       "      <td id=\"T_715de_row18_col0\" class=\"data row18 col0\" >Passive Aggressive Regressor</td>\n",
       "      <td id=\"T_715de_row18_col1\" class=\"data row18 col1\" >33.0194</td>\n",
       "      <td id=\"T_715de_row18_col2\" class=\"data row18 col2\" >4577.1036</td>\n",
       "      <td id=\"T_715de_row18_col3\" class=\"data row18 col3\" >51.2794</td>\n",
       "      <td id=\"T_715de_row18_col4\" class=\"data row18 col4\" >-131.0496</td>\n",
       "      <td id=\"T_715de_row18_col5\" class=\"data row18 col5\" >2.5040</td>\n",
       "      <td id=\"T_715de_row18_col6\" class=\"data row18 col6\" >1.4146</td>\n",
       "      <td id=\"T_715de_row18_col7\" class=\"data row18 col7\" >0.0150</td>\n",
       "    </tr>\n",
       "  </tbody>\n",
       "</table>\n"
      ],
      "text/plain": [
       "<pandas.io.formats.style.Styler at 0x193bd426490>"
      ]
     },
     "metadata": {},
     "output_type": "display_data"
    },
    {
     "data": {
      "text/plain": [
       "[ExtraTreesRegressor(bootstrap=False, ccp_alpha=0.0, criterion='mse',\n",
       "                     max_depth=None, max_features='auto', max_leaf_nodes=None,\n",
       "                     max_samples=None, min_impurity_decrease=0.0,\n",
       "                     min_impurity_split=None, min_samples_leaf=1,\n",
       "                     min_samples_split=2, min_weight_fraction_leaf=0.0,\n",
       "                     n_estimators=100, n_jobs=-1, oob_score=False,\n",
       "                     random_state=2012, verbose=0, warm_start=False),\n",
       " LinearRegression(copy_X=True, fit_intercept=True, n_jobs=-1, normalize=False),\n",
       " BayesianRidge(alpha_1=1e-06, alpha_2=1e-06, alpha_init=None,\n",
       "               compute_score=False, copy_X=True, fit_intercept=True,\n",
       "               lambda_1=1e-06, lambda_2=1e-06, lambda_init=None, n_iter=300,\n",
       "               normalize=False, tol=0.001, verbose=False)]"
      ]
     },
     "execution_count": 20,
     "metadata": {},
     "output_type": "execute_result"
    }
   ],
   "source": [
    "compare_models(sort = 'r2', n_select=3)"
   ]
  },
  {
   "cell_type": "code",
   "execution_count": 21,
   "id": "c1041011",
   "metadata": {
    "ExecuteTime": {
     "end_time": "2022-11-10T18:32:21.286550Z",
     "start_time": "2022-11-10T18:32:10.116314Z"
    }
   },
   "outputs": [
    {
     "data": {
      "text/html": [
       "<style type=\"text/css\">\n",
       "#T_b8591_row10_col0, #T_b8591_row10_col1, #T_b8591_row10_col2, #T_b8591_row10_col3, #T_b8591_row10_col4, #T_b8591_row10_col5 {\n",
       "  background: yellow;\n",
       "}\n",
       "</style>\n",
       "<table id=\"T_b8591_\">\n",
       "  <thead>\n",
       "    <tr>\n",
       "      <th class=\"blank level0\" >&nbsp;</th>\n",
       "      <th class=\"col_heading level0 col0\" >MAE</th>\n",
       "      <th class=\"col_heading level0 col1\" >MSE</th>\n",
       "      <th class=\"col_heading level0 col2\" >RMSE</th>\n",
       "      <th class=\"col_heading level0 col3\" >R2</th>\n",
       "      <th class=\"col_heading level0 col4\" >RMSLE</th>\n",
       "      <th class=\"col_heading level0 col5\" >MAPE</th>\n",
       "    </tr>\n",
       "    <tr>\n",
       "      <th class=\"index_name level0\" >Fold</th>\n",
       "      <th class=\"blank col0\" >&nbsp;</th>\n",
       "      <th class=\"blank col1\" >&nbsp;</th>\n",
       "      <th class=\"blank col2\" >&nbsp;</th>\n",
       "      <th class=\"blank col3\" >&nbsp;</th>\n",
       "      <th class=\"blank col4\" >&nbsp;</th>\n",
       "      <th class=\"blank col5\" >&nbsp;</th>\n",
       "    </tr>\n",
       "  </thead>\n",
       "  <tbody>\n",
       "    <tr>\n",
       "      <th id=\"T_b8591_level0_row0\" class=\"row_heading level0 row0\" >0</th>\n",
       "      <td id=\"T_b8591_row0_col0\" class=\"data row0 col0\" >0.2055</td>\n",
       "      <td id=\"T_b8591_row0_col1\" class=\"data row0 col1\" >0.2346</td>\n",
       "      <td id=\"T_b8591_row0_col2\" class=\"data row0 col2\" >0.4843</td>\n",
       "      <td id=\"T_b8591_row0_col3\" class=\"data row0 col3\" >0.9933</td>\n",
       "      <td id=\"T_b8591_row0_col4\" class=\"data row0 col4\" >0.0429</td>\n",
       "      <td id=\"T_b8591_row0_col5\" class=\"data row0 col5\" >0.0550</td>\n",
       "    </tr>\n",
       "    <tr>\n",
       "      <th id=\"T_b8591_level0_row1\" class=\"row_heading level0 row1\" >1</th>\n",
       "      <td id=\"T_b8591_row1_col0\" class=\"data row1 col0\" >0.3449</td>\n",
       "      <td id=\"T_b8591_row1_col1\" class=\"data row1 col1\" >0.5065</td>\n",
       "      <td id=\"T_b8591_row1_col2\" class=\"data row1 col2\" >0.7117</td>\n",
       "      <td id=\"T_b8591_row1_col3\" class=\"data row1 col3\" >0.9868</td>\n",
       "      <td id=\"T_b8591_row1_col4\" class=\"data row1 col4\" >0.0902</td>\n",
       "      <td id=\"T_b8591_row1_col5\" class=\"data row1 col5\" >0.0961</td>\n",
       "    </tr>\n",
       "    <tr>\n",
       "      <th id=\"T_b8591_level0_row2\" class=\"row_heading level0 row2\" >2</th>\n",
       "      <td id=\"T_b8591_row2_col0\" class=\"data row2 col0\" >0.2968</td>\n",
       "      <td id=\"T_b8591_row2_col1\" class=\"data row2 col1\" >0.3904</td>\n",
       "      <td id=\"T_b8591_row2_col2\" class=\"data row2 col2\" >0.6248</td>\n",
       "      <td id=\"T_b8591_row2_col3\" class=\"data row2 col3\" >0.9895</td>\n",
       "      <td id=\"T_b8591_row2_col4\" class=\"data row2 col4\" >0.2086</td>\n",
       "      <td id=\"T_b8591_row2_col5\" class=\"data row2 col5\" >0.0814</td>\n",
       "    </tr>\n",
       "    <tr>\n",
       "      <th id=\"T_b8591_level0_row3\" class=\"row_heading level0 row3\" >3</th>\n",
       "      <td id=\"T_b8591_row3_col0\" class=\"data row3 col0\" >0.4428</td>\n",
       "      <td id=\"T_b8591_row3_col1\" class=\"data row3 col1\" >1.1783</td>\n",
       "      <td id=\"T_b8591_row3_col2\" class=\"data row3 col2\" >1.0855</td>\n",
       "      <td id=\"T_b8591_row3_col3\" class=\"data row3 col3\" >0.9595</td>\n",
       "      <td id=\"T_b8591_row3_col4\" class=\"data row3 col4\" >0.3697</td>\n",
       "      <td id=\"T_b8591_row3_col5\" class=\"data row3 col5\" >0.0722</td>\n",
       "    </tr>\n",
       "    <tr>\n",
       "      <th id=\"T_b8591_level0_row4\" class=\"row_heading level0 row4\" >4</th>\n",
       "      <td id=\"T_b8591_row4_col0\" class=\"data row4 col0\" >0.6269</td>\n",
       "      <td id=\"T_b8591_row4_col1\" class=\"data row4 col1\" >1.7207</td>\n",
       "      <td id=\"T_b8591_row4_col2\" class=\"data row4 col2\" >1.3118</td>\n",
       "      <td id=\"T_b8591_row4_col3\" class=\"data row4 col3\" >0.9466</td>\n",
       "      <td id=\"T_b8591_row4_col4\" class=\"data row4 col4\" >0.2220</td>\n",
       "      <td id=\"T_b8591_row4_col5\" class=\"data row4 col5\" >0.1004</td>\n",
       "    </tr>\n",
       "    <tr>\n",
       "      <th id=\"T_b8591_level0_row5\" class=\"row_heading level0 row5\" >5</th>\n",
       "      <td id=\"T_b8591_row5_col0\" class=\"data row5 col0\" >0.2323</td>\n",
       "      <td id=\"T_b8591_row5_col1\" class=\"data row5 col1\" >0.1844</td>\n",
       "      <td id=\"T_b8591_row5_col2\" class=\"data row5 col2\" >0.4295</td>\n",
       "      <td id=\"T_b8591_row5_col3\" class=\"data row5 col3\" >0.9961</td>\n",
       "      <td id=\"T_b8591_row5_col4\" class=\"data row5 col4\" >0.0877</td>\n",
       "      <td id=\"T_b8591_row5_col5\" class=\"data row5 col5\" >0.0568</td>\n",
       "    </tr>\n",
       "    <tr>\n",
       "      <th id=\"T_b8591_level0_row6\" class=\"row_heading level0 row6\" >6</th>\n",
       "      <td id=\"T_b8591_row6_col0\" class=\"data row6 col0\" >0.3440</td>\n",
       "      <td id=\"T_b8591_row6_col1\" class=\"data row6 col1\" >0.3821</td>\n",
       "      <td id=\"T_b8591_row6_col2\" class=\"data row6 col2\" >0.6181</td>\n",
       "      <td id=\"T_b8591_row6_col3\" class=\"data row6 col3\" >0.9875</td>\n",
       "      <td id=\"T_b8591_row6_col4\" class=\"data row6 col4\" >0.1132</td>\n",
       "      <td id=\"T_b8591_row6_col5\" class=\"data row6 col5\" >0.1033</td>\n",
       "    </tr>\n",
       "    <tr>\n",
       "      <th id=\"T_b8591_level0_row7\" class=\"row_heading level0 row7\" >7</th>\n",
       "      <td id=\"T_b8591_row7_col0\" class=\"data row7 col0\" >0.1903</td>\n",
       "      <td id=\"T_b8591_row7_col1\" class=\"data row7 col1\" >0.1343</td>\n",
       "      <td id=\"T_b8591_row7_col2\" class=\"data row7 col2\" >0.3665</td>\n",
       "      <td id=\"T_b8591_row7_col3\" class=\"data row7 col3\" >0.9967</td>\n",
       "      <td id=\"T_b8591_row7_col4\" class=\"data row7 col4\" >0.0402</td>\n",
       "      <td id=\"T_b8591_row7_col5\" class=\"data row7 col5\" >0.0387</td>\n",
       "    </tr>\n",
       "    <tr>\n",
       "      <th id=\"T_b8591_level0_row8\" class=\"row_heading level0 row8\" >8</th>\n",
       "      <td id=\"T_b8591_row8_col0\" class=\"data row8 col0\" >0.1807</td>\n",
       "      <td id=\"T_b8591_row8_col1\" class=\"data row8 col1\" >0.1387</td>\n",
       "      <td id=\"T_b8591_row8_col2\" class=\"data row8 col2\" >0.3725</td>\n",
       "      <td id=\"T_b8591_row8_col3\" class=\"data row8 col3\" >0.9954</td>\n",
       "      <td id=\"T_b8591_row8_col4\" class=\"data row8 col4\" >0.0395</td>\n",
       "      <td id=\"T_b8591_row8_col5\" class=\"data row8 col5\" >0.0434</td>\n",
       "    </tr>\n",
       "    <tr>\n",
       "      <th id=\"T_b8591_level0_row9\" class=\"row_heading level0 row9\" >9</th>\n",
       "      <td id=\"T_b8591_row9_col0\" class=\"data row9 col0\" >0.2489</td>\n",
       "      <td id=\"T_b8591_row9_col1\" class=\"data row9 col1\" >0.5096</td>\n",
       "      <td id=\"T_b8591_row9_col2\" class=\"data row9 col2\" >0.7138</td>\n",
       "      <td id=\"T_b8591_row9_col3\" class=\"data row9 col3\" >0.9865</td>\n",
       "      <td id=\"T_b8591_row9_col4\" class=\"data row9 col4\" >0.0642</td>\n",
       "      <td id=\"T_b8591_row9_col5\" class=\"data row9 col5\" >0.0664</td>\n",
       "    </tr>\n",
       "    <tr>\n",
       "      <th id=\"T_b8591_level0_row10\" class=\"row_heading level0 row10\" >Mean</th>\n",
       "      <td id=\"T_b8591_row10_col0\" class=\"data row10 col0\" >0.3113</td>\n",
       "      <td id=\"T_b8591_row10_col1\" class=\"data row10 col1\" >0.5380</td>\n",
       "      <td id=\"T_b8591_row10_col2\" class=\"data row10 col2\" >0.6718</td>\n",
       "      <td id=\"T_b8591_row10_col3\" class=\"data row10 col3\" >0.9838</td>\n",
       "      <td id=\"T_b8591_row10_col4\" class=\"data row10 col4\" >0.1278</td>\n",
       "      <td id=\"T_b8591_row10_col5\" class=\"data row10 col5\" >0.0714</td>\n",
       "    </tr>\n",
       "    <tr>\n",
       "      <th id=\"T_b8591_level0_row11\" class=\"row_heading level0 row11\" >Std</th>\n",
       "      <td id=\"T_b8591_row11_col0\" class=\"data row11 col0\" >0.1313</td>\n",
       "      <td id=\"T_b8591_row11_col1\" class=\"data row11 col1\" >0.4895</td>\n",
       "      <td id=\"T_b8591_row11_col2\" class=\"data row11 col2\" >0.2942</td>\n",
       "      <td id=\"T_b8591_row11_col3\" class=\"data row11 col3\" >0.0161</td>\n",
       "      <td id=\"T_b8591_row11_col4\" class=\"data row11 col4\" >0.1019</td>\n",
       "      <td id=\"T_b8591_row11_col5\" class=\"data row11 col5\" >0.0222</td>\n",
       "    </tr>\n",
       "  </tbody>\n",
       "</table>\n"
      ],
      "text/plain": [
       "<pandas.io.formats.style.Styler at 0x193bd3c5c40>"
      ]
     },
     "metadata": {},
     "output_type": "display_data"
    }
   ],
   "source": [
    "model_exp = create_model('et')"
   ]
  },
  {
   "cell_type": "code",
   "execution_count": 22,
   "id": "09f6e82d",
   "metadata": {
    "ExecuteTime": {
     "end_time": "2022-11-10T18:32:21.618228Z",
     "start_time": "2022-11-10T18:32:21.290086Z"
    }
   },
   "outputs": [
    {
     "data": {
      "application/vnd.jupyter.widget-view+json": {
       "model_id": "d2144389ab7d4b00948adb90d209deee",
       "version_major": 2,
       "version_minor": 0
      },
      "text/plain": [
       "interactive(children=(ToggleButtons(description='Plot Type:', icons=('',), options=(('Hyperparameters', 'param…"
      ]
     },
     "metadata": {},
     "output_type": "display_data"
    }
   ],
   "source": [
    "evaluate_model(model_exp)"
   ]
  },
  {
   "cell_type": "code",
   "execution_count": 23,
   "id": "0cfebce6",
   "metadata": {
    "ExecuteTime": {
     "end_time": "2022-11-10T18:32:25.959377Z",
     "start_time": "2022-11-10T18:32:21.621221Z"
    }
   },
   "outputs": [
    {
     "data": {
      "image/png": "[encoded data removed]",
      "text/plain": [
       "<Figure size 576x684 with 2 Axes>"
      ]
     },
     "metadata": {},
     "output_type": "display_data"
    }
   ],
   "source": [
    "interpret_model(model_exp, plot = 'summary')"
   ]
  },
  {
   "cell_type": "code",
   "execution_count": 24,
   "id": "b07b008b",
   "metadata": {
    "ExecuteTime": {
     "end_time": "2022-11-10T18:32:28.075297Z",
     "start_time": "2022-11-10T18:32:25.962599Z"
    }
   },
   "outputs": [
    {
     "data": {
      "image/png": "[encoded data removed]",
      "text/plain": [
       "<Figure size 800x3000 with 1 Axes>"
      ]
     },
     "metadata": {},
     "output_type": "display_data"
    }
   ],
   "source": [
    "plot_model(model_exp, plot = 'feature_all')"
   ]
  },
  {
   "cell_type": "markdown",
   "id": "3c982bd7",
   "metadata": {
    "ExecuteTime": {
     "end_time": "2022-11-10T10:43:04.410997Z",
     "start_time": "2022-11-10T10:43:04.374768Z"
    }
   },
   "source": [
    "# Best Model"
   ]
  },
  {
   "cell_type": "markdown",
   "id": "4ba52b6e",
   "metadata": {},
   "source": [
    "## Extra Trees Regressor"
   ]
  },
  {
   "cell_type": "code",
   "execution_count": 50,
   "id": "14fd8134",
   "metadata": {
    "ExecuteTime": {
     "end_time": "2022-11-10T18:49:23.794196Z",
     "start_time": "2022-11-10T18:49:23.783709Z"
    }
   },
   "outputs": [],
   "source": [
    "from sklearn.ensemble import ExtraTreesRegressor\n",
    "import pickle"
   ]
  },
  {
   "cell_type": "code",
   "execution_count": 51,
   "id": "776db05a",
   "metadata": {
    "ExecuteTime": {
     "end_time": "2022-11-10T18:49:24.154060Z",
     "start_time": "2022-11-10T18:49:24.126818Z"
    }
   },
   "outputs": [
    {
     "name": "stdout",
     "output_type": "stream",
     "text": [
      "<class 'pandas.core.frame.DataFrame'>\n",
      "RangeIndex: 480 entries, 0 to 479\n",
      "Data columns (total 5 columns):\n",
      " #   Column                                                         Non-Null Count  Dtype  \n",
      "---  ------                                                         --------------  -----  \n",
      " 0   Prevalence of Undernourishment (%)                             480 non-null    float64\n",
      " 1   GDP per Capita t-1 (Current US$)                               480 non-null    float64\n",
      " 2   Food Price Index (May)                                         480 non-null    float64\n",
      " 3   Agri to GDP t-1 (%)                                            480 non-null    float64\n",
      " 4   Agri Raw Materials Import to Total Merchandise Import t-1 (%)  480 non-null    float64\n",
      "dtypes: float64(5)\n",
      "memory usage: 18.9 KB\n"
     ]
    }
   ],
   "source": [
    "train1.info()"
   ]
  },
  {
   "cell_type": "code",
   "execution_count": 52,
   "id": "f38fe19f",
   "metadata": {
    "ExecuteTime": {
     "end_time": "2022-11-10T18:49:27.198662Z",
     "start_time": "2022-11-10T18:49:26.966888Z"
    }
   },
   "outputs": [
    {
     "data": {
      "text/plain": [
       "ExtraTreesRegressor(bootstrap=False, ccp_alpha=0.0, criterion='mse',\n",
       "                    max_depth=None, max_features='auto', max_leaf_nodes=None,\n",
       "                    max_samples=None, min_impurity_decrease=0.0,\n",
       "                    min_impurity_split=None, min_samples_leaf=1,\n",
       "                    min_samples_split=2, min_weight_fraction_leaf=0.0,\n",
       "                    n_estimators=100, n_jobs=-1, oob_score=False,\n",
       "                    random_state=5496, verbose=0, warm_start=False)"
      ]
     },
     "execution_count": 52,
     "metadata": {},
     "output_type": "execute_result"
    }
   ],
   "source": [
    "model = ExtraTreesRegressor(bootstrap=False, ccp_alpha=0.0, criterion='mse',\n",
    "                     max_depth=None, max_features='auto', max_leaf_nodes=None,\n",
    "                     max_samples=None, min_impurity_decrease=0.0, min_samples_leaf=1,\n",
    "                     min_samples_split=2, min_weight_fraction_leaf=0.0,\n",
    "                     n_estimators=100, n_jobs=-1, oob_score=False,\n",
    "                     random_state=5496, verbose=0, warm_start=False)\n",
    "X = train1.drop(['Prevalence of Undernourishment (%)'],axis=1)\n",
    "y = train1['Prevalence of Undernourishment (%)']\n",
    "#Fit The Model\n",
    "model.fit(X,y)\n",
    "#This model will be used to predict the Prevalence of Undernourishment (%)"
   ]
  },
  {
   "cell_type": "markdown",
   "id": "1320312f",
   "metadata": {},
   "source": [
    "# Clustering"
   ]
  },
  {
   "cell_type": "code",
   "execution_count": 76,
   "id": "612a6185",
   "metadata": {
    "ExecuteTime": {
     "end_time": "2022-11-10T19:02:34.357609Z",
     "start_time": "2022-11-10T19:02:34.256302Z"
    }
   },
   "outputs": [
    {
     "data": {
      "text/html": [
       "<div>\n",
       "<style scoped>\n",
       "    .dataframe tbody tr th:only-of-type {\n",
       "        vertical-align: middle;\n",
       "    }\n",
       "\n",
       "    .dataframe tbody tr th {\n",
       "        vertical-align: top;\n",
       "    }\n",
       "\n",
       "    .dataframe thead th {\n",
       "        text-align: right;\n",
       "    }\n",
       "</style>\n",
       "<table border=\"1\" class=\"dataframe\">\n",
       "  <thead>\n",
       "    <tr style=\"text-align: right;\">\n",
       "      <th></th>\n",
       "      <th>Country</th>\n",
       "      <th>Year</th>\n",
       "      <th>C&amp;Y</th>\n",
       "      <th>Prevalence of Undernourishment (%)</th>\n",
       "      <th>GDP per Capita t-1 (Current US$)</th>\n",
       "      <th>Food Price Index (May)</th>\n",
       "      <th>Agri to GDP t-1 (%)</th>\n",
       "      <th>Agri Raw Materials Import to Total Merchandise Import t-1 (%)</th>\n",
       "    </tr>\n",
       "  </thead>\n",
       "  <tbody>\n",
       "    <tr>\n",
       "      <th>0</th>\n",
       "      <td>Armenia</td>\n",
       "      <td>2013</td>\n",
       "      <td>Armenia2013</td>\n",
       "      <td>3.2</td>\n",
       "      <td>3681.844691</td>\n",
       "      <td>96.609801</td>\n",
       "      <td>17.912682</td>\n",
       "      <td>1.189197</td>\n",
       "    </tr>\n",
       "    <tr>\n",
       "      <th>1</th>\n",
       "      <td>Armenia</td>\n",
       "      <td>2014</td>\n",
       "      <td>Armenia2014</td>\n",
       "      <td>2.8</td>\n",
       "      <td>3838.173880</td>\n",
       "      <td>97.995054</td>\n",
       "      <td>18.434763</td>\n",
       "      <td>1.089694</td>\n",
       "    </tr>\n",
       "    <tr>\n",
       "      <th>2</th>\n",
       "      <td>Armenia</td>\n",
       "      <td>2015</td>\n",
       "      <td>Armenia2015</td>\n",
       "      <td>2.8</td>\n",
       "      <td>3986.231624</td>\n",
       "      <td>102.964598</td>\n",
       "      <td>18.072036</td>\n",
       "      <td>1.514212</td>\n",
       "    </tr>\n",
       "  </tbody>\n",
       "</table>\n",
       "</div>"
      ],
      "text/plain": [
       "   Country  Year          C&Y  Prevalence of Undernourishment (%)  \\\n",
       "0  Armenia  2013  Armenia2013                                 3.2   \n",
       "1  Armenia  2014  Armenia2014                                 2.8   \n",
       "2  Armenia  2015  Armenia2015                                 2.8   \n",
       "\n",
       "   GDP per Capita t-1 (Current US$)  Food Price Index (May)  \\\n",
       "0                       3681.844691               96.609801   \n",
       "1                       3838.173880               97.995054   \n",
       "2                       3986.231624              102.964598   \n",
       "\n",
       "   Agri to GDP t-1 (%)  \\\n",
       "0            17.912682   \n",
       "1            18.434763   \n",
       "2            18.072036   \n",
       "\n",
       "   Agri Raw Materials Import to Total Merchandise Import t-1 (%)  \n",
       "0                                           1.189197              \n",
       "1                                           1.089694              \n",
       "2                                           1.514212              "
      ]
     },
     "execution_count": 76,
     "metadata": {},
     "output_type": "execute_result"
    }
   ],
   "source": [
    "#After predict the result, we try to cluster the data for more insight\n",
    "data = pd.read_excel('All Data.xlsx')\n",
    "data.head(3)"
   ]
  },
  {
   "cell_type": "code",
   "execution_count": 77,
   "id": "2c8d945b",
   "metadata": {
    "ExecuteTime": {
     "end_time": "2022-11-10T19:02:35.351616Z",
     "start_time": "2022-11-10T19:02:35.286781Z"
    }
   },
   "outputs": [
    {
     "data": {
      "application/vnd.plotly.v1+json": {
       "config": {
        "plotlyServerURL": "https://plot.ly"
       },
       "data": [
        {
         "dimensions": [
          {
           "axis": {
            "matches": true
           },
           "label": "GDP per Capita t-1 (Current US$)",
           "values": [
            3681.8446906049526,
            3838.1738799778586,
            3986.231623767126,
            3607.289298553611,
            3591.828052216386,
            3914.527854366958,
            4220.540320791452,
            4604.646323556948,
            4266.018074209457,
            4670.008798000999,
            68027.84170673776,
            68156.62791620853,
            62511.690589528385,
            56707.02207721163,
            49881.76371404656,
            53934.25017504627,
            57180.77940016135,
            54875.285956335065,
            51680.31652294385,
            59934.12940888954,
            48564.91733508746,
            50731.12725418466,
            51786.37717479049,
            44195.817594774824,
            45307.58786204294,
            47429.15845643865,
            51486.57550148242,
            50114.40110997282,
            48588.6593847921,
            53267.93274911318,
            44670.56068451006,
            46757.951855959756,
            47764.07151208328,
            41008.29671947198,
            42012.622719101564,
            44198.4823908691,
            47549.20804945462,
            46599.11133509379,
            45189.36690031261,
            51767.78857236462,
            4530.604800529939,
            4575.680956484842,
            4744.108945232267,
            4805.1968523727855,
            4877.670505932576,
            4909.604663799161,
            4927.19422373932,
            4983.336114358693,
            3987.796596120666,
            4420.491372337404,
            2609.88056208632,
            2908.2003709480014,
            3081.8788236516257,
            3035.9716549510713,
            3076.656439337206,
            3351.12434432642,
            3548.5907802189927,
            3552.0681438365323,
            3137.989617440182,
            3414.892848560867,
            15354.618404141293,
            15777.78150896667,
            14606.996724190543,
            13495.010609964898,
            13690.907462121531,
            14962.556847179094,
            15772.333484425022,
            14699.462780804832,
            13220.57075804192,
            16502.83857090346,
            6300.615118257887,
            7020.338484536575,
            7636.116601255022,
            8016.431434980026,
            8094.363366751941,
            8816.986904519892,
            9905.342003892534,
            10143.838195559532,
            10408.66975613492,
            12556.33312000579,
            8050.255371670496,
            8218.347844314756,
            8114.3439208515965,
            6175.876029702581,
            5870.777957241634,
            6376.706715526008,
            6729.583331981678,
            6418.615782544924,
            5312.198555549846,
            6131.225921531167,
            13401.656620328295,
            13837.731637658671,
            13762.372863059865,
            11933.377378828136,
            12527.73985698235,
            13629.289592246976,
            15227.560096809613,
            15311.766903695032,
            14132.48656094995,
            17398.76597681076,
            28912.15625,
            27729.193359375,
            27163.33203125,
            23408.3359375,
            24605.919921875,
            26608.875,
            29334.111328125,
            29206.076171875,
            27681.56640625,
            30798.4765625,
            19870.801212340346,
            20133.169143135263,
            19890.919905664778,
            17829.69832236678,
            18575.232027191487,
            20636.199952434956,
            23419.735613650162,
            23660.148806831683,
            22933.49959092365,
            26378.4999575477,
            58507.50805178519,
            61191.193704202844,
            62548.98473329075,
            53254.856370091584,
            54663.9983719195,
            57610.098180113484,
            61591.92886989581,
            59775.73509645146,
            61063.31643042379,
            67803.04710464025,
            7003.859021472334,
            7559.975039052797,
            5682.046108144972,
            6056.3312125381335,
            6377.09392877257,
            6124.490887071335,
            6060.092961567913,
            6213.50312736888,
            6295.934661639924,
            6222.5246532724805,
            5627.772279865284,
            5934.875495808083,
            3229.685630303805,
            3262.6575864710353,
            3379.5579862705767,
            3562.9326579842254,
            3519.8732398108036,
            2444.2903871844783,
            2537.125185047117,
            3019.092283466461,
            3569.206841211084,
            3876.359593733486,
            3428.4093324668056,
            3509.5265362245846,
            3589.0428846199056,
            3705.5797035345254,
            3805.9956857443444,
            3910.254403327174,
            4052.6247753374223,
            4167.730938785629,
            3798.636520823206,
            4408.520365114674,
            17403.205325476698,
            19056.001922698946,
            20261.066730388637,
            17402.037612807875,
            18295.342932211355,
            20437.765376735962,
            23063.563817567512,
            23397.87825609441,
            23054.35849059781,
            27280.65843969931,
            4591.5770150620665,
            4840.727269872424,
            5605.609148441846,
            5390.7142070308455,
            5651.272721327723,
            6101.023889500807,
            6317.41372301725,
            6175.890652655599,
            5102.843929249825,
            5085.971641958608,
            47708.0612784469,
            49892.22336327324,
            50327.24029026319,
            42801.90811672851,
            43814.02650569646,
            46412.13647771692,
            49988.910846184495,
            48628.64176210504,
            49160.83715225961,
            53982.61427352609,
            40872.36246156877,
            42605.04437821795,
            43068.548724173925,
            36652.92230521776,
            37062.53357238286,
            38781.04948708362,
            41592.79589643196,
            40578.644285053386,
            39037.12263090743,
            43518.53851308511,
            4421.81824228013,
            4623.7457247341945,
            4739.188338464207,
            4014.1859441932947,
            4062.169887573793,
            4357.000935546277,
            4722.042423141403,
            4696.150585556124,
            4255.742993212536,
            5042.385527773875,
            43855.854465861754,
            46298.92291773408,
            48023.86998454624,
            41103.25643637683,
            42136.120790799105,
            44652.58917227186,
            47973.60762350969,
            46794.89929156027,
            46252.68930448921,
            50801.78671053076,
            21912.998287951716,
            21787.787763603465,
            21616.710009490806,
            18083.877905654695,
            17923.966813471638,
            18582.08934116313,
            19756.99045625501,
            19133.757763625435,
            17647.23268827435,
            20276.54467440746,
            3355.036918812722,
            3522.773706214754,
            3779.642336130248,
            3994.636912884745,
            4173.301666194739,
            4454.048149835476,
            4478.424645509439,
            4638.634943195106,
            4603.339643406454,
            5025.575572614512,
            12989.180281589623,
            13719.950539362095,
            14298.833667394954,
            12720.712022066813,
            13107.377913774431,
            14623.696649231098,
            16427.37276114784,
            16735.659779476086,
            16075.97326625054,
            18772.67329206671,
            1443.8824347613838,
            1449.61045069641,
            1573.885641829559,
            1605.6054445708705,
            1732.5542423165914,
            1980.6670198280233,
            1998.2590762767506,
            2072.244897350407,
            1933.1010689481,
            2277.434346743544,
            3694.359339802136,
            3623.92724054274,
            3491.637491254492,
            3331.6951146918896,
            3562.8163335218346,
            3837.5780236263286,
            3893.85957814877,
            4135.233343512023,
            3870.557619792487,
            4291.812554491208,
            35051.52126977026,
            35560.08140622885,
            35565.721377149624,
            30242.38613521843,
            30960.73150889022,
            32406.72031501343,
            34622.16966647412,
            33673.47544744835,
            31834.97261840463,
            35551.28499000708,
            1177.9747348784833,
            1282.4371620246661,
            1279.769782659855,
            1121.0828351073897,
            1120.6665130084834,
            1242.7696428202323,
            1308.14016549619,
            1374.0321046742079,
            1182.52170043018,
            1276.242643275282,
            13847.33793931943,
            15007.4918561719,
            15742.391338190771,
            13786.45679531137,
            14331.751588504894,
            15695.11515410587,
            17865.031094764225,
            17926.84158991897,
            17703.95344323315,
            20642.16792212527,
            14367.70942487197,
            15729.652466651236,
            16551.018202077976,
            14263.964577349474,
            15008.313244552579,
            16885.407394837326,
            19186.181281417783,
            19575.76848140705,
            20232.30203585879,
            23433.39090737691,
            112584.6762709582,
            120000.14072985915,
            123678.70214327476,
            105462.01258442263,
            106899.29354955172,
            110193.21379722781,
            117254.74035268243,
            113218.71334967784,
            116356.1580372857,
            135682.7942746481,
            10817.431710078306,
            10970.104299603312,
            11319.061944848245,
            9955.242721676264,
            9817.787090310092,
            10259.30480648114,
            11380.079220973967,
            11432.826034656748,
            10412.34766774993,
            11371.09901928104,
            9291.22761861899,
            9637.00265000958,
            10153.93821848674,
            9260.447302506354,
            9681.618566896736,
            10484.908362041104,
            11208.343818447358,
            11097.168977136957,
            8632.752858724578,
            8812.10824897507,
            10241.72782804297,
            10725.18358737964,
            10928.916008998802,
            9616.64555810607,
            8744.515559127856,
            9287.849587323022,
            9686.984926555855,
            9950.217621834803,
            8431.665017447616,
            9926.422767554355,
            6586.721279322201,
            7188.862444595841,
            7387.8710363223445,
            6517.18961381857,
            7033.438006294779,
            7803.362579408441,
            8850.37840418667,
            8909.890151103295,
            7694.6337585059,
            9367.016883648357,
            1134.3022237660882,
            1168.1654534738448,
            1210.0976535709126,
            1196.743333085259,
            1136.6106269851052,
            1151.1144641548276,
            1250.1736850253862,
            1271.111535797259,
            1450.662673471817,
            1187.238484168529,
            50070.14160459042,
            52198.89756074542,
            52900.537415323044,
            45193.40321879707,
            46039.10592840976,
            48675.22233502126,
            53044.53243522532,
            52476.273253332714,
            52396.03220995246,
            58061.00166793593,
            1760.4603082884105,
            1811.6368027036283,
            1934.062922272252,
            2049.8516660809028,
            2107.5740596602045,
            2159.161925546563,
            2014.5751887904669,
            1924.4718155704968,
            1900.043594275886,
            2090.753461131411,
            2723.8221909385916,
            2961.5494217594737,
            3098.9857906393822,
            2687.480056432116,
            2176.0027720151456,
            1968.565398474444,
            2027.7785486384198,
            2229.8586518612988,
            2097.092472890216,
            2085.030764779358,
            101524.14185198475,
            102913.45084367356,
            97019.18275274622,
            74355.51585756434,
            70460.56053233217,
            75496.75405819977,
            82267.809316159,
            75719.75289653419,
            67329.67779109669,
            89202.75053814382,
            1198.1176370400738,
            1208.9177102045812,
            1251.1757186794932,
            1356.6678306576289,
            1540.1845031154583,
            1631.5319093604119,
            1678.043150200059,
            1481.8138641734731,
            1359.514521568739,
            1537.936410655227,
            10722.26147585221,
            11889.095065060214,
            12796.074037676053,
            13630.301147287759,
            14343.980255001581,
            15146.408510447642,
            15544.999075862585,
            15774.254952383646,
            12509.83529126015,
            14516.45804724,
            5185.141548712791,
            5936.975959022483,
            6118.31811031962,
            5413.776020618583,
            5324.609067777768,
            5678.869972200001,
            5782.784549812856,
            5383.574421507761,
            4967.687211715286,
            5400.10382635384,
            2694.3051093444246,
            2871.4297013577548,
            2959.6454352134874,
            3001.043181708628,
            3073.6546857148887,
            3123.245641743562,
            3252.110274107062,
            3485.340843900914,
            3301.218602576725,
            3548.828322580573,
            13097.27084821743,
            13696.466304614301,
            14271.30585362023,
            12578.495473436242,
            12447.439591280814,
            13864.681757997289,
            15468.482219410484,
            15732.203131175449,
            15742.45372563682,
            17840.92105066737,
            20563.713601262887,
            21653.19597522246,
            22103.700970332095,
            19250.106537685195,
            19991.972487880517,
            21490.429863103967,
            23562.554522819133,
            23330.817288932005,
            22194.56611493497,
            24262.18093525742,
            8507.104774564363,
            9547.852150966124,
            10043.677449761379,
            8969.148921461934,
            9548.587402982675,
            10807.009167199336,
            12398.98197876661,
            12899.346111289662,
            12956.56624775685,
            14861.90917379331,
            1330.6201139518096,
            1564.7685479269999,
            1770.4676880717873,
            1584.7756574378843,
            1700.097996663644,
            1813.8074335970416,
            1953.5132573675983,
            1987.5797016681831,
            2157.840445696678,
            2449.333442436266,
            1317.779801805381,
            1372.6657793190216,
            1396.6573385558554,
            1219.2494151330177,
            1269.9032938598457,
            1361.7019721837473,
            1458.0815837400178,
            1435.8303665307624,
            1462.808168884379,
            1606.472060873112,
            17429.829750132005,
            18208.41759365784,
            18655.79010894211,
            16342.216262109338,
            16512.29298590046,
            17538.048584386037,
            19389.982159444902,
            19303.54565813827,
            19266.51357362473,
            21087.84610100567,
            22641.805122502992,
            23503.282485025542,
            24247.17331840832,
            20890.166430417266,
            21678.359467062946,
            23514.025460414683,
            26116.856355879307,
            25942.954774143614,
            25489.50022840827,
            29200.81987838626,
            28322.809249505743,
            29067.80946002199,
            29500.789432861482,
            25742.368834676654,
            26523.3482221547,
            28170.167864330248,
            30364.57994356216,
            29554.49051700874,
            27056.42175121655,
            30115.70588667918,
            58037.82131921726,
            61126.943196397886,
            60020.3604576572,
            51545.48360953215,
            51965.15715319852,
            53791.50872984028,
            54589.06038606061,
            51939.42974452912,
            52300.20619949934,
            60238.98656449223,
            86547.67089072654,
            88109.48675240371,
            89684.7075795936,
            84776.14216597479,
            83073.2800824812,
            83352.08865334115,
            86388.40495271837,
            85334.51946209093,
            87100.41482137512,
            93457.44039761553,
            867.857482910156,
            970.399597167969,
            1030.07763671875,
            947.933349609375,
            966.502990722656,
            1004.90661621094,
            1042.83874511719,
            1085.88488769531,
            1076.4697265625,
            1135.53967285156,
            571.8067239441666,
            621.398853574683,
            640.9342196288273,
            570.9099671753077,
            803.1518934041002,
            830.7452766514375,
            901.5230168989367,
            893.3524541216748,
            914.9507924532143,
            992.3284293624907,
            11795.633456757056,
            12614.781610038588,
            12157.990433782299,
            11006.279523964891,
            10894.603377927504,
            10589.667724687044,
            9454.34844272271,
            9121.515166737083,
            8536.433319606316,
            9586.612450055969,
            4004.80444335938,
            4187.73974609375,
            3104.64331054688,
            2124.66235351563,
            2187.73046875,
            2638.326171875,
            3096.56176757813,
            3661.45629882813,
            3751.74072265625,
            4835.57177734375,
            42686.800052492596,
            43713.81412423079,
            47787.24129848843,
            45404.567773472154,
            41499.55570330727,
            40857.755582962665,
            43646.95197114935,
            43070.498359588775,
            41098.07865278275,
            47334.35531498753
           ]
          },
          {
           "axis": {
            "matches": true
           },
           "label": "Food Price Index (May)",
           "values": [
            96.609801,
            97.995054,
            102.964598,
            98.359934,
            104.425943,
            103.875067,
            109.352035,
            110.41619,
            118.721549,
            135.921277,
            96.148708,
            98.454739,
            99.896009,
            99.831953,
            101.721618,
            102.073928,
            104.476044,
            108.479571,
            109.248249,
            115.109412,
            97.70263,
            99.62522,
            100.7,
            100.8,
            102.9,
            104.9,
            105.9,
            107.2328,
            109.1805,
            119.0274,
            100.1471,
            99.20486,
            100.4645,
            103.2516,
            103.4401,
            106.1776,
            106.9314,
            111.1467,
            109.3912,
            116.6317,
            98.70392,
            99.93252,
            99.741952,
            100.097399,
            98.823881,
            98.127402,
            98.603506,
            99.751048,
            103.378358,
            111.014802,
            84.942575,
            93.867269,
            97.9675,
            107.387496,
            106.086983,
            111.207238,
            114.326551,
            114.399208,
            115.172676,
            116.208074,
            86.02202,
            91.59863,
            98.62954,
            102.8065,
            105.4964,
            108.1973,
            111.0402,
            118.3554,
            124.0851,
            145.3528,
            93.15573,
            96.97167,
            98.6546,
            103.1204,
            102.8746,
            103.6806,
            109.6883,
            119.0604,
            115.7959,
            118.2321,
            89.83594,
            92.69116,
            99.11542,
            114.8997,
            114.6004,
            115.4869,
            120.1497,
            129.2449,
            141.5408,
            172.1194,
            103.9,
            100.1,
            100.6,
            100.3,
            103,
            104.5,
            103.8,
            106.4,
            105.7,
            121.7,
            101.384923,
            99.800295,
            99.94861,
            98.4,
            99.67,
            100.69,
            99.96,
            103.61,
            101.8,
            110.53,
            99.3,
            101.8,
            101.5,
            99,
            103.5,
            106,
            109,
            115.9,
            114.4,
            131.7,
            99.9,
            98.9,
            100,
            100.4,
            102.2,
            102.9,
            104.2,
            105.4,
            105.4,
            116,
            104.999951,
            108.625507,
            91.507055,
            95.453883,
            100.48509,
            103.274282,
            104.25214,
            100.915237,
            101.353718,
            104.799133,
            101.460397,
            105.48919,
            78.349319,
            87.523309,
            100.436416,
            114.815831,
            162.002255,
            175.861944,
            202.353445,
            201.029724,
            204.568007,
            261.584165,
            95.27078,
            96.921718,
            100.573792,
            100.037162,
            99.6854,
            99.640219,
            101.96955,
            104.27401,
            103.365257,
            117.090935,
            102.3242,
            101.4154,
            101.2015,
            99.91847,
            106.0665,
            109.1138,
            112.6956,
            115.5291,
            116.3844,
            136.165,
            93.449989,
            95.263625,
            99.272715,
            109.104532,
            103.854533,
            110.53635,
            115.690895,
            114.54544,
            118.74544,
            123.040894,
            102.979,
            101.4665,
            100.14,
            98.45,
            97.49,
            99.8,
            100.3,
            102.69,
            103.17,
            112.5,
            101.33,
            100.13,
            100.48,
            101.48,
            101.89,
            103.82,
            106.07,
            110.24,
            109.7,
            114.75,
            93.721922,
            96.156084,
            99.928458,
            101.292316,
            109.742541,
            111.727866,
            120.554723,
            138.260142,
            142.826198,
            174.252277,
            98.95426,
            99.4,
            100.8,
            100.7,
            102.9,
            106.2,
            107.1,
            111.6,
            113.2,
            125.3,
            101.5207,
            98.54854,
            99.07326,
            99.81675,
            99.6848,
            100.0826,
            100.5388,
            102.0266,
            101.8703,
            114.1482,
            84.364034,
            89.556818,
            98.662907,
            108.497211,
            116.752581,
            125.85867,
            138.53097,
            145.221019,
            153.047627,
            164.100159,
            102.1014,
            100.7309,
            101.6903,
            101.2791,
            103.8145,
            107.7204,
            113.2709,
            123.0699,
            125.2627,
            149.5889,
            85.581273,
            93.183273,
            97.963911,
            105.017313,
            104.7822,
            108.230529,
            110.424921,
            119.672714,
            125.942405,
            135.817167,
            84.716523,
            90.842492,
            98.038943,
            105.633894,
            109.196957,
            114.080542,
            114.393092,
            121.917747,
            125.640252,
            132.685606,
            99.35662,
            99.17279,
            100.1838,
            100.4,
            102.3,
            104.2,
            104.6,
            107.3,
            106.5,
            114.4,
            89.525484,
            98.18739,
            101.367208,
            93.366652,
            97.874024,
            94.307704,
            94.013633,
            106.492654,
            124.318335,
            146.227058,
            102.5596,
            102.0595,
            102.285,
            102.1139,
            107.2776,
            107.6911,
            112.2743,
            115.0736,
            116.125,
            137.2104,
            101.2982,
            101.68,
            101.2711,
            102.2898,
            104.3767,
            107.1402,
            110.2385,
            113.3651,
            114.2025,
            142.5241,
            98.59,
            99.38,
            99.9,
            101.73,
            104.56,
            106.44,
            107.98,
            111.9,
            112.15,
            118.32,
            92.837107,
            95.937263,
            99.288784,
            103.394396,
            107.918948,
            109.846072,
            111.18668,
            112.527288,
            114.203048,
            120.151996,
            92.617818,
            96.29384,
            97.369749,
            100.059521,
            110.818609,
            109.710423,
            111.234179,
            119.564044,
            122.306805,
            136.731694,
            92.57253,
            95.0862,
            99.31037,
            103.8939,
            111.1731,
            115.3398,
            121.4904,
            130.7222,
            138.1032,
            155.3904,
            100.852394,
            97.183129,
            100.854066,
            99.171934,
            101.485627,
            101.316631,
            105.431105,
            106.833453,
            109.858736,
            132.648296,
            87.974124,
            92.844295,
            98.345869,
            105.227684,
            108.933788,
            114.594842,
            127.388826,
            130.664689,
            136.521994,
            161.252007,
            100.19,
            99.48,
            100.05,
            101.34,
            103.82,
            104.43,
            108.11,
            111.55,
            109.91,
            120.05,
            89.30375,
            93.599195,
            100.706765,
            103.015309,
            101.762768,
            106.530152,
            111.618864,
            115.952909,
            120.021357,
            140.30956,
            82.270352,
            90.215674,
            99.010497,
            113.617138,
            135.3695,
            153.56077,
            174.652304,
            200.773991,
            245.250519,
            292.921707,
            94,
            97.2,
            99.7,
            102.1,
            102.8,
            103.9,
            104.9,
            109.8,
            107.6,
            110.4,
            92.023403,
            98.262278,
            100.461527,
            101.059649,
            105.66059,
            107.846036,
            117.103128,
            131.263401,
            150.726159,
            176.731908,
            97.355342,
            101.910964,
            99.557352,
            101.435793,
            101.336927,
            99.853948,
            100.601765,
            99.471636,
            100.99861,
            104.581489,
            88.842607,
            98.910528,
            103.264224,
            106.25739,
            111.69951,
            116.352863,
            119.042426,
            117.756113,
            125.707867,
            148.818939,
            91.668322,
            97.007346,
            99.450628,
            100.808007,
            103.884732,
            109.857199,
            113.567368,
            116.91557,
            122.254593,
            126.587972,
            103.7792,
            102.8505,
            100.6062,
            101.4575,
            105.327,
            108.4225,
            113.7624,
            120.4953,
            122.2752,
            138.8366,
            100.6428,
            98.29906,
            100.3376,
            100.2323,
            102.3112,
            103.0268,
            103.1932,
            105.5113,
            106.0881,
            119.1671,
            108.234182,
            104.820174,
            106.067116,
            98.034706,
            100.29456,
            104.234138,
            109.699234,
            115.47032,
            117.231904,
            133.935796,
            89.457615,
            95.755131,
            99.646061,
            101.633104,
            105.536214,
            114.539061,
            125.802647,
            141.784745,
            153.04809,
            177.832913,
            96.180969,
            92.985098,
            95.708964,
            97.400317,
            102.395709,
            102.42521,
            104.814738,
            108.305612,
            110.075633,
            123.311456,
            101.9215,
            101.4264,
            101.6386,
            97.39479,
            100.8605,
            105.3872,
            109.4896,
            114.7943,
            113.8748,
            132.0523,
            101.44,
            100.6,
            101.8,
            101.66,
            104.32,
            107.85,
            108.58,
            114.1,
            111.28,
            123.35,
            99.12992,
            98.32331,
            99.564,
            101.2871,
            102.4311,
            104.474,
            105.0422,
            108.7313,
            109.5697,
            121.6052,
            98.04795,
            97.60687,
            100.4026,
            101.3153,
            102.8116,
            105.9805,
            108.1893,
            112.3829,
            111.287,
            121.0755,
            100.0089,
            101.0883,
            99.91489,
            100.1272,
            100.8425,
            102.4391,
            102.6494,
            103.0473,
            100.9247,
            101.9863,
            85.99095,
            93.505473,
            100.653109,
            107.721135,
            120.19821,
            123.353746,
            126.021015,
            131.548464,
            137.112714,
            144.632019,
            102.432093,
            97.869269,
            101.969198,
            110.348545,
            106.324191,
            109.337733,
            106.371425,
            108.024622,
            116.233927,
            132.066832,
            77.83197,
            88.81667,
            100.1975,
            102.673,
            120.0328,
            133.2336,
            171.1252,
            193.156,
            226.0726,
            433.2216,
            61.716051,
            69.064682,
            105.621011,
            109.668986,
            121.314699,
            138.004812,
            150.646949,
            154.694924,
            170.07723,
            210.245598,
            102.9,
            102.2,
            100.4,
            97.6,
            99.6,
            101.9,
            103,
            105,
            103.6,
            112.6
           ]
          },
          {
           "axis": {
            "matches": true
           },
           "label": "Agri to GDP t-1 (%)",
           "values": [
            17.912681952639666,
            18.434762883496763,
            18.072036347066245,
            17.223120031805646,
            16.390473533849974,
            14.994260124277622,
            13.942311655414613,
            11.525610737958814,
            11.21342390635557,
            11.10929141439498,
            2.26809636459164,
            2.2857176329392224,
            2.2209460681003383,
            2.3760986737982277,
            2.404231292648322,
            2.702473805130863,
            2.4578039725526413,
            2.116864005656069,
            2.006092284889538,
            2.267623281938646,
            1.348551389938097,
            1.2547212159419494,
            1.2007405640414728,
            1.129790193564496,
            1.1103164792617166,
            1.21053643138638,
            1.1301555079802383,
            1.0715827241667772,
            1.099908742094022,
            1.095853754079098,
            0.7812267349466446,
            0.6811749134595806,
            0.637835968092569,
            0.6864147804639005,
            0.6284334758709493,
            0.6650936602418469,
            0.6029884912072964,
            0.66575512782419,
            0.6383619259893395,
            0.5851604769928364,
            13.351496997059979,
            13.690585051562424,
            13.648849712712078,
            12.90247296723076,
            11.091616349588202,
            11.122883367662597,
            9.561592754411532,
            8.939338056820938,
            11.54584626866338,
            11.36965806491521,
            9.812161914832803,
            9.966979476846303,
            9.740217537701692,
            10.239494114445522,
            11.17187541505321,
            11.589335938215314,
            11.481924151985146,
            12.22175758248909,
            14.0009305366582,
            12.92225271953304,
            3.274933539617523,
            3.4733753278992627,
            3.9466206299946176,
            3.7094042753649,
            4.199089371289474,
            4.2809716137703715,
            3.927435924613308,
            3.9839672335147416,
            4.084313238030017,
            3.284870411476113,
            9.113713870307512,
            8.942893962300571,
            8.64349139629661,
            8.387014882196029,
            8.057287534643597,
            7.463565016568735,
            7.043020253196253,
            7.143690277581798,
            7.698642516972237,
            7.264816056593962,
            5.582687053549311,
            5.39271495449473,
            5.446957214744195,
            5.980424808498154,
            6.606412266057868,
            6.389663552681172,
            6.225709689600321,
            6.410720821683127,
            7.390867701525644,
            7.391630702116434,
            3.303683981933472,
            3.46429594642386,
            2.9546900971919547,
            2.974404320702426,
            3.0699216028743708,
            2.8955820805983876,
            2.957091869877039,
            2.8687640937339336,
            3.216507470538233,
            3.131342543567368,
            2.0068950947793907,
            2.0414708179237,
            1.8504533607004547,
            1.8742717985430406,
            2.153329170483493,
            1.8581680987877558,
            1.7335398548568755,
            1.8086052458804653,
            1.930841667079133,
            1.769754274279229,
            2.2511856454724386,
            2.3647711662443687,
            2.41345254208349,
            2.2112138726824058,
            2.0870471242411464,
            2.0576068880787,
            1.9366448754220456,
            1.8612180131487779,
            1.91569347148341,
            1.95394854648997,
            1.654727530471845,
            1.3021275870146465,
            1.3824625977352534,
            0.9575802012883678,
            0.9611609740863056,
            1.304800359965708,
            1.0265693512957044,
            1.2220281022500117,
            1.306329293311325,
            0.9671925404326419,
            15.15594470316884,
            17.31572052105324,
            8.642412748822444,
            8.76934290282697,
            9.126508258712288,
            9.454851422113085,
            9.519016728182326,
            9.329258911537641,
            8.949269522748219,
            8.800531142886925,
            9.842730756074431,
            9.414287639305838,
            11.27276527139189,
            11.274349602236079,
            11.337704225352113,
            11.394062768525718,
            11.769317930169041,
            11.48528530259366,
            11.225000227093592,
            11.048975895131846,
            11.56760912786053,
            11.83150584801853,
            6.514356253930698,
            5.613306558695028,
            5.866872153768323,
            5.52976674016479,
            5.732153907396132,
            5.393009140808809,
            5.132768529852023,
            4.86781630135489,
            5.112481492545067,
            4.917120612006706,
            3.315463209091951,
            3.0881109952924217,
            3.1642699957592257,
            2.858046889972654,
            2.1136099974664235,
            2.3862054659440237,
            2.2210093580847476,
            2.511173797764267,
            2.166496655557966,
            2.143330303335704,
            9.675778707134517,
            10.113106994922335,
            8.098522701850602,
            7.871624084693897,
            10.664333639692888,
            10.531827360184748,
            10.906564833697717,
            11.849117809924001,
            14.46737763142498,
            13.81508703687597,
            2.3144993210205085,
            2.3673533312777444,
            2.3982948036945917,
            2.2537076897603896,
            2.310613374525327,
            2.315942041793894,
            2.3866225778265115,
            2.3493654420225805,
            2.449211117880628,
            2.384811848150111,
            1.6317950367770264,
            1.4586321769100443,
            1.5563561598593334,
            1.6056443865445917,
            1.4371148666885394,
            1.5424147738897338,
            1.648876616062414,
            1.5224592689225416,
            1.59684045057016,
            1.631492146934147,
            8.175617854139045,
            8.616414449639947,
            8.526217709805938,
            7.813761603064682,
            7.2965732782676636,
            6.240186842518448,
            6.762198594599927,
            6.5045891872234725,
            7.28866812979586,
            6.115724870866181,
            0.8479188142686982,
            0.9426432141142156,
            0.9045476749230554,
            0.6846915913792306,
            0.6984311298544696,
            0.8517489195509249,
            0.689013201261335,
            0.7789885845077519,
            0.7353098385774864,
            0.8002811836599806,
            3.441068645717918,
            3.382602758505213,
            3.5841335057166948,
            3.864703147743261,
            3.5153402483759684,
            3.856388964531252,
            3.6354084912526936,
            3.77962501702793,
            4.230804552499039,
            3.897399833138025,
            10.72274975333672,
            10.356221102386833,
            10.074483498933432,
            9.96700303156264,
            9.661395472750437,
            9.696286631967542,
            9.455204935307073,
            9.434214173880726,
            10.24341945580748,
            9.911505397853384,
            3.8897887499111836,
            3.9156922227905735,
            3.9347824318158344,
            3.788469312626309,
            3.889339573192361,
            3.753566863792409,
            3.485911692074628,
            3.3424818238183773,
            3.380822204854164,
            3.322534757253188,
            16.84537706603501,
            17.148423543547764,
            16.79193451458411,
            16.17450810662223,
            16.363800561402357,
            16.558331404702795,
            16.03163068634313,
            16.729204706558022,
            18.22892756798606,
            16.76676208247115,
            13.373974235072708,
            13.356699162194873,
            13.336754999214595,
            13.492643557888595,
            13.478748547027134,
            13.156630846266115,
            12.80849755869023,
            12.712602657752232,
            13.7024660064027,
            13.28068349349363,
            1.9707531347601979,
            2.144589807492327,
            1.9978608897499184,
            2.065236761903036,
            1.928373307304904,
            1.9726846731139274,
            1.9454200743460845,
            1.907311328552318,
            2.009908865068435,
            1.957591947534702,
            16.654196378215957,
            14.637872549781195,
            14.718663119487688,
            14.060764330085712,
            12.834473156492793,
            12.514578895885336,
            11.675286484238448,
            11.66510822840863,
            13.57433439849071,
            14.68220723966157,
            3.4547449412083444,
            3.173663381395498,
            3.5407813880773236,
            3.494675226718274,
            3.259542150815622,
            3.5523925961312584,
            3.5938051605094077,
            3.995167979662235,
            4.037778556922106,
            4.039324528220368,
            3.9794567898396664,
            3.5449208652590514,
            3.423190601342855,
            3.420675120331129,
            3.1087613527659217,
            3.507511549556954,
            2.8796301721881563,
            3.1064859566756935,
            3.237022605772091,
            3.304976258019118,
            0.2879514995388194,
            0.2619071969564649,
            0.28955043858505874,
            0.2237326287407348,
            0.21419700815904225,
            0.23457255011553962,
            0.23311937936794425,
            0.21874304173027356,
            0.2043813082910693,
            0.187097935446411,
            9.79375074645921,
            9.113363845382057,
            8.873209013026429,
            8.287499925856533,
            8.462526618057439,
            8.598276952372661,
            7.512089532735176,
            7.23976235751844,
            8.194522444026047,
            9.613242997467825,
            3.6572706220554183,
            3.3754299846669014,
            3.259178395253812,
            3.1539938471747506,
            3.1879291111290007,
            3.095793753731947,
            2.7845886596738536,
            2.897919535016277,
            3.406316839925951,
            3.755483752462214,
            3.1739249672505854,
            3.138783694945255,
            3.1320894023995653,
            3.1919236568852614,
            3.346464419990549,
            3.3810738819498245,
            3.383800382529134,
            3.394312976577279,
            3.798496419750514,
            3.843993581170756,
            7.452450544196925,
            8.034662500695172,
            8.099835681660835,
            8.061185734237567,
            7.468238931043657,
            6.853890741089221,
            6.7322377887813545,
            6.393841925957912,
            7.554892151880152,
            6.313415940158237,
            31.494828356040994,
            30.029320252789017,
            28.631656326519224,
            27.272218475086657,
            26.734418012635814,
            24.917624690980137,
            23.00278559770095,
            21.354050769455764,
            20.9337779202196,
            23.45938325076783,
            1.6595044764964793,
            1.7908648932642706,
            1.7383405801417597,
            1.7243278338801868,
            1.7665320320694808,
            1.8555949635979876,
            1.6506737193260352,
            1.6358056958016371,
            1.582312100438073,
            1.571012142174159,
            17.612119648056,
            16.490995470113802,
            16.708332928019505,
            16.110115700863084,
            14.915018894916912,
            14.996174075924678,
            15.321858545748293,
            15.24823714952711,
            15.56000758799062,
            15.48477027586375,
            21.85995861646725,
            20.758622832341686,
            19.990254767592344,
            20.631893480276396,
            20.98310970708386,
            20.846571430819647,
            21.20377371958582,
            21.90629593028096,
            24.14330586760924,
            23.35705876230578,
            1.127948791738879,
            1.3153062101624629,
            1.4428425242628184,
            1.537557598946762,
            2.0923145053109145,
            1.976462819788419,
            1.862995582318017,
            1.8441222129803303,
            1.80538992651593,
            1.588076061247054,
            23.710248671837977,
            23.83211646486066,
            23.74454011622721,
            23.817063157555026,
            22.32833020356975,
            21.963203536687203,
            21.65123535939572,
            20.67787132228868,
            21.86300418599782,
            22.96446565663465,
            3.0475095082494534,
            2.944517931296219,
            2.849876334957834,
            2.7860089727828146,
            2.6005179270180383,
            2.3847041994230826,
            2.248462473304008,
            2.1869214401522865,
            2.769708163121292,
            2.598862809446225,
            10.371313677453665,
            13.185185533563198,
            12.098565955667345,
            9.773175310847197,
            11.04138737451877,
            10.526743402977583,
            10.252701356943403,
            9.99501124214578,
            11.08346079383589,
            10.11400209336803,
            13.095807010678156,
            12.473425104412527,
            12.271681621144587,
            10.996499154862333,
            10.205125532561595,
            10.182954131410888,
            9.650140358153065,
            8.820323747305245,
            10.18531103191087,
            10.06845672082354,
            2.914363432755836,
            3.0911676759432667,
            2.848161921970216,
            2.374644108750594,
            2.5372326182044738,
            2.872298456907231,
            2.3384262958066135,
            2.3167200055468364,
            2.502174795070694,
            2.370282896554003,
            1.9241076988782753,
            2.095482698983847,
            2.076111164829186,
            2.0994439255280133,
            2.065810984172213,
            2.0958685760312687,
            2.0365298827895675,
            2.0885485418003307,
            2.105402638927532,
            2.192753180519079,
            4.68439374105165,
            5.382162686044867,
            4.712649874071213,
            4.186788615002685,
            4.069612814729213,
            4.313298224947391,
            4.3318341312674775,
            4.123626546923,
            3.967406224098168,
            4.349701447114051,
            11.502494845232384,
            12.033959657867708,
            11.375886731315292,
            11.946169485131982,
            11.397678850416689,
            10.878902470540519,
            11.115383073172932,
            12.289811989856386,
            13.99179700010536,
            14.94635406653984,
            14.09769235237041,
            13.724880375540085,
            13.368765076026806,
            14.282576734404515,
            14.4140203888971,
            14.982033820119694,
            14.98824784660675,
            14.899573080831338,
            16.2158547282752,
            15.32368028036941,
            1.9051089434031048,
            2.2265243345118684,
            2.7533228395505875,
            2.1979843893487727,
            2.2445742015861603,
            2.0906550245541764,
            2.1498584826532423,
            1.6674607112729298,
            1.757702139481953,
            1.773531200681811,
            1.9635055285492575,
            1.9712252038735698,
            2.017096535255665,
            2.096596213369382,
            1.98017135976102,
            1.8397241713400274,
            2.245548597121911,
            1.9568088364693421,
            2.122206879630068,
            1.844594728508392,
            2.408304149262098,
            2.6223406132025544,
            2.536336491118608,
            2.735363171521636,
            2.8257200316023847,
            2.788529151787597,
            2.757594167174316,
            2.594635861376193,
            3.148006859497945,
            2.728073138084897,
            1.5471458577227453,
            1.4665400187460547,
            1.4432981944684464,
            1.4495583820564397,
            1.3987444255770798,
            1.4435382286284344,
            1.3927866212290605,
            1.3921248315962056,
            1.390201120293612,
            1.346970032871465,
            0.629370355568408,
            0.6564793926467114,
            0.7012919623640504,
            0.6192807830652758,
            0.6507216673813598,
            0.6230191152332449,
            0.6350243562507062,
            0.6305105085524796,
            0.689423075489432,
            0.6235964448075267,
            26.55092652078611,
            26.790867917237637,
            25.802577447557095,
            26.745885729563014,
            27.444142571775416,
            28.742086074120426,
            27.86859953962489,
            26.54641516503476,
            26.73711126934727,
            25.88565334613981,
            42.52391812664409,
            37.51484193689845,
            25.684869803575406,
            24.374002994606712,
            20.757983414741414,
            20.638608521063535,
            20.44048838017571,
            19.755206761172236,
            18.7766483059643,
            19.2784378886341,
            7.694877592023171,
            6.676108122978507,
            6.557235473396572,
            6.8683753450583165,
            6.142292064038749,
            6.038629795689189,
            5.776012220879282,
            6.400774928469084,
            6.680559663426338,
            5.646769959727636,
            7.7613124838941365,
            8.692305621029556,
            10.154608154816106,
            12.059376106337098,
            11.72570090891674,
            10.177655039351247,
            10.139533107022944,
            8.96518101437243,
            9.310151098074716,
            10.63304572847625,
            0.6374048351444066,
            0.6375355170077323,
            0.7465240208468138,
            0.6344524527545302,
            0.566834503763194,
            0.5933787061731126,
            0.5766241411344842,
            0.6119852807829439,
            0.5831989772975115,
            0.6024891953316582
           ]
          },
          {
           "axis": {
            "matches": true
           },
           "label": "Agri Raw Materials Import to Total Merchandise Import t-1 (%)",
           "values": [
            1.1891970632417468,
            1.089693815015731,
            1.5142118051612377,
            1.8848452591867078,
            1.900890248633979,
            1.1336151699017047,
            0.9875209753963754,
            1.3243153991607182,
            1.024550352953149,
            1.081348893460456,
            0.5862769924714059,
            0.6085270784593333,
            0.6886244241256269,
            0.7179940296622055,
            0.7045529874658256,
            0.6842922904096014,
            0.7592942717408444,
            0.6620809908028763,
            0.6761026514057666,
            0.7114643641733811,
            2.152732317431838,
            2.2373160012922635,
            2.2087182013457842,
            2.2398135785863293,
            2.1820231801358863,
            1.9397986901006161,
            1.9518063550033278,
            1.8149257730147603,
            1.845595568616058,
            2.004310804450548,
            1.2066023927826859,
            1.220107202922367,
            1.1931847512547313,
            1.244283341969451,
            1.183522206913069,
            1.1350149728712664,
            1.0822910328619821,
            1.0479059811360623,
            1.09664749197573,
            1.079079343512909,
            0.7250279571035613,
            0.926290249212163,
            1.34394712010442,
            1.2889769132147955,
            1.6737329139908952,
            1.8568370975138204,
            1.5502446520914863,
            1.7775338050442753,
            1.309860960800059,
            1.620567852193465,
            0.5366367805475786,
            0.512998871649187,
            0.4967002285386349,
            0.5280463743509802,
            0.6087680939376765,
            0.6047516349631206,
            0.6463188917454464,
            0.7005042501727984,
            0.8004821153880759,
            0.8076577938855557,
            0.5961902458492027,
            0.6273499541058108,
            0.6735937508599298,
            0.75346088226439,
            0.6759509895381156,
            0.6628528959209418,
            0.6268793616132546,
            0.6628648391565428,
            0.6705843985738975,
            0.6057665617331515,
            3.945864339369264,
            3.7248874862002928,
            3.5706370647502115,
            3.7043378039301578,
            3.779337404525492,
            3.938644601308078,
            3.576491295854832,
            3.156515253042534,
            2.878022239045698,
            2.658028096042051,
            0.920461282248011,
            0.8654091771334227,
            0.822955496977952,
            0.840691197605632,
            0.9314295381083663,
            0.9516660871459519,
            0.9622669126171872,
            0.8649055077176435,
            0.8765713966325824,
            0.9413522507507127,
            0.9620325221544447,
            0.9538201446373563,
            1.1450053473622535,
            1.2193041886101328,
            1.2426261287477571,
            1.2070266785848967,
            1.2244012655971936,
            1.184275814890226,
            1.122839007487536,
            1.178479893191336,
            0.7419462432502902,
            0.7505014608776381,
            0.6331476752167956,
            0.551702786444986,
            0.6094728827819298,
            0.4968112864174235,
            0.4555110663410713,
            0.578307935683281,
            0.538177290404116,
            0.5718271377227125,
            1.5020909795994726,
            1.460876103855193,
            1.3603212220444134,
            1.2803103729302021,
            1.2426323585584396,
            1.18236665828843,
            1.1529795585396323,
            1.0655411667665724,
            0.9401522713548036,
            1.033192812842304,
            2.2953770520758976,
            2.5552044436562316,
            2.7131452277261174,
            2.8264532546104015,
            2.6165960221816906,
            2.607325823325583,
            2.613382300065309,
            2.472413291053382,
            2.447100408554639,
            2.348118340635154,
            1.353088708363605,
            1.434780079272443,
            0.9689384935553382,
            0.8542597910060851,
            0.8569807714525104,
            0.8854879820443788,
            0.9628487013773463,
            0.9756122214927345,
            0.8891028236966186,
            0.8156674142561657,
            0.8765708343433503,
            0.824049276477558,
            2.8544003642421782,
            2.873546459683557,
            3.2738808648978197,
            2.8236740519215915,
            2.5843991841093703,
            2.877214345596128,
            2.655419643786133,
            2.5699267674500996,
            2.624118439223635,
            2.426372484561182,
            2.0024776539932656,
            1.7751632717960568,
            1.8832269618090467,
            1.9101487163483568,
            1.9978489084136464,
            2.070259865877704,
            2.1640356367035487,
            2.1600271583607045,
            1.872850626087061,
            1.941023542128488,
            1.8540437106938468,
            2.229285284263997,
            2.3210851661580314,
            2.50152102351972,
            2.613727127611532,
            2.6809520221378405,
            2.7482343369686286,
            2.783038204453286,
            3.128722389666652,
            3.979608877119942,
            0.33628415859376687,
            0.46396609328837635,
            0.5079452341177658,
            0.44815813459304066,
            1.0795762343489121,
            0.49533940644983787,
            0.4321894007929591,
            0.3203267435134186,
            0.4370197188737924,
            0.4425950837095693,
            2.3273941423743465,
            2.5451616134494106,
            2.43018241303224,
            2.2039357374945405,
            2.062856999155138,
            1.8652816682314746,
            2.1960019800251223,
            1.9615014210178332,
            1.929993516891047,
            1.829953208238711,
            1.1977389359737316,
            1.2001591071542046,
            1.1744729595689098,
            1.184460601622311,
            1.1601554987236393,
            1.133737785423583,
            1.157872857585652,
            1.0864715974333272,
            1.139207076338875,
            1.197951696313694,
            0.8239021485741377,
            0.6609354844358178,
            0.7435858247428804,
            0.8950603960982226,
            0.7613898858323128,
            0.7789398516709934,
            0.823093095362435,
            0.7823381008298858,
            0.8030545573117949,
            0.8191644307693093,
            1.5595170800584823,
            1.5365875151293855,
            1.4700797694291188,
            1.4328210004084208,
            1.4297059189716055,
            1.3576260932087536,
            1.304450321194423,
            1.2127341037641803,
            1.160600825926561,
            1.265379476815946,
            1.0955475049728047,
            1.1565129326898052,
            1.072676217093766,
            1.0553695404065144,
            1.035272298176079,
            0.9902675617115315,
            0.8641552603900429,
            0.8569281503540719,
            0.8116871789157614,
            0.7771480723001208,
            1.4386893571173918,
            1.3221075010569467,
            1.2487623174885851,
            1.4126431369400858,
            1.5143189099868182,
            1.500223193851941,
            1.6464420827310786,
            1.6949901340288416,
            1.623311026486866,
            1.615179875826575,
            1.3307719396912445,
            1.2092683260472836,
            1.1696938391416465,
            1.1541342901462934,
            1.1909688258264426,
            1.201935891644116,
            1.1292512972274742,
            1.1495905736466714,
            1.038876074413552,
            1.163493459560001,
            1.6351421736552056,
            1.6578678059777148,
            1.7876516163244531,
            1.849704098891278,
            2.049439682550466,
            1.791047767069673,
            1.7044438085738072,
            1.8594216277780535,
            1.63099942106726,
            1.645537185367946,
            2.6464784691916194,
            2.7413613041494393,
            2.914885762230485,
            2.8970605576769852,
            3.0971089268562237,
            3.1562605627369464,
            2.8893924100245725,
            2.743537753906554,
            2.505370253132207,
            2.645861544192728,
            2.1682173766795088,
            2.3640712021088435,
            2.3710926259522576,
            2.3256136466288058,
            2.2319318970835496,
            1.9427493687543267,
            1.9788865652744667,
            1.8623722916262575,
            1.727109401471589,
            1.754725897942658,
            1.450449025130455,
            1.5474445596175983,
            1.5612192086481236,
            0.9228517369585286,
            1.9059322123282616,
            0.5063303199177839,
            0.4869555186462667,
            0.7966609704254713,
            0.8162126589273465,
            0.6323692444682472,
            1.394770650789644,
            1.6033129913842803,
            2.1772643587661555,
            2.4183759710583814,
            2.560096964308439,
            2.414345337334628,
            3.0164316820241286,
            2.9082977003699613,
            3.169780747679073,
            3.959259806131728,
            1.7004390635013151,
            1.8783718872151536,
            2.0726197064911815,
            2.262591440768547,
            2.5583296170421006,
            2.4222161200466394,
            2.5011453908891346,
            2.541564893495602,
            2.653051866127275,
            2.736297813393452,
            2.7065770682439343,
            2.255107153471597,
            1.9334924522540768,
            1.9669750241141506,
            2.033465140165713,
            2.1789525431800136,
            2.0348865560603646,
            1.8131967866952043,
            1.43449996575048,
            1.943875543071801,
            2.5032121830118803,
            2.1169490371334607,
            1.736688657627305,
            1.7337306177467264,
            1.7172066630755916,
            1.9951346241719654,
            1.7617318566900457,
            1.884524139818028,
            2.08515399578034,
            2.497382953105703,
            1.9920372804632713,
            2.177020623802419,
            2.1158070880752,
            2.337717017188308,
            2.192611586249929,
            2.414473861939392,
            2.128458892214154,
            2.2038061233603847,
            1.886415279111714,
            1.796897713845356,
            1.137338867452609,
            1.0724830778458243,
            1.025002844115186,
            1.008826291975387,
            0.9423819976696143,
            0.9040988715868293,
            0.9861909768677254,
            0.9310294395602211,
            0.919058331778366,
            0.9322273389837458,
            0.768647219490596,
            0.7708587368778506,
            0.7986346111498266,
            0.682305719512635,
            0.5945652175103561,
            0.533145038002947,
            0.4988627564834418,
            0.7333803015150863,
            0.6899491176295424,
            0.6445912847275742,
            1.0867191957217959,
            0.297746231249964,
            0.21928478511441546,
            0.16428410590007272,
            0.3536150572211974,
            0.48750327540104016,
            0.5595640963448458,
            0.5333055896580595,
            0.3871662140395936,
            0.3106734341497897,
            1.5552578433387234,
            1.4865554705314372,
            1.5311535491093882,
            1.6439900621855679,
            1.6903091366206733,
            1.634660291194598,
            1.6596073207541635,
            1.587595276897022,
            1.73097583157678,
            1.72192338142434,
            0.737337402735941,
            0.8438122307802828,
            0.8815019882242179,
            0.9746348261843674,
            0.9979005962238184,
            1.1054474917638824,
            1.0852807514030993,
            1.1713475023751294,
            1.433692203685302,
            1.632303825364857,
            0.7580042468942483,
            2.806849351685241,
            0.6769085008891913,
            0.7707472237392292,
            0.8188041636135455,
            0.9088266186365611,
            0.7915322977477584,
            0.7579179317067288,
            0.8229801542242506,
            0.659088514112333,
            1.2832470047640967,
            1.2478980847208043,
            1.289655560070066,
            1.2646319253181229,
            1.3379737379229006,
            1.2398603195447062,
            1.2282989630452816,
            1.2074906482544068,
            1.256137849932586,
            1.423154793084507,
            3.8303953137677573,
            4.261712151188111,
            3.8590415628295474,
            4.123555077059105,
            3.825212885462796,
            3.7758986688994858,
            4.359260905092829,
            4.158298466511224,
            5.89654021502947,
            5.18430937630577,
            0.045431247881741965,
            0.033174875499968434,
            0.04034071642405315,
            0.03836594958976278,
            0.041412080124806336,
            0.228202099227832,
            0.2075379932443631,
            0.1843657883134788,
            0.2204440742709827,
            0.3705011522503857,
            0.6722293236529145,
            0.6364379470222672,
            0.8403118304608308,
            0.9056987347485227,
            0.826634082617341,
            0.7279325054802473,
            0.7200319123107886,
            0.7323720719780652,
            0.9699535896578503,
            0.801396125823121,
            0.6446365200234757,
            0.6607777695483904,
            0.6277144336526154,
            0.6242818208847991,
            0.6833891921836025,
            0.5259047416996178,
            0.6634644350796496,
            0.6757993746312057,
            0.6026371474292918,
            0.7811065670541394,
            1.87390984204657,
            1.8113415709220253,
            1.7524223635385794,
            1.657810871872683,
            1.624505515888882,
            1.5360267042841445,
            1.603569363598345,
            1.3929836906382693,
            1.410576656148659,
            1.425636186958652,
            1.8053358318947628,
            1.9240087295158705,
            1.8446691262383987,
            1.8418955920386546,
            1.9351751265426405,
            1.853140890942946,
            1.7896995627884333,
            1.6960133645050768,
            1.644089832971783,
            1.778449751629186,
            1.7493305922416464,
            1.6840955376706643,
            1.627157171358114,
            1.5834150760787753,
            1.6897093740048326,
            1.703393944197487,
            1.7233588482445483,
            1.5601702760615401,
            1.450211039427184,
            1.593870864929918,
            0.8043441186113212,
            0.866504872066892,
            0.8056992398115796,
            0.6968905176833008,
            1.6062867031810992,
            1.630838399068113,
            1.1230555570427225,
            1.5686462532288454,
            1.422926311087749,
            1.69902263182584,
            1.5218973147054675,
            1.4853051107020625,
            1.4891826724436383,
            1.7520980071921968,
            1.8397673512178006,
            1.5622117877083346,
            1.5011955922170444,
            1.5553825634104501,
            1.473125672110403,
            1.412339823314986,
            1.440934396624181,
            1.4050172095636244,
            1.1045023200889357,
            1.018972745683534,
            0.9747518486050168,
            1.0732614534851368,
            1.039763072676387,
            1.076174757426063,
            1.052119114844839,
            1.205314369875903,
            2.9965889621078814,
            3.070648781007848,
            2.9427233714926233,
            2.859182817824555,
            2.723460845340666,
            2.4476745461723377,
            2.5034158151871613,
            2.158376724185242,
            2.0632724310807,
            1.925538784956383,
            1.3017980160930884,
            1.3192419970536142,
            1.1822427365046473,
            1.2190052496318016,
            1.2278968176817098,
            1.160429471031166,
            1.0901756674762604,
            1.057830198586838,
            1.065461569852315,
            1.134608331501026,
            1.3896942371791405,
            1.3991214212534198,
            1.3440123922048621,
            1.2097309593930834,
            1.2024987814825763,
            1.1541387766802766,
            1.3270558512854624,
            1.2657380020684952,
            1.182577407283408,
            1.043298717655004,
            0.5865062261642091,
            0.5527719200814849,
            0.6433078370634161,
            0.6061583807746687,
            0.562893981005993,
            0.5716389015822246,
            0.5750177640665702,
            0.5495100819832558,
            0.5181988659267409,
            0.5743970467110836,
            0.8105383419717505,
            0.6924499459165214,
            1.044070231133316,
            0.6886433246165395,
            1.2692019660451164,
            1.078395765404848,
            1.3715405628577073,
            1.5840286140122926,
            1.711910944675709,
            1.467870665847441,
            1.1071525100267972,
            0.8420233468283623,
            1.2019427974328112,
            1.1258734745338326,
            1.1947701282862824,
            1.4876983599820761,
            1.6319831180658642,
            1.6109437787179364,
            1.345140887279462,
            1.327153857079463,
            2.515379044834827,
            2.3966613984867218,
            2.4710516811694707,
            2.48487496084508,
            2.5010880818903973,
            2.5507160912921405,
            2.5536615732851544,
            2.5791445277478315,
            2.269547029934464,
            2.596607596225688,
            0.9583653538011843,
            0.9889105998056749,
            1.094163827228626,
            1.1399419511167035,
            1.2433960229590053,
            1.18002402945806,
            1.0645199510710646,
            0.9713059123551513,
            1.054353572661582,
            1.017780108945227,
            0.9705359958976596,
            1.151674497606311,
            1.2489864110513378,
            1.263144396902886,
            1.1694769703252264,
            1.1861942551100548,
            1.2807378343047795,
            1.156692729873372,
            1.245854065651879,
            1.486930904736228
           ]
          }
         ],
         "hovertemplate": "%{xaxis.title.text}=%{x}<br>%{yaxis.title.text}=%{y}<extra></extra>",
         "legendgroup": "",
         "marker": {
          "color": "#636efa",
          "symbol": "circle"
         },
         "name": "",
         "showlegend": false,
         "type": "splom"
        }
       ],
       "layout": {
        "dragmode": "select",
        "height": 1600,
        "legend": {
         "tracegroupgap": 0
        },
        "margin": {
         "t": 60
        },
        "template": {
         "data": {
          "bar": [
           {
            "error_x": {
             "color": "#2a3f5f"
            },
            "error_y": {
             "color": "#2a3f5f"
            },
            "marker": {
             "line": {
              "color": "#E5ECF6",
              "width": 0.5
             },
             "pattern": {
              "fillmode": "overlay",
              "size": 10,
              "solidity": 0.2
             }
            },
            "type": "bar"
           }
          ],
          "barpolar": [
           {
            "marker": {
             "line": {
              "color": "#E5ECF6",
              "width": 0.5
             },
             "pattern": {
              "fillmode": "overlay",
              "size": 10,
              "solidity": 0.2
             }
            },
            "type": "barpolar"
           }
          ],
          "carpet": [
           {
            "aaxis": {
             "endlinecolor": "#2a3f5f",
             "gridcolor": "white",
             "linecolor": "white",
             "minorgridcolor": "white",
             "startlinecolor": "#2a3f5f"
            },
            "baxis": {
             "endlinecolor": "#2a3f5f",
             "gridcolor": "white",
             "linecolor": "white",
             "minorgridcolor": "white",
             "startlinecolor": "#2a3f5f"
            },
            "type": "carpet"
           }
          ],
          "choropleth": [
           {
            "colorbar": {
             "outlinewidth": 0,
             "ticks": ""
            },
            "type": "choropleth"
           }
          ],
          "contour": [
           {
            "colorbar": {
             "outlinewidth": 0,
             "ticks": ""
            },
            "colorscale": [
             [
              0,
              "#0d0887"
             ],
             [
              0.1111111111111111,
              "#46039f"
             ],
             [
              0.2222222222222222,
              "#7201a8"
             ],
             [
              0.3333333333333333,
              "#9c179e"
             ],
             [
              0.4444444444444444,
              "#bd3786"
             ],
             [
              0.5555555555555556,
              "#d8576b"
             ],
             [
              0.6666666666666666,
              "#ed7953"
             ],
             [
              0.7777777777777778,
              "#fb9f3a"
             ],
             [
              0.8888888888888888,
              "#fdca26"
             ],
             [
              1,
              "#f0f921"
             ]
            ],
            "type": "contour"
           }
          ],
          "contourcarpet": [
           {
            "colorbar": {
             "outlinewidth": 0,
             "ticks": ""
            },
            "type": "contourcarpet"
           }
          ],
          "heatmap": [
           {
            "colorbar": {
             "outlinewidth": 0,
             "ticks": ""
            },
            "colorscale": [
             [
              0,
              "#0d0887"
             ],
             [
              0.1111111111111111,
              "#46039f"
             ],
             [
              0.2222222222222222,
              "#7201a8"
             ],
             [
              0.3333333333333333,
              "#9c179e"
             ],
             [
              0.4444444444444444,
              "#bd3786"
             ],
             [
              0.5555555555555556,
              "#d8576b"
             ],
             [
              0.6666666666666666,
              "#ed7953"
             ],
             [
              0.7777777777777778,
              "#fb9f3a"
             ],
             [
              0.8888888888888888,
              "#fdca26"
             ],
             [
              1,
              "#f0f921"
             ]
            ],
            "type": "heatmap"
           }
          ],
          "heatmapgl": [
           {
            "colorbar": {
             "outlinewidth": 0,
             "ticks": ""
            },
            "colorscale": [
             [
              0,
              "#0d0887"
             ],
             [
              0.1111111111111111,
              "#46039f"
             ],
             [
              0.2222222222222222,
              "#7201a8"
             ],
             [
              0.3333333333333333,
              "#9c179e"
             ],
             [
              0.4444444444444444,
              "#bd3786"
             ],
             [
              0.5555555555555556,
              "#d8576b"
             ],
             [
              0.6666666666666666,
              "#ed7953"
             ],
             [
              0.7777777777777778,
              "#fb9f3a"
             ],
             [
              0.8888888888888888,
              "#fdca26"
             ],
             [
              1,
              "#f0f921"
             ]
            ],
            "type": "heatmapgl"
           }
          ],
          "histogram": [
           {
            "marker": {
             "pattern": {
              "fillmode": "overlay",
              "size": 10,
              "solidity": 0.2
             }
            },
            "type": "histogram"
           }
          ],
          "histogram2d": [
           {
            "colorbar": {
             "outlinewidth": 0,
             "ticks": ""
            },
            "colorscale": [
             [
              0,
              "#0d0887"
             ],
             [
              0.1111111111111111,
              "#46039f"
             ],
             [
              0.2222222222222222,
              "#7201a8"
             ],
             [
              0.3333333333333333,
              "#9c179e"
             ],
             [
              0.4444444444444444,
              "#bd3786"
             ],
             [
              0.5555555555555556,
              "#d8576b"
             ],
             [
              0.6666666666666666,
              "#ed7953"
             ],
             [
              0.7777777777777778,
              "#fb9f3a"
             ],
             [
              0.8888888888888888,
              "#fdca26"
             ],
             [
              1,
              "#f0f921"
             ]
            ],
            "type": "histogram2d"
           }
          ],
          "histogram2dcontour": [
           {
            "colorbar": {
             "outlinewidth": 0,
             "ticks": ""
            },
            "colorscale": [
             [
              0,
              "#0d0887"
             ],
             [
              0.1111111111111111,
              "#46039f"
             ],
             [
              0.2222222222222222,
              "#7201a8"
             ],
             [
              0.3333333333333333,
              "#9c179e"
             ],
             [
              0.4444444444444444,
              "#bd3786"
             ],
             [
              0.5555555555555556,
              "#d8576b"
             ],
             [
              0.6666666666666666,
              "#ed7953"
             ],
             [
              0.7777777777777778,
              "#fb9f3a"
             ],
             [
              0.8888888888888888,
              "#fdca26"
             ],
             [
              1,
              "#f0f921"
             ]
            ],
            "type": "histogram2dcontour"
           }
          ],
          "mesh3d": [
           {
            "colorbar": {
             "outlinewidth": 0,
             "ticks": ""
            },
            "type": "mesh3d"
           }
          ],
          "parcoords": [
           {
            "line": {
             "colorbar": {
              "outlinewidth": 0,
              "ticks": ""
             }
            },
            "type": "parcoords"
           }
          ],
          "pie": [
           {
            "automargin": true,
            "type": "pie"
           }
          ],
          "scatter": [
           {
            "fillpattern": {
             "fillmode": "overlay",
             "size": 10,
             "solidity": 0.2
            },
            "type": "scatter"
           }
          ],
          "scatter3d": [
           {
            "line": {
             "colorbar": {
              "outlinewidth": 0,
              "ticks": ""
             }
            },
            "marker": {
             "colorbar": {
              "outlinewidth": 0,
              "ticks": ""
             }
            },
            "type": "scatter3d"
           }
          ],
          "scattercarpet": [
           {
            "marker": {
             "colorbar": {
              "outlinewidth": 0,
              "ticks": ""
             }
            },
            "type": "scattercarpet"
           }
          ],
          "scattergeo": [
           {
            "marker": {
             "colorbar": {
              "outlinewidth": 0,
              "ticks": ""
             }
            },
            "type": "scattergeo"
           }
          ],
          "scattergl": [
           {
            "marker": {
             "colorbar": {
              "outlinewidth": 0,
              "ticks": ""
             }
            },
            "type": "scattergl"
           }
          ],
          "scattermapbox": [
           {
            "marker": {
             "colorbar": {
              "outlinewidth": 0,
              "ticks": ""
             }
            },
            "type": "scattermapbox"
           }
          ],
          "scatterpolar": [
           {
            "marker": {
             "colorbar": {
              "outlinewidth": 0,
              "ticks": ""
             }
            },
            "type": "scatterpolar"
           }
          ],
          "scatterpolargl": [
           {
            "marker": {
             "colorbar": {
              "outlinewidth": 0,
              "ticks": ""
             }
            },
            "type": "scatterpolargl"
           }
          ],
          "scatterternary": [
           {
            "marker": {
             "colorbar": {
              "outlinewidth": 0,
              "ticks": ""
             }
            },
            "type": "scatterternary"
           }
          ],
          "surface": [
           {
            "colorbar": {
             "outlinewidth": 0,
             "ticks": ""
            },
            "colorscale": [
             [
              0,
              "#0d0887"
             ],
             [
              0.1111111111111111,
              "#46039f"
             ],
             [
              0.2222222222222222,
              "#7201a8"
             ],
             [
              0.3333333333333333,
              "#9c179e"
             ],
             [
              0.4444444444444444,
              "#bd3786"
             ],
             [
              0.5555555555555556,
              "#d8576b"
             ],
             [
              0.6666666666666666,
              "#ed7953"
             ],
             [
              0.7777777777777778,
              "#fb9f3a"
             ],
             [
              0.8888888888888888,
              "#fdca26"
             ],
             [
              1,
              "#f0f921"
             ]
            ],
            "type": "surface"
           }
          ],
          "table": [
           {
            "cells": {
             "fill": {
              "color": "#EBF0F8"
             },
             "line": {
              "color": "white"
             }
            },
            "header": {
             "fill": {
              "color": "#C8D4E3"
             },
             "line": {
              "color": "white"
             }
            },
            "type": "table"
           }
          ]
         },
         "layout": {
          "annotationdefaults": {
           "arrowcolor": "#2a3f5f",
           "arrowhead": 0,
           "arrowwidth": 1
          },
          "autotypenumbers": "strict",
          "coloraxis": {
           "colorbar": {
            "outlinewidth": 0,
            "ticks": ""
           }
          },
          "colorscale": {
           "diverging": [
            [
             0,
             "#8e0152"
            ],
            [
             0.1,
             "#c51b7d"
            ],
            [
             0.2,
             "#de77ae"
            ],
            [
             0.3,
             "#f1b6da"
            ],
            [
             0.4,
             "#fde0ef"
            ],
            [
             0.5,
             "#f7f7f7"
            ],
            [
             0.6,
             "#e6f5d0"
            ],
            [
             0.7,
             "#b8e186"
            ],
            [
             0.8,
             "#7fbc41"
            ],
            [
             0.9,
             "#4d9221"
            ],
            [
             1,
             "#276419"
            ]
           ],
           "sequential": [
            [
             0,
             "#0d0887"
            ],
            [
             0.1111111111111111,
             "#46039f"
            ],
            [
             0.2222222222222222,
             "#7201a8"
            ],
            [
             0.3333333333333333,
             "#9c179e"
            ],
            [
             0.4444444444444444,
             "#bd3786"
            ],
            [
             0.5555555555555556,
             "#d8576b"
            ],
            [
             0.6666666666666666,
             "#ed7953"
            ],
            [
             0.7777777777777778,
             "#fb9f3a"
            ],
            [
             0.8888888888888888,
             "#fdca26"
            ],
            [
             1,
             "#f0f921"
            ]
           ],
           "sequentialminus": [
            [
             0,
             "#0d0887"
            ],
            [
             0.1111111111111111,
             "#46039f"
            ],
            [
             0.2222222222222222,
             "#7201a8"
            ],
            [
             0.3333333333333333,
             "#9c179e"
            ],
            [
             0.4444444444444444,
             "#bd3786"
            ],
            [
             0.5555555555555556,
             "#d8576b"
            ],
            [
             0.6666666666666666,
             "#ed7953"
            ],
            [
             0.7777777777777778,
             "#fb9f3a"
            ],
            [
             0.8888888888888888,
             "#fdca26"
            ],
            [
             1,
             "#f0f921"
            ]
           ]
          },
          "colorway": [
           "#636efa",
           "#EF553B",
           "#00cc96",
           "#ab63fa",
           "#FFA15A",
           "#19d3f3",
           "#FF6692",
           "#B6E880",
           "#FF97FF",
           "#FECB52"
          ],
          "font": {
           "color": "#2a3f5f"
          },
          "geo": {
           "bgcolor": "white",
           "lakecolor": "white",
           "landcolor": "#E5ECF6",
           "showlakes": true,
           "showland": true,
           "subunitcolor": "white"
          },
          "hoverlabel": {
           "align": "left"
          },
          "hovermode": "closest",
          "mapbox": {
           "style": "light"
          },
          "paper_bgcolor": "white",
          "plot_bgcolor": "#E5ECF6",
          "polar": {
           "angularaxis": {
            "gridcolor": "white",
            "linecolor": "white",
            "ticks": ""
           },
           "bgcolor": "#E5ECF6",
           "radialaxis": {
            "gridcolor": "white",
            "linecolor": "white",
            "ticks": ""
           }
          },
          "scene": {
           "xaxis": {
            "backgroundcolor": "#E5ECF6",
            "gridcolor": "white",
            "gridwidth": 2,
            "linecolor": "white",
            "showbackground": true,
            "ticks": "",
            "zerolinecolor": "white"
           },
           "yaxis": {
            "backgroundcolor": "#E5ECF6",
            "gridcolor": "white",
            "gridwidth": 2,
            "linecolor": "white",
            "showbackground": true,
            "ticks": "",
            "zerolinecolor": "white"
           },
           "zaxis": {
            "backgroundcolor": "#E5ECF6",
            "gridcolor": "white",
            "gridwidth": 2,
            "linecolor": "white",
            "showbackground": true,
            "ticks": "",
            "zerolinecolor": "white"
           }
          },
          "shapedefaults": {
           "line": {
            "color": "#2a3f5f"
           }
          },
          "ternary": {
           "aaxis": {
            "gridcolor": "white",
            "linecolor": "white",
            "ticks": ""
           },
           "baxis": {
            "gridcolor": "white",
            "linecolor": "white",
            "ticks": ""
           },
           "bgcolor": "#E5ECF6",
           "caxis": {
            "gridcolor": "white",
            "linecolor": "white",
            "ticks": ""
           }
          },
          "title": {
           "x": 0.05
          },
          "xaxis": {
           "automargin": true,
           "gridcolor": "white",
           "linecolor": "white",
           "ticks": "",
           "title": {
            "standoff": 15
           },
           "zerolinecolor": "white",
           "zerolinewidth": 2
          },
          "yaxis": {
           "automargin": true,
           "gridcolor": "white",
           "linecolor": "white",
           "ticks": "",
           "title": {
            "standoff": 15
           },
           "zerolinecolor": "white",
           "zerolinewidth": 2
          }
         }
        },
        "width": 1200
       }
      },
      "text/html": [
       "<div>                            <div id=\"60cbeaa5-d970-46ab-8d28-157235bd75eb\" class=\"plotly-graph-div\" style=\"height:1600px; width:1200px;\"></div>            <script type=\"text/javascript\">                require([\"plotly\"], function(Plotly) {                    window.PLOTLYENV=window.PLOTLYENV || {};                                    if (document.getElementById(\"60cbeaa5-d970-46ab-8d28-157235bd75eb\")) {                    Plotly.newPlot(                        \"60cbeaa5-d970-46ab-8d28-157235bd75eb\",                        [{\"dimensions\":[{\"axis\":{\"matches\":true},\"label\":\"GDP per Capita t-1 (Current US$)\",\"values\":[3681.8446906049526,3838.1738799778586,3986.231623767126,3607.289298553611,3591.828052216386,3914.527854366958,4220.540320791452,4604.646323556948,4266.018074209457,4670.008798000999,68027.84170673776,68156.62791620853,62511.690589528385,56707.02207721163,49881.76371404656,53934.25017504627,57180.77940016135,54875.285956335065,51680.31652294385,59934.12940888954,48564.91733508746,50731.12725418466,51786.37717479049,44195.817594774824,45307.58786204294,47429.15845643865,51486.57550148242,50114.40110997282,48588.6593847921,53267.93274911318,44670.56068451006,46757.951855959756,47764.07151208328,41008.29671947198,42012.622719101564,44198.4823908691,47549.20804945462,46599.11133509379,45189.36690031261,51767.78857236462,4530.604800529939,4575.680956484842,4744.108945232267,4805.1968523727855,4877.670505932576,4909.604663799161,4927.19422373932,4983.336114358693,3987.796596120666,4420.491372337404,2609.88056208632,2908.2003709480014,3081.8788236516257,3035.9716549510713,3076.656439337206,3351.12434432642,3548.5907802189927,3552.0681438365323,3137.989617440182,3414.892848560867,15354.618404141293,15777.78150896667,14606.996724190543,13495.010609964898,13690.907462121531,14962.556847179094,15772.333484425022,14699.462780804832,13220.57075804192,16502.83857090346,6300.615118257887,7020.338484536575,7636.116601255022,8016.431434980026,8094.363366751941,8816.986904519892,9905.342003892534,10143.838195559532,10408.66975613492,12556.33312000579,8050.255371670496,8218.347844314756,8114.3439208515965,6175.876029702581,5870.777957241634,6376.706715526008,6729.583331981678,6418.615782544924,5312.198555549846,6131.225921531167,13401.656620328295,13837.731637658671,13762.372863059865,11933.377378828136,12527.73985698235,13629.289592246976,15227.560096809613,15311.766903695032,14132.48656094995,17398.76597681076,28912.15625,27729.193359375,27163.33203125,23408.3359375,24605.919921875,26608.875,29334.111328125,29206.076171875,27681.56640625,30798.4765625,19870.801212340346,20133.169143135263,19890.919905664778,17829.69832236678,18575.232027191487,20636.199952434956,23419.735613650162,23660.148806831683,22933.49959092365,26378.4999575477,58507.50805178519,61191.193704202844,62548.98473329075,53254.856370091584,54663.9983719195,57610.098180113484,61591.92886989581,59775.73509645146,61063.31643042379,67803.04710464025,7003.859021472334,7559.975039052797,5682.046108144972,6056.3312125381335,6377.09392877257,6124.490887071335,6060.092961567913,6213.50312736888,6295.934661639924,6222.5246532724805,5627.772279865284,5934.875495808083,3229.685630303805,3262.6575864710353,3379.5579862705767,3562.9326579842254,3519.8732398108036,2444.2903871844783,2537.125185047117,3019.092283466461,3569.206841211084,3876.359593733486,3428.4093324668056,3509.5265362245846,3589.0428846199056,3705.5797035345254,3805.9956857443444,3910.254403327174,4052.6247753374223,4167.730938785629,3798.636520823206,4408.520365114674,17403.205325476698,19056.001922698946,20261.066730388637,17402.037612807875,18295.342932211355,20437.765376735962,23063.563817567512,23397.87825609441,23054.35849059781,27280.65843969931,4591.5770150620665,4840.727269872424,5605.609148441846,5390.7142070308455,5651.272721327723,6101.023889500807,6317.41372301725,6175.890652655599,5102.843929249825,5085.971641958608,47708.0612784469,49892.22336327324,50327.24029026319,42801.90811672851,43814.02650569646,46412.13647771692,49988.910846184495,48628.64176210504,49160.83715225961,53982.61427352609,40872.36246156877,42605.04437821795,43068.548724173925,36652.92230521776,37062.53357238286,38781.04948708362,41592.79589643196,40578.644285053386,39037.12263090743,43518.53851308511,4421.81824228013,4623.7457247341945,4739.188338464207,4014.1859441932947,4062.169887573793,4357.000935546277,4722.042423141403,4696.150585556124,4255.742993212536,5042.385527773875,43855.854465861754,46298.92291773408,48023.86998454624,41103.25643637683,42136.120790799105,44652.58917227186,47973.60762350969,46794.89929156027,46252.68930448921,50801.78671053076,21912.998287951716,21787.787763603465,21616.710009490806,18083.877905654695,17923.966813471638,18582.08934116313,19756.99045625501,19133.757763625435,17647.23268827435,20276.54467440746,3355.036918812722,3522.773706214754,3779.642336130248,3994.636912884745,4173.301666194739,4454.048149835476,4478.424645509439,4638.634943195106,4603.339643406454,5025.575572614512,12989.180281589623,13719.950539362095,14298.833667394954,12720.712022066813,13107.377913774431,14623.696649231098,16427.37276114784,16735.659779476086,16075.97326625054,18772.67329206671,1443.8824347613838,1449.61045069641,1573.885641829559,1605.6054445708705,1732.5542423165914,1980.6670198280233,1998.2590762767506,2072.244897350407,1933.1010689481,2277.434346743544,3694.359339802136,3623.92724054274,3491.637491254492,3331.6951146918896,3562.8163335218346,3837.5780236263286,3893.85957814877,4135.233343512023,3870.557619792487,4291.812554491208,35051.52126977026,35560.08140622885,35565.721377149624,30242.38613521843,30960.73150889022,32406.72031501343,34622.16966647412,33673.47544744835,31834.97261840463,35551.28499000708,1177.9747348784833,1282.4371620246661,1279.769782659855,1121.0828351073897,1120.6665130084834,1242.7696428202323,1308.14016549619,1374.0321046742079,1182.52170043018,1276.242643275282,13847.33793931943,15007.4918561719,15742.391338190771,13786.45679531137,14331.751588504894,15695.11515410587,17865.031094764225,17926.84158991897,17703.95344323315,20642.16792212527,14367.70942487197,15729.652466651236,16551.018202077976,14263.964577349474,15008.313244552579,16885.407394837326,19186.181281417783,19575.76848140705,20232.30203585879,23433.39090737691,112584.6762709582,120000.14072985915,123678.70214327476,105462.01258442263,106899.29354955172,110193.21379722781,117254.74035268243,113218.71334967784,116356.1580372857,135682.7942746481,10817.431710078306,10970.104299603312,11319.061944848245,9955.242721676264,9817.787090310092,10259.30480648114,11380.079220973967,11432.826034656748,10412.34766774993,11371.09901928104,9291.22761861899,9637.00265000958,10153.93821848674,9260.447302506354,9681.618566896736,10484.908362041104,11208.343818447358,11097.168977136957,8632.752858724578,8812.10824897507,10241.72782804297,10725.18358737964,10928.916008998802,9616.64555810607,8744.515559127856,9287.849587323022,9686.984926555855,9950.217621834803,8431.665017447616,9926.422767554355,6586.721279322201,7188.862444595841,7387.8710363223445,6517.18961381857,7033.438006294779,7803.362579408441,8850.37840418667,8909.890151103295,7694.6337585059,9367.016883648357,1134.3022237660882,1168.1654534738448,1210.0976535709126,1196.743333085259,1136.6106269851052,1151.1144641548276,1250.1736850253862,1271.111535797259,1450.662673471817,1187.238484168529,50070.14160459042,52198.89756074542,52900.537415323044,45193.40321879707,46039.10592840976,48675.22233502126,53044.53243522532,52476.273253332714,52396.03220995246,58061.00166793593,1760.4603082884105,1811.6368027036283,1934.062922272252,2049.8516660809028,2107.5740596602045,2159.161925546563,2014.5751887904669,1924.4718155704968,1900.043594275886,2090.753461131411,2723.8221909385916,2961.5494217594737,3098.9857906393822,2687.480056432116,2176.0027720151456,1968.565398474444,2027.7785486384198,2229.8586518612988,2097.092472890216,2085.030764779358,101524.14185198475,102913.45084367356,97019.18275274622,74355.51585756434,70460.56053233217,75496.75405819977,82267.809316159,75719.75289653419,67329.67779109669,89202.75053814382,1198.1176370400738,1208.9177102045812,1251.1757186794932,1356.6678306576289,1540.1845031154583,1631.5319093604119,1678.043150200059,1481.8138641734731,1359.514521568739,1537.936410655227,10722.26147585221,11889.095065060214,12796.074037676053,13630.301147287759,14343.980255001581,15146.408510447642,15544.999075862585,15774.254952383646,12509.83529126015,14516.45804724,5185.141548712791,5936.975959022483,6118.31811031962,5413.776020618583,5324.609067777768,5678.869972200001,5782.784549812856,5383.574421507761,4967.687211715286,5400.10382635384,2694.3051093444246,2871.4297013577548,2959.6454352134874,3001.043181708628,3073.6546857148887,3123.245641743562,3252.110274107062,3485.340843900914,3301.218602576725,3548.828322580573,13097.27084821743,13696.466304614301,14271.30585362023,12578.495473436242,12447.439591280814,13864.681757997289,15468.482219410484,15732.203131175449,15742.45372563682,17840.92105066737,20563.713601262887,21653.19597522246,22103.700970332095,19250.106537685195,19991.972487880517,21490.429863103967,23562.554522819133,23330.817288932005,22194.56611493497,24262.18093525742,8507.104774564363,9547.852150966124,10043.677449761379,8969.148921461934,9548.587402982675,10807.009167199336,12398.98197876661,12899.346111289662,12956.56624775685,14861.90917379331,1330.6201139518096,1564.7685479269999,1770.4676880717873,1584.7756574378843,1700.097996663644,1813.8074335970416,1953.5132573675983,1987.5797016681831,2157.840445696678,2449.333442436266,1317.779801805381,1372.6657793190216,1396.6573385558554,1219.2494151330177,1269.9032938598457,1361.7019721837473,1458.0815837400178,1435.8303665307624,1462.808168884379,1606.472060873112,17429.829750132005,18208.41759365784,18655.79010894211,16342.216262109338,16512.29298590046,17538.048584386037,19389.982159444902,19303.54565813827,19266.51357362473,21087.84610100567,22641.805122502992,23503.282485025542,24247.17331840832,20890.166430417266,21678.359467062946,23514.025460414683,26116.856355879307,25942.954774143614,25489.50022840827,29200.81987838626,28322.809249505743,29067.80946002199,29500.789432861482,25742.368834676654,26523.3482221547,28170.167864330248,30364.57994356216,29554.49051700874,27056.42175121655,30115.70588667918,58037.82131921726,61126.943196397886,60020.3604576572,51545.48360953215,51965.15715319852,53791.50872984028,54589.06038606061,51939.42974452912,52300.20619949934,60238.98656449223,86547.67089072654,88109.48675240371,89684.7075795936,84776.14216597479,83073.2800824812,83352.08865334115,86388.40495271837,85334.51946209093,87100.41482137512,93457.44039761553,867.857482910156,970.399597167969,1030.07763671875,947.933349609375,966.502990722656,1004.90661621094,1042.83874511719,1085.88488769531,1076.4697265625,1135.53967285156,571.8067239441666,621.398853574683,640.9342196288273,570.9099671753077,803.1518934041002,830.7452766514375,901.5230168989367,893.3524541216748,914.9507924532143,992.3284293624907,11795.633456757056,12614.781610038588,12157.990433782299,11006.279523964891,10894.603377927504,10589.667724687044,9454.34844272271,9121.515166737083,8536.433319606316,9586.612450055969,4004.80444335938,4187.73974609375,3104.64331054688,2124.66235351563,2187.73046875,2638.326171875,3096.56176757813,3661.45629882813,3751.74072265625,4835.57177734375,42686.800052492596,43713.81412423079,47787.24129848843,45404.567773472154,41499.55570330727,40857.755582962665,43646.95197114935,43070.498359588775,41098.07865278275,47334.35531498753]},{\"axis\":{\"matches\":true},\"label\":\"Food Price Index (May)\",\"values\":[96.609801,97.995054,102.964598,98.359934,104.425943,103.875067,109.352035,110.41619,118.721549,135.921277,96.148708,98.454739,99.896009,99.831953,101.721618,102.073928,104.476044,108.479571,109.248249,115.109412,97.70263,99.62522,100.7,100.8,102.9,104.9,105.9,107.2328,109.1805,119.0274,100.1471,99.20486,100.4645,103.2516,103.4401,106.1776,106.9314,111.1467,109.3912,116.6317,98.70392,99.93252,99.741952,100.097399,98.823881,98.127402,98.603506,99.751048,103.378358,111.014802,84.942575,93.867269,97.9675,107.387496,106.086983,111.207238,114.326551,114.399208,115.172676,116.208074,86.02202,91.59863,98.62954,102.8065,105.4964,108.1973,111.0402,118.3554,124.0851,145.3528,93.15573,96.97167,98.6546,103.1204,102.8746,103.6806,109.6883,119.0604,115.7959,118.2321,89.83594,92.69116,99.11542,114.8997,114.6004,115.4869,120.1497,129.2449,141.5408,172.1194,103.9,100.1,100.6,100.3,103.0,104.5,103.8,106.4,105.7,121.7,101.384923,99.800295,99.94861,98.4,99.67,100.69,99.96,103.61,101.8,110.53,99.3,101.8,101.5,99.0,103.5,106.0,109.0,115.9,114.4,131.7,99.9,98.9,100.0,100.4,102.2,102.9,104.2,105.4,105.4,116.0,104.999951,108.625507,91.507055,95.453883,100.48509,103.274282,104.25214,100.915237,101.353718,104.799133,101.460397,105.48919,78.349319,87.523309,100.436416,114.815831,162.002255,175.861944,202.353445,201.029724,204.568007,261.584165,95.27078,96.921718,100.573792,100.037162,99.6854,99.640219,101.96955,104.27401,103.365257,117.090935,102.3242,101.4154,101.2015,99.91847,106.0665,109.1138,112.6956,115.5291,116.3844,136.165,93.449989,95.263625,99.272715,109.104532,103.854533,110.53635,115.690895,114.54544,118.74544,123.040894,102.979,101.4665,100.14,98.45,97.49,99.8,100.3,102.69,103.17,112.5,101.33,100.13,100.48,101.48,101.89,103.82,106.07,110.24,109.7,114.75,93.721922,96.156084,99.928458,101.292316,109.742541,111.727866,120.554723,138.260142,142.826198,174.252277,98.95426,99.4,100.8,100.7,102.9,106.2,107.1,111.6,113.2,125.3,101.5207,98.54854,99.07326,99.81675,99.6848,100.0826,100.5388,102.0266,101.8703,114.1482,84.364034,89.556818,98.662907,108.497211,116.752581,125.85867,138.53097,145.221019,153.047627,164.100159,102.1014,100.7309,101.6903,101.2791,103.8145,107.7204,113.2709,123.0699,125.2627,149.5889,85.581273,93.183273,97.963911,105.017313,104.7822,108.230529,110.424921,119.672714,125.942405,135.817167,84.716523,90.842492,98.038943,105.633894,109.196957,114.080542,114.393092,121.917747,125.640252,132.685606,99.35662,99.17279,100.1838,100.4,102.3,104.2,104.6,107.3,106.5,114.4,89.525484,98.18739,101.367208,93.366652,97.874024,94.307704,94.013633,106.492654,124.318335,146.227058,102.5596,102.0595,102.285,102.1139,107.2776,107.6911,112.2743,115.0736,116.125,137.2104,101.2982,101.68,101.2711,102.2898,104.3767,107.1402,110.2385,113.3651,114.2025,142.5241,98.59,99.38,99.9,101.73,104.56,106.44,107.98,111.9,112.15,118.32,92.837107,95.937263,99.288784,103.394396,107.918948,109.846072,111.18668,112.527288,114.203048,120.151996,92.617818,96.29384,97.369749,100.059521,110.818609,109.710423,111.234179,119.564044,122.306805,136.731694,92.57253,95.0862,99.31037,103.8939,111.1731,115.3398,121.4904,130.7222,138.1032,155.3904,100.852394,97.183129,100.854066,99.171934,101.485627,101.316631,105.431105,106.833453,109.858736,132.648296,87.974124,92.844295,98.345869,105.227684,108.933788,114.594842,127.388826,130.664689,136.521994,161.252007,100.19,99.48,100.05,101.34,103.82,104.43,108.11,111.55,109.91,120.05,89.30375,93.599195,100.706765,103.015309,101.762768,106.530152,111.618864,115.952909,120.021357,140.30956,82.270352,90.215674,99.010497,113.617138,135.3695,153.56077,174.652304,200.773991,245.250519,292.921707,94.0,97.2,99.7,102.1,102.8,103.9,104.9,109.8,107.6,110.4,92.023403,98.262278,100.461527,101.059649,105.66059,107.846036,117.103128,131.263401,150.726159,176.731908,97.355342,101.910964,99.557352,101.435793,101.336927,99.853948,100.601765,99.471636,100.99861,104.581489,88.842607,98.910528,103.264224,106.25739,111.69951,116.352863,119.042426,117.756113,125.707867,148.818939,91.668322,97.007346,99.450628,100.808007,103.884732,109.857199,113.567368,116.91557,122.254593,126.587972,103.7792,102.8505,100.6062,101.4575,105.327,108.4225,113.7624,120.4953,122.2752,138.8366,100.6428,98.29906,100.3376,100.2323,102.3112,103.0268,103.1932,105.5113,106.0881,119.1671,108.234182,104.820174,106.067116,98.034706,100.29456,104.234138,109.699234,115.47032,117.231904,133.935796,89.457615,95.755131,99.646061,101.633104,105.536214,114.539061,125.802647,141.784745,153.04809,177.832913,96.180969,92.985098,95.708964,97.400317,102.395709,102.42521,104.814738,108.305612,110.075633,123.311456,101.9215,101.4264,101.6386,97.39479,100.8605,105.3872,109.4896,114.7943,113.8748,132.0523,101.44,100.6,101.8,101.66,104.32,107.85,108.58,114.1,111.28,123.35,99.12992,98.32331,99.564,101.2871,102.4311,104.474,105.0422,108.7313,109.5697,121.6052,98.04795,97.60687,100.4026,101.3153,102.8116,105.9805,108.1893,112.3829,111.287,121.0755,100.0089,101.0883,99.91489,100.1272,100.8425,102.4391,102.6494,103.0473,100.9247,101.9863,85.99095,93.505473,100.653109,107.721135,120.19821,123.353746,126.021015,131.548464,137.112714,144.632019,102.432093,97.869269,101.969198,110.348545,106.324191,109.337733,106.371425,108.024622,116.233927,132.066832,77.83197,88.81667,100.1975,102.673,120.0328,133.2336,171.1252,193.156,226.0726,433.2216,61.716051,69.064682,105.621011,109.668986,121.314699,138.004812,150.646949,154.694924,170.07723,210.245598,102.9,102.2,100.4,97.6,99.6,101.9,103.0,105.0,103.6,112.6]},{\"axis\":{\"matches\":true},\"label\":\"Agri to GDP t-1 (%)\",\"values\":[17.912681952639666,18.434762883496763,18.072036347066245,17.223120031805646,16.390473533849974,14.994260124277622,13.942311655414613,11.525610737958814,11.21342390635557,11.10929141439498,2.26809636459164,2.2857176329392224,2.2209460681003383,2.3760986737982277,2.404231292648322,2.702473805130863,2.4578039725526413,2.116864005656069,2.006092284889538,2.267623281938646,1.348551389938097,1.2547212159419494,1.2007405640414728,1.129790193564496,1.1103164792617166,1.21053643138638,1.1301555079802383,1.0715827241667772,1.099908742094022,1.095853754079098,0.7812267349466446,0.6811749134595806,0.637835968092569,0.6864147804639005,0.6284334758709493,0.6650936602418469,0.6029884912072964,0.66575512782419,0.6383619259893395,0.5851604769928364,13.351496997059979,13.690585051562424,13.648849712712078,12.90247296723076,11.091616349588202,11.122883367662597,9.561592754411532,8.939338056820938,11.54584626866338,11.36965806491521,9.812161914832803,9.966979476846303,9.740217537701692,10.239494114445522,11.17187541505321,11.589335938215314,11.481924151985146,12.22175758248909,14.0009305366582,12.92225271953304,3.274933539617523,3.4733753278992627,3.9466206299946176,3.7094042753649,4.199089371289474,4.2809716137703715,3.927435924613308,3.9839672335147416,4.084313238030017,3.284870411476113,9.113713870307512,8.942893962300571,8.64349139629661,8.387014882196029,8.057287534643597,7.463565016568735,7.043020253196253,7.143690277581798,7.698642516972237,7.264816056593962,5.582687053549311,5.39271495449473,5.446957214744195,5.980424808498154,6.606412266057868,6.389663552681172,6.225709689600321,6.410720821683127,7.390867701525644,7.391630702116434,3.303683981933472,3.46429594642386,2.9546900971919547,2.974404320702426,3.0699216028743708,2.8955820805983876,2.957091869877039,2.8687640937339336,3.216507470538233,3.131342543567368,2.0068950947793907,2.0414708179237,1.8504533607004547,1.8742717985430406,2.153329170483493,1.8581680987877558,1.7335398548568755,1.8086052458804653,1.930841667079133,1.769754274279229,2.2511856454724386,2.3647711662443687,2.41345254208349,2.2112138726824058,2.0870471242411464,2.0576068880787,1.9366448754220456,1.8612180131487779,1.91569347148341,1.95394854648997,1.654727530471845,1.3021275870146465,1.3824625977352534,0.9575802012883678,0.9611609740863056,1.304800359965708,1.0265693512957044,1.2220281022500117,1.306329293311325,0.9671925404326419,15.15594470316884,17.31572052105324,8.642412748822444,8.76934290282697,9.126508258712288,9.454851422113085,9.519016728182326,9.329258911537641,8.949269522748219,8.800531142886925,9.842730756074431,9.414287639305838,11.27276527139189,11.274349602236079,11.337704225352113,11.394062768525718,11.769317930169041,11.48528530259366,11.225000227093592,11.048975895131846,11.56760912786053,11.83150584801853,6.514356253930698,5.613306558695028,5.866872153768323,5.52976674016479,5.732153907396132,5.393009140808809,5.132768529852023,4.86781630135489,5.112481492545067,4.917120612006706,3.315463209091951,3.0881109952924217,3.1642699957592257,2.858046889972654,2.1136099974664235,2.3862054659440237,2.2210093580847476,2.511173797764267,2.166496655557966,2.143330303335704,9.675778707134517,10.113106994922335,8.098522701850602,7.871624084693897,10.664333639692888,10.531827360184748,10.906564833697717,11.849117809924001,14.46737763142498,13.81508703687597,2.3144993210205085,2.3673533312777444,2.3982948036945917,2.2537076897603896,2.310613374525327,2.315942041793894,2.3866225778265115,2.3493654420225805,2.449211117880628,2.384811848150111,1.6317950367770264,1.4586321769100443,1.5563561598593334,1.6056443865445917,1.4371148666885394,1.5424147738897338,1.648876616062414,1.5224592689225416,1.59684045057016,1.631492146934147,8.175617854139045,8.616414449639947,8.526217709805938,7.813761603064682,7.2965732782676636,6.240186842518448,6.762198594599927,6.5045891872234725,7.28866812979586,6.115724870866181,0.8479188142686982,0.9426432141142156,0.9045476749230554,0.6846915913792306,0.6984311298544696,0.8517489195509249,0.689013201261335,0.7789885845077519,0.7353098385774864,0.8002811836599806,3.441068645717918,3.382602758505213,3.5841335057166948,3.864703147743261,3.5153402483759684,3.856388964531252,3.6354084912526936,3.77962501702793,4.230804552499039,3.897399833138025,10.72274975333672,10.356221102386833,10.074483498933432,9.96700303156264,9.661395472750437,9.696286631967542,9.455204935307073,9.434214173880726,10.24341945580748,9.911505397853384,3.8897887499111836,3.9156922227905735,3.9347824318158344,3.788469312626309,3.889339573192361,3.753566863792409,3.485911692074628,3.3424818238183773,3.380822204854164,3.322534757253188,16.84537706603501,17.148423543547764,16.79193451458411,16.17450810662223,16.363800561402357,16.558331404702795,16.03163068634313,16.729204706558022,18.22892756798606,16.76676208247115,13.373974235072708,13.356699162194873,13.336754999214595,13.492643557888595,13.478748547027134,13.156630846266115,12.80849755869023,12.712602657752232,13.7024660064027,13.28068349349363,1.9707531347601979,2.144589807492327,1.9978608897499184,2.065236761903036,1.928373307304904,1.9726846731139274,1.9454200743460845,1.907311328552318,2.009908865068435,1.957591947534702,16.654196378215957,14.637872549781195,14.718663119487688,14.060764330085712,12.834473156492793,12.514578895885336,11.675286484238448,11.66510822840863,13.57433439849071,14.68220723966157,3.4547449412083444,3.173663381395498,3.5407813880773236,3.494675226718274,3.259542150815622,3.5523925961312584,3.5938051605094077,3.995167979662235,4.037778556922106,4.039324528220368,3.9794567898396664,3.5449208652590514,3.423190601342855,3.420675120331129,3.1087613527659217,3.507511549556954,2.8796301721881563,3.1064859566756935,3.237022605772091,3.304976258019118,0.2879514995388194,0.2619071969564649,0.28955043858505874,0.2237326287407348,0.21419700815904225,0.23457255011553962,0.23311937936794425,0.21874304173027356,0.2043813082910693,0.187097935446411,9.79375074645921,9.113363845382057,8.873209013026429,8.287499925856533,8.462526618057439,8.598276952372661,7.512089532735176,7.23976235751844,8.194522444026047,9.613242997467825,3.6572706220554183,3.3754299846669014,3.259178395253812,3.1539938471747506,3.1879291111290007,3.095793753731947,2.7845886596738536,2.897919535016277,3.406316839925951,3.755483752462214,3.1739249672505854,3.138783694945255,3.1320894023995653,3.1919236568852614,3.346464419990549,3.3810738819498245,3.383800382529134,3.394312976577279,3.798496419750514,3.843993581170756,7.452450544196925,8.034662500695172,8.099835681660835,8.061185734237567,7.468238931043657,6.853890741089221,6.7322377887813545,6.393841925957912,7.554892151880152,6.313415940158237,31.494828356040994,30.029320252789017,28.631656326519224,27.272218475086657,26.734418012635814,24.917624690980137,23.00278559770095,21.354050769455764,20.9337779202196,23.45938325076783,1.6595044764964793,1.7908648932642706,1.7383405801417597,1.7243278338801868,1.7665320320694808,1.8555949635979876,1.6506737193260352,1.6358056958016371,1.582312100438073,1.571012142174159,17.612119648056,16.490995470113802,16.708332928019505,16.110115700863084,14.915018894916912,14.996174075924678,15.321858545748293,15.24823714952711,15.56000758799062,15.48477027586375,21.85995861646725,20.758622832341686,19.990254767592344,20.631893480276396,20.98310970708386,20.846571430819647,21.20377371958582,21.90629593028096,24.14330586760924,23.35705876230578,1.127948791738879,1.3153062101624629,1.4428425242628184,1.537557598946762,2.0923145053109145,1.976462819788419,1.862995582318017,1.8441222129803303,1.80538992651593,1.588076061247054,23.710248671837977,23.83211646486066,23.74454011622721,23.817063157555026,22.32833020356975,21.963203536687203,21.65123535939572,20.67787132228868,21.86300418599782,22.96446565663465,3.0475095082494534,2.944517931296219,2.849876334957834,2.7860089727828146,2.6005179270180383,2.3847041994230826,2.248462473304008,2.1869214401522865,2.769708163121292,2.598862809446225,10.371313677453665,13.185185533563198,12.098565955667345,9.773175310847197,11.04138737451877,10.526743402977583,10.252701356943403,9.99501124214578,11.08346079383589,10.11400209336803,13.095807010678156,12.473425104412527,12.271681621144587,10.996499154862333,10.205125532561595,10.182954131410888,9.650140358153065,8.820323747305245,10.18531103191087,10.06845672082354,2.914363432755836,3.0911676759432667,2.848161921970216,2.374644108750594,2.5372326182044738,2.872298456907231,2.3384262958066135,2.3167200055468364,2.502174795070694,2.370282896554003,1.9241076988782753,2.095482698983847,2.076111164829186,2.0994439255280133,2.065810984172213,2.0958685760312687,2.0365298827895675,2.0885485418003307,2.105402638927532,2.192753180519079,4.68439374105165,5.382162686044867,4.712649874071213,4.186788615002685,4.069612814729213,4.313298224947391,4.3318341312674775,4.123626546923,3.967406224098168,4.349701447114051,11.502494845232384,12.033959657867708,11.375886731315292,11.946169485131982,11.397678850416689,10.878902470540519,11.115383073172932,12.289811989856386,13.99179700010536,14.94635406653984,14.09769235237041,13.724880375540085,13.368765076026806,14.282576734404515,14.4140203888971,14.982033820119694,14.98824784660675,14.899573080831338,16.2158547282752,15.32368028036941,1.9051089434031048,2.2265243345118684,2.7533228395505875,2.1979843893487727,2.2445742015861603,2.0906550245541764,2.1498584826532423,1.6674607112729298,1.757702139481953,1.773531200681811,1.9635055285492575,1.9712252038735698,2.017096535255665,2.096596213369382,1.98017135976102,1.8397241713400274,2.245548597121911,1.9568088364693421,2.122206879630068,1.844594728508392,2.408304149262098,2.6223406132025544,2.536336491118608,2.735363171521636,2.8257200316023847,2.788529151787597,2.757594167174316,2.594635861376193,3.148006859497945,2.728073138084897,1.5471458577227453,1.4665400187460547,1.4432981944684464,1.4495583820564397,1.3987444255770798,1.4435382286284344,1.3927866212290605,1.3921248315962056,1.390201120293612,1.346970032871465,0.629370355568408,0.6564793926467114,0.7012919623640504,0.6192807830652758,0.6507216673813598,0.6230191152332449,0.6350243562507062,0.6305105085524796,0.689423075489432,0.6235964448075267,26.55092652078611,26.790867917237637,25.802577447557095,26.745885729563014,27.444142571775416,28.742086074120426,27.86859953962489,26.54641516503476,26.73711126934727,25.88565334613981,42.52391812664409,37.51484193689845,25.684869803575406,24.374002994606712,20.757983414741414,20.638608521063535,20.44048838017571,19.755206761172236,18.7766483059643,19.2784378886341,7.694877592023171,6.676108122978507,6.557235473396572,6.8683753450583165,6.142292064038749,6.038629795689189,5.776012220879282,6.400774928469084,6.680559663426338,5.646769959727636,7.7613124838941365,8.692305621029556,10.154608154816106,12.059376106337098,11.72570090891674,10.177655039351247,10.139533107022944,8.96518101437243,9.310151098074716,10.63304572847625,0.6374048351444066,0.6375355170077323,0.7465240208468138,0.6344524527545302,0.566834503763194,0.5933787061731126,0.5766241411344842,0.6119852807829439,0.5831989772975115,0.6024891953316582]},{\"axis\":{\"matches\":true},\"label\":\"Agri Raw Materials Import to Total Merchandise Import t-1 (%)\",\"values\":[1.1891970632417468,1.089693815015731,1.5142118051612377,1.8848452591867078,1.900890248633979,1.1336151699017047,0.9875209753963754,1.3243153991607182,1.024550352953149,1.081348893460456,0.5862769924714059,0.6085270784593333,0.6886244241256269,0.7179940296622055,0.7045529874658256,0.6842922904096014,0.7592942717408444,0.6620809908028763,0.6761026514057666,0.7114643641733811,2.152732317431838,2.2373160012922635,2.2087182013457842,2.2398135785863293,2.1820231801358863,1.9397986901006161,1.9518063550033278,1.8149257730147603,1.845595568616058,2.004310804450548,1.2066023927826859,1.220107202922367,1.1931847512547313,1.244283341969451,1.183522206913069,1.1350149728712664,1.0822910328619821,1.0479059811360623,1.09664749197573,1.079079343512909,0.7250279571035613,0.926290249212163,1.34394712010442,1.2889769132147955,1.6737329139908952,1.8568370975138204,1.5502446520914863,1.7775338050442753,1.309860960800059,1.620567852193465,0.5366367805475786,0.512998871649187,0.4967002285386349,0.5280463743509802,0.6087680939376765,0.6047516349631206,0.6463188917454464,0.7005042501727984,0.8004821153880759,0.8076577938855557,0.5961902458492027,0.6273499541058108,0.6735937508599298,0.75346088226439,0.6759509895381156,0.6628528959209418,0.6268793616132546,0.6628648391565428,0.6705843985738975,0.6057665617331515,3.945864339369264,3.7248874862002928,3.5706370647502115,3.7043378039301578,3.779337404525492,3.938644601308078,3.576491295854832,3.156515253042534,2.878022239045698,2.658028096042051,0.920461282248011,0.8654091771334227,0.822955496977952,0.840691197605632,0.9314295381083663,0.9516660871459519,0.9622669126171872,0.8649055077176435,0.8765713966325824,0.9413522507507127,0.9620325221544447,0.9538201446373563,1.1450053473622535,1.2193041886101328,1.2426261287477571,1.2070266785848967,1.2244012655971936,1.184275814890226,1.122839007487536,1.178479893191336,0.7419462432502902,0.7505014608776381,0.6331476752167956,0.551702786444986,0.6094728827819298,0.4968112864174235,0.4555110663410713,0.578307935683281,0.538177290404116,0.5718271377227125,1.5020909795994726,1.460876103855193,1.3603212220444134,1.2803103729302021,1.2426323585584396,1.18236665828843,1.1529795585396323,1.0655411667665724,0.9401522713548036,1.033192812842304,2.2953770520758976,2.5552044436562316,2.7131452277261174,2.8264532546104015,2.6165960221816906,2.607325823325583,2.613382300065309,2.472413291053382,2.447100408554639,2.348118340635154,1.353088708363605,1.434780079272443,0.9689384935553382,0.8542597910060851,0.8569807714525104,0.8854879820443788,0.9628487013773463,0.9756122214927345,0.8891028236966186,0.8156674142561657,0.8765708343433503,0.824049276477558,2.8544003642421782,2.873546459683557,3.2738808648978197,2.8236740519215915,2.5843991841093703,2.877214345596128,2.655419643786133,2.5699267674500996,2.624118439223635,2.426372484561182,2.0024776539932656,1.7751632717960568,1.8832269618090467,1.9101487163483568,1.9978489084136464,2.070259865877704,2.1640356367035487,2.1600271583607045,1.872850626087061,1.941023542128488,1.8540437106938468,2.229285284263997,2.3210851661580314,2.50152102351972,2.613727127611532,2.6809520221378405,2.7482343369686286,2.783038204453286,3.128722389666652,3.979608877119942,0.33628415859376687,0.46396609328837635,0.5079452341177658,0.44815813459304066,1.0795762343489121,0.49533940644983787,0.4321894007929591,0.3203267435134186,0.4370197188737924,0.4425950837095693,2.3273941423743465,2.5451616134494106,2.43018241303224,2.2039357374945405,2.062856999155138,1.8652816682314746,2.1960019800251223,1.9615014210178332,1.929993516891047,1.829953208238711,1.1977389359737316,1.2001591071542046,1.1744729595689098,1.184460601622311,1.1601554987236393,1.133737785423583,1.157872857585652,1.0864715974333272,1.139207076338875,1.197951696313694,0.8239021485741377,0.6609354844358178,0.7435858247428804,0.8950603960982226,0.7613898858323128,0.7789398516709934,0.823093095362435,0.7823381008298858,0.8030545573117949,0.8191644307693093,1.5595170800584823,1.5365875151293855,1.4700797694291188,1.4328210004084208,1.4297059189716055,1.3576260932087536,1.304450321194423,1.2127341037641803,1.160600825926561,1.265379476815946,1.0955475049728047,1.1565129326898052,1.072676217093766,1.0553695404065144,1.035272298176079,0.9902675617115315,0.8641552603900429,0.8569281503540719,0.8116871789157614,0.7771480723001208,1.4386893571173918,1.3221075010569467,1.2487623174885851,1.4126431369400858,1.5143189099868182,1.500223193851941,1.6464420827310786,1.6949901340288416,1.623311026486866,1.615179875826575,1.3307719396912445,1.2092683260472836,1.1696938391416465,1.1541342901462934,1.1909688258264426,1.201935891644116,1.1292512972274742,1.1495905736466714,1.038876074413552,1.163493459560001,1.6351421736552056,1.6578678059777148,1.7876516163244531,1.849704098891278,2.049439682550466,1.791047767069673,1.7044438085738072,1.8594216277780535,1.63099942106726,1.645537185367946,2.6464784691916194,2.7413613041494393,2.914885762230485,2.8970605576769852,3.0971089268562237,3.1562605627369464,2.8893924100245725,2.743537753906554,2.505370253132207,2.645861544192728,2.1682173766795088,2.3640712021088435,2.3710926259522576,2.3256136466288058,2.2319318970835496,1.9427493687543267,1.9788865652744667,1.8623722916262575,1.727109401471589,1.754725897942658,1.450449025130455,1.5474445596175983,1.5612192086481236,0.9228517369585286,1.9059322123282616,0.5063303199177839,0.4869555186462667,0.7966609704254713,0.8162126589273465,0.6323692444682472,1.394770650789644,1.6033129913842803,2.1772643587661555,2.4183759710583814,2.560096964308439,2.414345337334628,3.0164316820241286,2.9082977003699613,3.169780747679073,3.959259806131728,1.7004390635013151,1.8783718872151536,2.0726197064911815,2.262591440768547,2.5583296170421006,2.4222161200466394,2.5011453908891346,2.541564893495602,2.653051866127275,2.736297813393452,2.7065770682439343,2.255107153471597,1.9334924522540768,1.9669750241141506,2.033465140165713,2.1789525431800136,2.0348865560603646,1.8131967866952043,1.43449996575048,1.943875543071801,2.5032121830118803,2.1169490371334607,1.736688657627305,1.7337306177467264,1.7172066630755916,1.9951346241719654,1.7617318566900457,1.884524139818028,2.08515399578034,2.497382953105703,1.9920372804632713,2.177020623802419,2.1158070880752,2.337717017188308,2.192611586249929,2.414473861939392,2.128458892214154,2.2038061233603847,1.886415279111714,1.796897713845356,1.137338867452609,1.0724830778458243,1.025002844115186,1.008826291975387,0.9423819976696143,0.9040988715868293,0.9861909768677254,0.9310294395602211,0.919058331778366,0.9322273389837458,0.768647219490596,0.7708587368778506,0.7986346111498266,0.682305719512635,0.5945652175103561,0.533145038002947,0.4988627564834418,0.7333803015150863,0.6899491176295424,0.6445912847275742,1.0867191957217959,0.297746231249964,0.21928478511441546,0.16428410590007272,0.3536150572211974,0.48750327540104016,0.5595640963448458,0.5333055896580595,0.3871662140395936,0.3106734341497897,1.5552578433387234,1.4865554705314372,1.5311535491093882,1.6439900621855679,1.6903091366206733,1.634660291194598,1.6596073207541635,1.587595276897022,1.73097583157678,1.72192338142434,0.737337402735941,0.8438122307802828,0.8815019882242179,0.9746348261843674,0.9979005962238184,1.1054474917638824,1.0852807514030993,1.1713475023751294,1.433692203685302,1.632303825364857,0.7580042468942483,2.806849351685241,0.6769085008891913,0.7707472237392292,0.8188041636135455,0.9088266186365611,0.7915322977477584,0.7579179317067288,0.8229801542242506,0.659088514112333,1.2832470047640967,1.2478980847208043,1.289655560070066,1.2646319253181229,1.3379737379229006,1.2398603195447062,1.2282989630452816,1.2074906482544068,1.256137849932586,1.423154793084507,3.8303953137677573,4.261712151188111,3.8590415628295474,4.123555077059105,3.825212885462796,3.7758986688994858,4.359260905092829,4.158298466511224,5.89654021502947,5.18430937630577,0.045431247881741965,0.033174875499968434,0.04034071642405315,0.03836594958976278,0.041412080124806336,0.228202099227832,0.2075379932443631,0.1843657883134788,0.2204440742709827,0.3705011522503857,0.6722293236529145,0.6364379470222672,0.8403118304608308,0.9056987347485227,0.826634082617341,0.7279325054802473,0.7200319123107886,0.7323720719780652,0.9699535896578503,0.801396125823121,0.6446365200234757,0.6607777695483904,0.6277144336526154,0.6242818208847991,0.6833891921836025,0.5259047416996178,0.6634644350796496,0.6757993746312057,0.6026371474292918,0.7811065670541394,1.87390984204657,1.8113415709220253,1.7524223635385794,1.657810871872683,1.624505515888882,1.5360267042841445,1.603569363598345,1.3929836906382693,1.410576656148659,1.425636186958652,1.8053358318947628,1.9240087295158705,1.8446691262383987,1.8418955920386546,1.9351751265426405,1.853140890942946,1.7896995627884333,1.6960133645050768,1.644089832971783,1.778449751629186,1.7493305922416464,1.6840955376706643,1.627157171358114,1.5834150760787753,1.6897093740048326,1.703393944197487,1.7233588482445483,1.5601702760615401,1.450211039427184,1.593870864929918,0.8043441186113212,0.866504872066892,0.8056992398115796,0.6968905176833008,1.6062867031810992,1.630838399068113,1.1230555570427225,1.5686462532288454,1.422926311087749,1.69902263182584,1.5218973147054675,1.4853051107020625,1.4891826724436383,1.7520980071921968,1.8397673512178006,1.5622117877083346,1.5011955922170444,1.5553825634104501,1.473125672110403,1.412339823314986,1.440934396624181,1.4050172095636244,1.1045023200889357,1.018972745683534,0.9747518486050168,1.0732614534851368,1.039763072676387,1.076174757426063,1.052119114844839,1.205314369875903,2.9965889621078814,3.070648781007848,2.9427233714926233,2.859182817824555,2.723460845340666,2.4476745461723377,2.5034158151871613,2.158376724185242,2.0632724310807,1.925538784956383,1.3017980160930884,1.3192419970536142,1.1822427365046473,1.2190052496318016,1.2278968176817098,1.160429471031166,1.0901756674762604,1.057830198586838,1.065461569852315,1.134608331501026,1.3896942371791405,1.3991214212534198,1.3440123922048621,1.2097309593930834,1.2024987814825763,1.1541387766802766,1.3270558512854624,1.2657380020684952,1.182577407283408,1.043298717655004,0.5865062261642091,0.5527719200814849,0.6433078370634161,0.6061583807746687,0.562893981005993,0.5716389015822246,0.5750177640665702,0.5495100819832558,0.5181988659267409,0.5743970467110836,0.8105383419717505,0.6924499459165214,1.044070231133316,0.6886433246165395,1.2692019660451164,1.078395765404848,1.3715405628577073,1.5840286140122926,1.711910944675709,1.467870665847441,1.1071525100267972,0.8420233468283623,1.2019427974328112,1.1258734745338326,1.1947701282862824,1.4876983599820761,1.6319831180658642,1.6109437787179364,1.345140887279462,1.327153857079463,2.515379044834827,2.3966613984867218,2.4710516811694707,2.48487496084508,2.5010880818903973,2.5507160912921405,2.5536615732851544,2.5791445277478315,2.269547029934464,2.596607596225688,0.9583653538011843,0.9889105998056749,1.094163827228626,1.1399419511167035,1.2433960229590053,1.18002402945806,1.0645199510710646,0.9713059123551513,1.054353572661582,1.017780108945227,0.9705359958976596,1.151674497606311,1.2489864110513378,1.263144396902886,1.1694769703252264,1.1861942551100548,1.2807378343047795,1.156692729873372,1.245854065651879,1.486930904736228]}],\"hovertemplate\":\"%{xaxis.title.text}=%{x}<br>%{yaxis.title.text}=%{y}<extra></extra>\",\"legendgroup\":\"\",\"marker\":{\"color\":\"#636efa\",\"symbol\":\"circle\"},\"name\":\"\",\"showlegend\":false,\"type\":\"splom\"}],                        {\"template\":{\"data\":{\"histogram2dcontour\":[{\"type\":\"histogram2dcontour\",\"colorbar\":{\"outlinewidth\":0,\"ticks\":\"\"},\"colorscale\":[[0.0,\"#0d0887\"],[0.1111111111111111,\"#46039f\"],[0.2222222222222222,\"#7201a8\"],[0.3333333333333333,\"#9c179e\"],[0.4444444444444444,\"#bd3786\"],[0.5555555555555556,\"#d8576b\"],[0.6666666666666666,\"#ed7953\"],[0.7777777777777778,\"#fb9f3a\"],[0.8888888888888888,\"#fdca26\"],[1.0,\"#f0f921\"]]}],\"choropleth\":[{\"type\":\"choropleth\",\"colorbar\":{\"outlinewidth\":0,\"ticks\":\"\"}}],\"histogram2d\":[{\"type\":\"histogram2d\",\"colorbar\":{\"outlinewidth\":0,\"ticks\":\"\"},\"colorscale\":[[0.0,\"#0d0887\"],[0.1111111111111111,\"#46039f\"],[0.2222222222222222,\"#7201a8\"],[0.3333333333333333,\"#9c179e\"],[0.4444444444444444,\"#bd3786\"],[0.5555555555555556,\"#d8576b\"],[0.6666666666666666,\"#ed7953\"],[0.7777777777777778,\"#fb9f3a\"],[0.8888888888888888,\"#fdca26\"],[1.0,\"#f0f921\"]]}],\"heatmap\":[{\"type\":\"heatmap\",\"colorbar\":{\"outlinewidth\":0,\"ticks\":\"\"},\"colorscale\":[[0.0,\"#0d0887\"],[0.1111111111111111,\"#46039f\"],[0.2222222222222222,\"#7201a8\"],[0.3333333333333333,\"#9c179e\"],[0.4444444444444444,\"#bd3786\"],[0.5555555555555556,\"#d8576b\"],[0.6666666666666666,\"#ed7953\"],[0.7777777777777778,\"#fb9f3a\"],[0.8888888888888888,\"#fdca26\"],[1.0,\"#f0f921\"]]}],\"heatmapgl\":[{\"type\":\"heatmapgl\",\"colorbar\":{\"outlinewidth\":0,\"ticks\":\"\"},\"colorscale\":[[0.0,\"#0d0887\"],[0.1111111111111111,\"#46039f\"],[0.2222222222222222,\"#7201a8\"],[0.3333333333333333,\"#9c179e\"],[0.4444444444444444,\"#bd3786\"],[0.5555555555555556,\"#d8576b\"],[0.6666666666666666,\"#ed7953\"],[0.7777777777777778,\"#fb9f3a\"],[0.8888888888888888,\"#fdca26\"],[1.0,\"#f0f921\"]]}],\"contourcarpet\":[{\"type\":\"contourcarpet\",\"colorbar\":{\"outlinewidth\":0,\"ticks\":\"\"}}],\"contour\":[{\"type\":\"contour\",\"colorbar\":{\"outlinewidth\":0,\"ticks\":\"\"},\"colorscale\":[[0.0,\"#0d0887\"],[0.1111111111111111,\"#46039f\"],[0.2222222222222222,\"#7201a8\"],[0.3333333333333333,\"#9c179e\"],[0.4444444444444444,\"#bd3786\"],[0.5555555555555556,\"#d8576b\"],[0.6666666666666666,\"#ed7953\"],[0.7777777777777778,\"#fb9f3a\"],[0.8888888888888888,\"#fdca26\"],[1.0,\"#f0f921\"]]}],\"surface\":[{\"type\":\"surface\",\"colorbar\":{\"outlinewidth\":0,\"ticks\":\"\"},\"colorscale\":[[0.0,\"#0d0887\"],[0.1111111111111111,\"#46039f\"],[0.2222222222222222,\"#7201a8\"],[0.3333333333333333,\"#9c179e\"],[0.4444444444444444,\"#bd3786\"],[0.5555555555555556,\"#d8576b\"],[0.6666666666666666,\"#ed7953\"],[0.7777777777777778,\"#fb9f3a\"],[0.8888888888888888,\"#fdca26\"],[1.0,\"#f0f921\"]]}],\"mesh3d\":[{\"type\":\"mesh3d\",\"colorbar\":{\"outlinewidth\":0,\"ticks\":\"\"}}],\"scatter\":[{\"fillpattern\":{\"fillmode\":\"overlay\",\"size\":10,\"solidity\":0.2},\"type\":\"scatter\"}],\"parcoords\":[{\"type\":\"parcoords\",\"line\":{\"colorbar\":{\"outlinewidth\":0,\"ticks\":\"\"}}}],\"scatterpolargl\":[{\"type\":\"scatterpolargl\",\"marker\":{\"colorbar\":{\"outlinewidth\":0,\"ticks\":\"\"}}}],\"bar\":[{\"error_x\":{\"color\":\"#2a3f5f\"},\"error_y\":{\"color\":\"#2a3f5f\"},\"marker\":{\"line\":{\"color\":\"#E5ECF6\",\"width\":0.5},\"pattern\":{\"fillmode\":\"overlay\",\"size\":10,\"solidity\":0.2}},\"type\":\"bar\"}],\"scattergeo\":[{\"type\":\"scattergeo\",\"marker\":{\"colorbar\":{\"outlinewidth\":0,\"ticks\":\"\"}}}],\"scatterpolar\":[{\"type\":\"scatterpolar\",\"marker\":{\"colorbar\":{\"outlinewidth\":0,\"ticks\":\"\"}}}],\"histogram\":[{\"marker\":{\"pattern\":{\"fillmode\":\"overlay\",\"size\":10,\"solidity\":0.2}},\"type\":\"histogram\"}],\"scattergl\":[{\"type\":\"scattergl\",\"marker\":{\"colorbar\":{\"outlinewidth\":0,\"ticks\":\"\"}}}],\"scatter3d\":[{\"type\":\"scatter3d\",\"line\":{\"colorbar\":{\"outlinewidth\":0,\"ticks\":\"\"}},\"marker\":{\"colorbar\":{\"outlinewidth\":0,\"ticks\":\"\"}}}],\"scattermapbox\":[{\"type\":\"scattermapbox\",\"marker\":{\"colorbar\":{\"outlinewidth\":0,\"ticks\":\"\"}}}],\"scatterternary\":[{\"type\":\"scatterternary\",\"marker\":{\"colorbar\":{\"outlinewidth\":0,\"ticks\":\"\"}}}],\"scattercarpet\":[{\"type\":\"scattercarpet\",\"marker\":{\"colorbar\":{\"outlinewidth\":0,\"ticks\":\"\"}}}],\"carpet\":[{\"aaxis\":{\"endlinecolor\":\"#2a3f5f\",\"gridcolor\":\"white\",\"linecolor\":\"white\",\"minorgridcolor\":\"white\",\"startlinecolor\":\"#2a3f5f\"},\"baxis\":{\"endlinecolor\":\"#2a3f5f\",\"gridcolor\":\"white\",\"linecolor\":\"white\",\"minorgridcolor\":\"white\",\"startlinecolor\":\"#2a3f5f\"},\"type\":\"carpet\"}],\"table\":[{\"cells\":{\"fill\":{\"color\":\"#EBF0F8\"},\"line\":{\"color\":\"white\"}},\"header\":{\"fill\":{\"color\":\"#C8D4E3\"},\"line\":{\"color\":\"white\"}},\"type\":\"table\"}],\"barpolar\":[{\"marker\":{\"line\":{\"color\":\"#E5ECF6\",\"width\":0.5},\"pattern\":{\"fillmode\":\"overlay\",\"size\":10,\"solidity\":0.2}},\"type\":\"barpolar\"}],\"pie\":[{\"automargin\":true,\"type\":\"pie\"}]},\"layout\":{\"autotypenumbers\":\"strict\",\"colorway\":[\"#636efa\",\"#EF553B\",\"#00cc96\",\"#ab63fa\",\"#FFA15A\",\"#19d3f3\",\"#FF6692\",\"#B6E880\",\"#FF97FF\",\"#FECB52\"],\"font\":{\"color\":\"#2a3f5f\"},\"hovermode\":\"closest\",\"hoverlabel\":{\"align\":\"left\"},\"paper_bgcolor\":\"white\",\"plot_bgcolor\":\"#E5ECF6\",\"polar\":{\"bgcolor\":\"#E5ECF6\",\"angularaxis\":{\"gridcolor\":\"white\",\"linecolor\":\"white\",\"ticks\":\"\"},\"radialaxis\":{\"gridcolor\":\"white\",\"linecolor\":\"white\",\"ticks\":\"\"}},\"ternary\":{\"bgcolor\":\"#E5ECF6\",\"aaxis\":{\"gridcolor\":\"white\",\"linecolor\":\"white\",\"ticks\":\"\"},\"baxis\":{\"gridcolor\":\"white\",\"linecolor\":\"white\",\"ticks\":\"\"},\"caxis\":{\"gridcolor\":\"white\",\"linecolor\":\"white\",\"ticks\":\"\"}},\"coloraxis\":{\"colorbar\":{\"outlinewidth\":0,\"ticks\":\"\"}},\"colorscale\":{\"sequential\":[[0.0,\"#0d0887\"],[0.1111111111111111,\"#46039f\"],[0.2222222222222222,\"#7201a8\"],[0.3333333333333333,\"#9c179e\"],[0.4444444444444444,\"#bd3786\"],[0.5555555555555556,\"#d8576b\"],[0.6666666666666666,\"#ed7953\"],[0.7777777777777778,\"#fb9f3a\"],[0.8888888888888888,\"#fdca26\"],[1.0,\"#f0f921\"]],\"sequentialminus\":[[0.0,\"#0d0887\"],[0.1111111111111111,\"#46039f\"],[0.2222222222222222,\"#7201a8\"],[0.3333333333333333,\"#9c179e\"],[0.4444444444444444,\"#bd3786\"],[0.5555555555555556,\"#d8576b\"],[0.6666666666666666,\"#ed7953\"],[0.7777777777777778,\"#fb9f3a\"],[0.8888888888888888,\"#fdca26\"],[1.0,\"#f0f921\"]],\"diverging\":[[0,\"#8e0152\"],[0.1,\"#c51b7d\"],[0.2,\"#de77ae\"],[0.3,\"#f1b6da\"],[0.4,\"#fde0ef\"],[0.5,\"#f7f7f7\"],[0.6,\"#e6f5d0\"],[0.7,\"#b8e186\"],[0.8,\"#7fbc41\"],[0.9,\"#4d9221\"],[1,\"#276419\"]]},\"xaxis\":{\"gridcolor\":\"white\",\"linecolor\":\"white\",\"ticks\":\"\",\"title\":{\"standoff\":15},\"zerolinecolor\":\"white\",\"automargin\":true,\"zerolinewidth\":2},\"yaxis\":{\"gridcolor\":\"white\",\"linecolor\":\"white\",\"ticks\":\"\",\"title\":{\"standoff\":15},\"zerolinecolor\":\"white\",\"automargin\":true,\"zerolinewidth\":2},\"scene\":{\"xaxis\":{\"backgroundcolor\":\"#E5ECF6\",\"gridcolor\":\"white\",\"linecolor\":\"white\",\"showbackground\":true,\"ticks\":\"\",\"zerolinecolor\":\"white\",\"gridwidth\":2},\"yaxis\":{\"backgroundcolor\":\"#E5ECF6\",\"gridcolor\":\"white\",\"linecolor\":\"white\",\"showbackground\":true,\"ticks\":\"\",\"zerolinecolor\":\"white\",\"gridwidth\":2},\"zaxis\":{\"backgroundcolor\":\"#E5ECF6\",\"gridcolor\":\"white\",\"linecolor\":\"white\",\"showbackground\":true,\"ticks\":\"\",\"zerolinecolor\":\"white\",\"gridwidth\":2}},\"shapedefaults\":{\"line\":{\"color\":\"#2a3f5f\"}},\"annotationdefaults\":{\"arrowcolor\":\"#2a3f5f\",\"arrowhead\":0,\"arrowwidth\":1},\"geo\":{\"bgcolor\":\"white\",\"landcolor\":\"#E5ECF6\",\"subunitcolor\":\"white\",\"showland\":true,\"showlakes\":true,\"lakecolor\":\"white\"},\"title\":{\"x\":0.05},\"mapbox\":{\"style\":\"light\"}}},\"legend\":{\"tracegroupgap\":0},\"margin\":{\"t\":60},\"dragmode\":\"select\",\"height\":1600,\"width\":1200},                        {\"responsive\": true}                    ).then(function(){\n",
       "                            \n",
       "var gd = document.getElementById('60cbeaa5-d970-46ab-8d28-157235bd75eb');\n",
       "var x = new MutationObserver(function (mutations, observer) {{\n",
       "        var display = window.getComputedStyle(gd).display;\n",
       "        if (!display || display === 'none') {{\n",
       "            console.log([gd, 'removed!']);\n",
       "            Plotly.purge(gd);\n",
       "            observer.disconnect();\n",
       "        }}\n",
       "}});\n",
       "\n",
       "// Listen for the removal of the full notebook cells\n",
       "var notebookContainer = gd.closest('#notebook-container');\n",
       "if (notebookContainer) {{\n",
       "    x.observe(notebookContainer, {childList: true});\n",
       "}}\n",
       "\n",
       "// Listen for the clearing of the current output cell\n",
       "var outputEl = gd.closest('.output');\n",
       "if (outputEl) {{\n",
       "    x.observe(outputEl, {childList: true});\n",
       "}}\n",
       "\n",
       "                        })                };                });            </script>        </div>"
      ]
     },
     "metadata": {},
     "output_type": "display_data"
    }
   ],
   "source": [
    "#We create scatter plot to understand the distributin of the data\n",
    "fig = px.scatter_matrix(data.drop(['C&Y','Year','Country','Prevalence of Undernourishment (%)'],axis=1),\n",
    "width=1200, height=1600)\n",
    "fig.show()"
   ]
  },
  {
   "cell_type": "code",
   "execution_count": 78,
   "id": "6b03de40",
   "metadata": {
    "ExecuteTime": {
     "end_time": "2022-11-10T19:02:36.535693Z",
     "start_time": "2022-11-10T19:02:36.460491Z"
    }
   },
   "outputs": [
    {
     "data": {
      "application/vnd.plotly.v1+json": {
       "config": {
        "plotlyServerURL": "https://plot.ly"
       },
       "data": [
        {
         "hovertemplate": "Prevalence of Undernourishment (%)=%{x}<br>Food Price Index (May)=%{y}<br>GDP per Capita t-1 (Current US$)=%{marker.size}<br>Country=%{text}<br>Agri to GDP t-1 (%)=%{marker.color}<extra></extra>",
         "legendgroup": "",
         "marker": {
          "color": [
           11.10929141439498,
           2.267623281938646,
           1.095853754079098,
           0.5851604769928364,
           11.36965806491521,
           12.92225271953304,
           3.284870411476113,
           7.264816056593962,
           7.391630702116434,
           3.131342543567368,
           1.769754274279229,
           1.95394854648997,
           0.9671925404326419,
           17.31572052105324,
           9.414287639305838,
           11.83150584801853,
           4.917120612006706,
           2.143330303335704,
           13.81508703687597,
           2.384811848150111,
           1.631492146934147,
           6.115724870866181,
           0.8002811836599806,
           3.897399833138025,
           9.911505397853384,
           3.322534757253188,
           16.76676208247115,
           13.28068349349363,
           1.957591947534702,
           14.68220723966157,
           4.039324528220368,
           3.304976258019118,
           0.187097935446411,
           9.613242997467825,
           3.755483752462214,
           3.843993581170756,
           6.313415940158237,
           23.45938325076783,
           1.571012142174159,
           15.48477027586375,
           23.35705876230578,
           1.588076061247054,
           22.96446565663465,
           2.598862809446225,
           10.11400209336803,
           10.06845672082354,
           2.370282896554003,
           2.192753180519079,
           4.349701447114051,
           14.94635406653984,
           15.32368028036941,
           1.773531200681811,
           1.844594728508392,
           2.728073138084897,
           1.346970032871465,
           0.6235964448075267,
           25.88565334613981,
           19.2784378886341,
           5.646769959727636,
           10.63304572847625,
           0.6024891953316582
          ],
          "coloraxis": "coloraxis",
          "size": [
           4670.008798000999,
           59934.12940888954,
           53267.93274911318,
           51767.78857236462,
           4420.491372337404,
           3414.892848560867,
           16502.83857090346,
           12556.33312000579,
           6131.225921531167,
           17398.76597681076,
           30798.4765625,
           26378.4999575477,
           67803.04710464025,
           7559.975039052797,
           5934.875495808083,
           3876.359593733486,
           4408.520365114674,
           27280.65843969931,
           5085.971641958608,
           53982.61427352609,
           43518.53851308511,
           5042.385527773875,
           50801.78671053076,
           20276.54467440746,
           5025.575572614512,
           18772.67329206671,
           2277.434346743544,
           4291.812554491208,
           35551.28499000708,
           1276.242643275282,
           20642.16792212527,
           23433.39090737691,
           135682.7942746481,
           11371.09901928104,
           8812.10824897507,
           9926.422767554355,
           9367.016883648357,
           1187.238484168529,
           58061.00166793593,
           2090.753461131411,
           2085.030764779358,
           89202.75053814382,
           1537.936410655227,
           14516.45804724,
           5400.10382635384,
           3548.828322580573,
           17840.92105066737,
           24262.18093525742,
           14861.90917379331,
           2449.333442436266,
           1606.472060873112,
           21087.84610100567,
           29200.81987838626,
           30115.70588667918,
           60238.98656449223,
           93457.44039761553,
           1135.53967285156,
           992.3284293624907,
           9586.612450055969,
           4835.57177734375,
           47334.35531498753
          ],
          "sizemode": "area",
          "sizeref": 339.20698568662027,
          "symbol": "circle"
         },
         "mode": "markers+text",
         "name": "",
         "orientation": "v",
         "showlegend": false,
         "text": [
          "Armenia",
          "Australia",
          "Austria",
          "Belgium",
          "Belize",
          "Bolivia",
          "Chile",
          "China, mainland",
          "Colombia",
          "Croatia",
          "Cyprus",
          "Czechia",
          "Denmark",
          "Dominica",
          "Ecuador",
          "Egypt",
          "El Salvador",
          "Estonia",
          "Fiji",
          "Finland",
          "France",
          "Georgia",
          "Germany",
          "Greece",
          "Guatemala",
          "Hungary",
          "India",
          "Indonesia",
          "Italy",
          "Kyrgyzstan",
          "Latvia",
          "Lithuania",
          "Luxembourg",
          "Malaysia",
          "Mauritius",
          "Mexico",
          "Montenegro",
          "Myanmar",
          "Netherlands",
          "Nicaragua",
          "Nigeria",
          "Norway",
          "Pakistan",
          "Panama",
          "Paraguay",
          "Philippines",
          "Poland",
          "Portugal",
          "Romania",
          "Sao Tome and Principe",
          "Senegal",
          "Slovakia",
          "Slovenia",
          "Spain",
          "Sweden",
          "Switzerland",
          "Tanzania",
          "Togo",
          "Turkiye",
          "Ukraine",
          "United Kingdom"
         ],
         "type": "scatter",
         "x": [
          7.446000000000005,
          0.075,
          0.156,
          0.038,
          8.420999999999998,
          9.494999999999994,
          2.411999999999997,
          0.052,
          6.431999999999999,
          0.5079999999999999,
          0.076,
          0.379,
          0,
          2.912,
          9.76700000000001,
          5.852999999999996,
          9.198999999999998,
          0.376,
          6.532000000000002,
          0.07200000000000001,
          0.152,
          6.801000000000001,
          0.038,
          1.380999999999999,
          10.69299999999999,
          0.8479999999999999,
          12.86399999999999,
          7.123999999999999,
          0.092,
          7.492000000000001,
          0.4589999999999999,
          0.383,
          0.078,
          3.132,
          2.790999999999999,
          4.354000000000004,
          1.225,
          4.128000000000001,
          0,
          14.89199999999999,
          10.58100000000001,
          0,
          14.031,
          4.263999999999998,
          7.642000000000004,
          7.689000000000004,
          1.613,
          0.282,
          0.7020000000000001,
          9.988999999999999,
          12.85,
          1.034999999999999,
          0.156,
          0.058,
          0.076,
          0,
          16.94399999999998,
          17.30999999999999,
          0,
          6.680000000000006,
          0
         ],
         "xaxis": "x",
         "y": [
          135.921277,
          115.109412,
          119.0274,
          116.6317,
          111.014802,
          116.208074,
          145.3528,
          118.2321,
          172.1194,
          121.7,
          110.53,
          131.7,
          116,
          108.625507,
          105.48919,
          261.584165,
          117.090935,
          136.165,
          123.040894,
          112.5,
          114.75,
          174.252277,
          125.3,
          114.1482,
          164.100159,
          149.5889,
          135.817167,
          132.685606,
          114.4,
          146.227058,
          137.2104,
          142.5241,
          118.32,
          120.151996,
          136.731694,
          155.3904,
          132.648296,
          161.252007,
          120.05,
          140.30956,
          292.921707,
          110.4,
          176.731908,
          104.581489,
          148.818939,
          126.587972,
          138.8366,
          119.1671,
          133.935796,
          177.832913,
          123.311456,
          132.0523,
          123.35,
          121.6052,
          121.0755,
          101.9863,
          144.632019,
          132.066832,
          433.2216,
          210.245598,
          112.6
         ],
         "yaxis": "y"
        }
       ],
       "layout": {
        "coloraxis": {
         "colorbar": {
          "title": {
           "text": "Agri to GDP t-1 (%)"
          }
         },
         "colorscale": [
          [
           0,
           "#0d0887"
          ],
          [
           0.1111111111111111,
           "#46039f"
          ],
          [
           0.2222222222222222,
           "#7201a8"
          ],
          [
           0.3333333333333333,
           "#9c179e"
          ],
          [
           0.4444444444444444,
           "#bd3786"
          ],
          [
           0.5555555555555556,
           "#d8576b"
          ],
          [
           0.6666666666666666,
           "#ed7953"
          ],
          [
           0.7777777777777778,
           "#fb9f3a"
          ],
          [
           0.8888888888888888,
           "#fdca26"
          ],
          [
           1,
           "#f0f921"
          ]
         ]
        },
        "legend": {
         "itemsizing": "constant",
         "tracegroupgap": 0
        },
        "margin": {
         "t": 60
        },
        "template": {
         "data": {
          "bar": [
           {
            "error_x": {
             "color": "#2a3f5f"
            },
            "error_y": {
             "color": "#2a3f5f"
            },
            "marker": {
             "line": {
              "color": "#E5ECF6",
              "width": 0.5
             },
             "pattern": {
              "fillmode": "overlay",
              "size": 10,
              "solidity": 0.2
             }
            },
            "type": "bar"
           }
          ],
          "barpolar": [
           {
            "marker": {
             "line": {
              "color": "#E5ECF6",
              "width": 0.5
             },
             "pattern": {
              "fillmode": "overlay",
              "size": 10,
              "solidity": 0.2
             }
            },
            "type": "barpolar"
           }
          ],
          "carpet": [
           {
            "aaxis": {
             "endlinecolor": "#2a3f5f",
             "gridcolor": "white",
             "linecolor": "white",
             "minorgridcolor": "white",
             "startlinecolor": "#2a3f5f"
            },
            "baxis": {
             "endlinecolor": "#2a3f5f",
             "gridcolor": "white",
             "linecolor": "white",
             "minorgridcolor": "white",
             "startlinecolor": "#2a3f5f"
            },
            "type": "carpet"
           }
          ],
          "choropleth": [
           {
            "colorbar": {
             "outlinewidth": 0,
             "ticks": ""
            },
            "type": "choropleth"
           }
          ],
          "contour": [
           {
            "colorbar": {
             "outlinewidth": 0,
             "ticks": ""
            },
            "colorscale": [
             [
              0,
              "#0d0887"
             ],
             [
              0.1111111111111111,
              "#46039f"
             ],
             [
              0.2222222222222222,
              "#7201a8"
             ],
             [
              0.3333333333333333,
              "#9c179e"
             ],
             [
              0.4444444444444444,
              "#bd3786"
             ],
             [
              0.5555555555555556,
              "#d8576b"
             ],
             [
              0.6666666666666666,
              "#ed7953"
             ],
             [
              0.7777777777777778,
              "#fb9f3a"
             ],
             [
              0.8888888888888888,
              "#fdca26"
             ],
             [
              1,
              "#f0f921"
             ]
            ],
            "type": "contour"
           }
          ],
          "contourcarpet": [
           {
            "colorbar": {
             "outlinewidth": 0,
             "ticks": ""
            },
            "type": "contourcarpet"
           }
          ],
          "heatmap": [
           {
            "colorbar": {
             "outlinewidth": 0,
             "ticks": ""
            },
            "colorscale": [
             [
              0,
              "#0d0887"
             ],
             [
              0.1111111111111111,
              "#46039f"
             ],
             [
              0.2222222222222222,
              "#7201a8"
             ],
             [
              0.3333333333333333,
              "#9c179e"
             ],
             [
              0.4444444444444444,
              "#bd3786"
             ],
             [
              0.5555555555555556,
              "#d8576b"
             ],
             [
              0.6666666666666666,
              "#ed7953"
             ],
             [
              0.7777777777777778,
              "#fb9f3a"
             ],
             [
              0.8888888888888888,
              "#fdca26"
             ],
             [
              1,
              "#f0f921"
             ]
            ],
            "type": "heatmap"
           }
          ],
          "heatmapgl": [
           {
            "colorbar": {
             "outlinewidth": 0,
             "ticks": ""
            },
            "colorscale": [
             [
              0,
              "#0d0887"
             ],
             [
              0.1111111111111111,
              "#46039f"
             ],
             [
              0.2222222222222222,
              "#7201a8"
             ],
             [
              0.3333333333333333,
              "#9c179e"
             ],
             [
              0.4444444444444444,
              "#bd3786"
             ],
             [
              0.5555555555555556,
              "#d8576b"
             ],
             [
              0.6666666666666666,
              "#ed7953"
             ],
             [
              0.7777777777777778,
              "#fb9f3a"
             ],
             [
              0.8888888888888888,
              "#fdca26"
             ],
             [
              1,
              "#f0f921"
             ]
            ],
            "type": "heatmapgl"
           }
          ],
          "histogram": [
           {
            "marker": {
             "pattern": {
              "fillmode": "overlay",
              "size": 10,
              "solidity": 0.2
             }
            },
            "type": "histogram"
           }
          ],
          "histogram2d": [
           {
            "colorbar": {
             "outlinewidth": 0,
             "ticks": ""
            },
            "colorscale": [
             [
              0,
              "#0d0887"
             ],
             [
              0.1111111111111111,
              "#46039f"
             ],
             [
              0.2222222222222222,
              "#7201a8"
             ],
             [
              0.3333333333333333,
              "#9c179e"
             ],
             [
              0.4444444444444444,
              "#bd3786"
             ],
             [
              0.5555555555555556,
              "#d8576b"
             ],
             [
              0.6666666666666666,
              "#ed7953"
             ],
             [
              0.7777777777777778,
              "#fb9f3a"
             ],
             [
              0.8888888888888888,
              "#fdca26"
             ],
             [
              1,
              "#f0f921"
             ]
            ],
            "type": "histogram2d"
           }
          ],
          "histogram2dcontour": [
           {
            "colorbar": {
             "outlinewidth": 0,
             "ticks": ""
            },
            "colorscale": [
             [
              0,
              "#0d0887"
             ],
             [
              0.1111111111111111,
              "#46039f"
             ],
             [
              0.2222222222222222,
              "#7201a8"
             ],
             [
              0.3333333333333333,
              "#9c179e"
             ],
             [
              0.4444444444444444,
              "#bd3786"
             ],
             [
              0.5555555555555556,
              "#d8576b"
             ],
             [
              0.6666666666666666,
              "#ed7953"
             ],
             [
              0.7777777777777778,
              "#fb9f3a"
             ],
             [
              0.8888888888888888,
              "#fdca26"
             ],
             [
              1,
              "#f0f921"
             ]
            ],
            "type": "histogram2dcontour"
           }
          ],
          "mesh3d": [
           {
            "colorbar": {
             "outlinewidth": 0,
             "ticks": ""
            },
            "type": "mesh3d"
           }
          ],
          "parcoords": [
           {
            "line": {
             "colorbar": {
              "outlinewidth": 0,
              "ticks": ""
             }
            },
            "type": "parcoords"
           }
          ],
          "pie": [
           {
            "automargin": true,
            "type": "pie"
           }
          ],
          "scatter": [
           {
            "fillpattern": {
             "fillmode": "overlay",
             "size": 10,
             "solidity": 0.2
            },
            "type": "scatter"
           }
          ],
          "scatter3d": [
           {
            "line": {
             "colorbar": {
              "outlinewidth": 0,
              "ticks": ""
             }
            },
            "marker": {
             "colorbar": {
              "outlinewidth": 0,
              "ticks": ""
             }
            },
            "type": "scatter3d"
           }
          ],
          "scattercarpet": [
           {
            "marker": {
             "colorbar": {
              "outlinewidth": 0,
              "ticks": ""
             }
            },
            "type": "scattercarpet"
           }
          ],
          "scattergeo": [
           {
            "marker": {
             "colorbar": {
              "outlinewidth": 0,
              "ticks": ""
             }
            },
            "type": "scattergeo"
           }
          ],
          "scattergl": [
           {
            "marker": {
             "colorbar": {
              "outlinewidth": 0,
              "ticks": ""
             }
            },
            "type": "scattergl"
           }
          ],
          "scattermapbox": [
           {
            "marker": {
             "colorbar": {
              "outlinewidth": 0,
              "ticks": ""
             }
            },
            "type": "scattermapbox"
           }
          ],
          "scatterpolar": [
           {
            "marker": {
             "colorbar": {
              "outlinewidth": 0,
              "ticks": ""
             }
            },
            "type": "scatterpolar"
           }
          ],
          "scatterpolargl": [
           {
            "marker": {
             "colorbar": {
              "outlinewidth": 0,
              "ticks": ""
             }
            },
            "type": "scatterpolargl"
           }
          ],
          "scatterternary": [
           {
            "marker": {
             "colorbar": {
              "outlinewidth": 0,
              "ticks": ""
             }
            },
            "type": "scatterternary"
           }
          ],
          "surface": [
           {
            "colorbar": {
             "outlinewidth": 0,
             "ticks": ""
            },
            "colorscale": [
             [
              0,
              "#0d0887"
             ],
             [
              0.1111111111111111,
              "#46039f"
             ],
             [
              0.2222222222222222,
              "#7201a8"
             ],
             [
              0.3333333333333333,
              "#9c179e"
             ],
             [
              0.4444444444444444,
              "#bd3786"
             ],
             [
              0.5555555555555556,
              "#d8576b"
             ],
             [
              0.6666666666666666,
              "#ed7953"
             ],
             [
              0.7777777777777778,
              "#fb9f3a"
             ],
             [
              0.8888888888888888,
              "#fdca26"
             ],
             [
              1,
              "#f0f921"
             ]
            ],
            "type": "surface"
           }
          ],
          "table": [
           {
            "cells": {
             "fill": {
              "color": "#EBF0F8"
             },
             "line": {
              "color": "white"
             }
            },
            "header": {
             "fill": {
              "color": "#C8D4E3"
             },
             "line": {
              "color": "white"
             }
            },
            "type": "table"
           }
          ]
         },
         "layout": {
          "annotationdefaults": {
           "arrowcolor": "#2a3f5f",
           "arrowhead": 0,
           "arrowwidth": 1
          },
          "autotypenumbers": "strict",
          "coloraxis": {
           "colorbar": {
            "outlinewidth": 0,
            "ticks": ""
           }
          },
          "colorscale": {
           "diverging": [
            [
             0,
             "#8e0152"
            ],
            [
             0.1,
             "#c51b7d"
            ],
            [
             0.2,
             "#de77ae"
            ],
            [
             0.3,
             "#f1b6da"
            ],
            [
             0.4,
             "#fde0ef"
            ],
            [
             0.5,
             "#f7f7f7"
            ],
            [
             0.6,
             "#e6f5d0"
            ],
            [
             0.7,
             "#b8e186"
            ],
            [
             0.8,
             "#7fbc41"
            ],
            [
             0.9,
             "#4d9221"
            ],
            [
             1,
             "#276419"
            ]
           ],
           "sequential": [
            [
             0,
             "#0d0887"
            ],
            [
             0.1111111111111111,
             "#46039f"
            ],
            [
             0.2222222222222222,
             "#7201a8"
            ],
            [
             0.3333333333333333,
             "#9c179e"
            ],
            [
             0.4444444444444444,
             "#bd3786"
            ],
            [
             0.5555555555555556,
             "#d8576b"
            ],
            [
             0.6666666666666666,
             "#ed7953"
            ],
            [
             0.7777777777777778,
             "#fb9f3a"
            ],
            [
             0.8888888888888888,
             "#fdca26"
            ],
            [
             1,
             "#f0f921"
            ]
           ],
           "sequentialminus": [
            [
             0,
             "#0d0887"
            ],
            [
             0.1111111111111111,
             "#46039f"
            ],
            [
             0.2222222222222222,
             "#7201a8"
            ],
            [
             0.3333333333333333,
             "#9c179e"
            ],
            [
             0.4444444444444444,
             "#bd3786"
            ],
            [
             0.5555555555555556,
             "#d8576b"
            ],
            [
             0.6666666666666666,
             "#ed7953"
            ],
            [
             0.7777777777777778,
             "#fb9f3a"
            ],
            [
             0.8888888888888888,
             "#fdca26"
            ],
            [
             1,
             "#f0f921"
            ]
           ]
          },
          "colorway": [
           "#636efa",
           "#EF553B",
           "#00cc96",
           "#ab63fa",
           "#FFA15A",
           "#19d3f3",
           "#FF6692",
           "#B6E880",
           "#FF97FF",
           "#FECB52"
          ],
          "font": {
           "color": "#2a3f5f"
          },
          "geo": {
           "bgcolor": "white",
           "lakecolor": "white",
           "landcolor": "#E5ECF6",
           "showlakes": true,
           "showland": true,
           "subunitcolor": "white"
          },
          "hoverlabel": {
           "align": "left"
          },
          "hovermode": "closest",
          "mapbox": {
           "style": "light"
          },
          "paper_bgcolor": "white",
          "plot_bgcolor": "#E5ECF6",
          "polar": {
           "angularaxis": {
            "gridcolor": "white",
            "linecolor": "white",
            "ticks": ""
           },
           "bgcolor": "#E5ECF6",
           "radialaxis": {
            "gridcolor": "white",
            "linecolor": "white",
            "ticks": ""
           }
          },
          "scene": {
           "xaxis": {
            "backgroundcolor": "#E5ECF6",
            "gridcolor": "white",
            "gridwidth": 2,
            "linecolor": "white",
            "showbackground": true,
            "ticks": "",
            "zerolinecolor": "white"
           },
           "yaxis": {
            "backgroundcolor": "#E5ECF6",
            "gridcolor": "white",
            "gridwidth": 2,
            "linecolor": "white",
            "showbackground": true,
            "ticks": "",
            "zerolinecolor": "white"
           },
           "zaxis": {
            "backgroundcolor": "#E5ECF6",
            "gridcolor": "white",
            "gridwidth": 2,
            "linecolor": "white",
            "showbackground": true,
            "ticks": "",
            "zerolinecolor": "white"
           }
          },
          "shapedefaults": {
           "line": {
            "color": "#2a3f5f"
           }
          },
          "ternary": {
           "aaxis": {
            "gridcolor": "white",
            "linecolor": "white",
            "ticks": ""
           },
           "baxis": {
            "gridcolor": "white",
            "linecolor": "white",
            "ticks": ""
           },
           "bgcolor": "#E5ECF6",
           "caxis": {
            "gridcolor": "white",
            "linecolor": "white",
            "ticks": ""
           }
          },
          "title": {
           "x": 0.05
          },
          "xaxis": {
           "automargin": true,
           "gridcolor": "white",
           "linecolor": "white",
           "ticks": "",
           "title": {
            "standoff": 15
           },
           "zerolinecolor": "white",
           "zerolinewidth": 2
          },
          "yaxis": {
           "automargin": true,
           "gridcolor": "white",
           "linecolor": "white",
           "ticks": "",
           "title": {
            "standoff": 15
           },
           "zerolinecolor": "white",
           "zerolinewidth": 2
          }
         }
        },
        "title": {
         "text": "Clustering Food"
        },
        "xaxis": {
         "anchor": "y",
         "domain": [
          0,
          1
         ],
         "title": {
          "text": "Prevalence of Undernourishment (%)"
         }
        },
        "yaxis": {
         "anchor": "x",
         "domain": [
          0,
          1
         ],
         "title": {
          "text": "Food Price Index (May)"
         }
        }
       }
      },
      "text/html": [
       "<div>                            <div id=\"c64cdc36-1ef6-4348-9ee1-06b42c8bfea9\" class=\"plotly-graph-div\" style=\"height:525px; width:100%;\"></div>            <script type=\"text/javascript\">                require([\"plotly\"], function(Plotly) {                    window.PLOTLYENV=window.PLOTLYENV || {};                                    if (document.getElementById(\"c64cdc36-1ef6-4348-9ee1-06b42c8bfea9\")) {                    Plotly.newPlot(                        \"c64cdc36-1ef6-4348-9ee1-06b42c8bfea9\",                        [{\"hovertemplate\":\"Prevalence of Undernourishment (%)=%{x}<br>Food Price Index (May)=%{y}<br>GDP per Capita t-1 (Current US$)=%{marker.size}<br>Country=%{text}<br>Agri to GDP t-1 (%)=%{marker.color}<extra></extra>\",\"legendgroup\":\"\",\"marker\":{\"color\":[11.10929141439498,2.267623281938646,1.095853754079098,0.5851604769928364,11.36965806491521,12.92225271953304,3.284870411476113,7.264816056593962,7.391630702116434,3.131342543567368,1.769754274279229,1.95394854648997,0.9671925404326419,17.31572052105324,9.414287639305838,11.83150584801853,4.917120612006706,2.143330303335704,13.81508703687597,2.384811848150111,1.631492146934147,6.115724870866181,0.8002811836599806,3.897399833138025,9.911505397853384,3.322534757253188,16.76676208247115,13.28068349349363,1.957591947534702,14.68220723966157,4.039324528220368,3.304976258019118,0.187097935446411,9.613242997467825,3.755483752462214,3.843993581170756,6.313415940158237,23.45938325076783,1.571012142174159,15.48477027586375,23.35705876230578,1.588076061247054,22.96446565663465,2.598862809446225,10.11400209336803,10.06845672082354,2.370282896554003,2.192753180519079,4.349701447114051,14.94635406653984,15.32368028036941,1.773531200681811,1.844594728508392,2.728073138084897,1.346970032871465,0.6235964448075267,25.88565334613981,19.2784378886341,5.646769959727636,10.63304572847625,0.6024891953316582],\"coloraxis\":\"coloraxis\",\"size\":[4670.008798000999,59934.12940888954,53267.93274911318,51767.78857236462,4420.491372337404,3414.892848560867,16502.83857090346,12556.33312000579,6131.225921531167,17398.76597681076,30798.4765625,26378.4999575477,67803.04710464025,7559.975039052797,5934.875495808083,3876.359593733486,4408.520365114674,27280.65843969931,5085.971641958608,53982.61427352609,43518.53851308511,5042.385527773875,50801.78671053076,20276.54467440746,5025.575572614512,18772.67329206671,2277.434346743544,4291.812554491208,35551.28499000708,1276.242643275282,20642.16792212527,23433.39090737691,135682.7942746481,11371.09901928104,8812.10824897507,9926.422767554355,9367.016883648357,1187.238484168529,58061.00166793593,2090.753461131411,2085.030764779358,89202.75053814382,1537.936410655227,14516.45804724,5400.10382635384,3548.828322580573,17840.92105066737,24262.18093525742,14861.90917379331,2449.333442436266,1606.472060873112,21087.84610100567,29200.81987838626,30115.70588667918,60238.98656449223,93457.44039761553,1135.53967285156,992.3284293624907,9586.612450055969,4835.57177734375,47334.35531498753],\"sizemode\":\"area\",\"sizeref\":339.20698568662027,\"symbol\":\"circle\"},\"mode\":\"markers+text\",\"name\":\"\",\"orientation\":\"v\",\"showlegend\":false,\"text\":[\"Armenia\",\"Australia\",\"Austria\",\"Belgium\",\"Belize\",\"Bolivia\",\"Chile\",\"China, mainland\",\"Colombia\",\"Croatia\",\"Cyprus\",\"Czechia\",\"Denmark\",\"Dominica\",\"Ecuador\",\"Egypt\",\"El Salvador\",\"Estonia\",\"Fiji\",\"Finland\",\"France\",\"Georgia\",\"Germany\",\"Greece\",\"Guatemala\",\"Hungary\",\"India\",\"Indonesia\",\"Italy\",\"Kyrgyzstan\",\"Latvia\",\"Lithuania\",\"Luxembourg\",\"Malaysia\",\"Mauritius\",\"Mexico\",\"Montenegro\",\"Myanmar\",\"Netherlands\",\"Nicaragua\",\"Nigeria\",\"Norway\",\"Pakistan\",\"Panama\",\"Paraguay\",\"Philippines\",\"Poland\",\"Portugal\",\"Romania\",\"Sao Tome and Principe\",\"Senegal\",\"Slovakia\",\"Slovenia\",\"Spain\",\"Sweden\",\"Switzerland\",\"Tanzania\",\"Togo\",\"Turkiye\",\"Ukraine\",\"United Kingdom\"],\"x\":[7.446000000000005,0.075,0.156,0.038,8.420999999999998,9.494999999999994,2.411999999999997,0.052,6.431999999999999,0.5079999999999999,0.076,0.379,0.0,2.912,9.76700000000001,5.852999999999996,9.198999999999998,0.376,6.532000000000002,0.07200000000000001,0.152,6.801000000000001,0.038,1.380999999999999,10.69299999999999,0.8479999999999999,12.86399999999999,7.123999999999999,0.092,7.492000000000001,0.4589999999999999,0.383,0.078,3.132,2.790999999999999,4.354000000000004,1.225,4.128000000000001,0.0,14.89199999999999,10.58100000000001,0.0,14.031,4.263999999999998,7.642000000000004,7.689000000000004,1.613,0.282,0.7020000000000001,9.988999999999999,12.85,1.034999999999999,0.156,0.058,0.076,0.0,16.94399999999998,17.30999999999999,0.0,6.680000000000006,0.0],\"xaxis\":\"x\",\"y\":[135.921277,115.109412,119.0274,116.6317,111.014802,116.208074,145.3528,118.2321,172.1194,121.7,110.53,131.7,116.0,108.625507,105.48919,261.584165,117.090935,136.165,123.040894,112.5,114.75,174.252277,125.3,114.1482,164.100159,149.5889,135.817167,132.685606,114.4,146.227058,137.2104,142.5241,118.32,120.151996,136.731694,155.3904,132.648296,161.252007,120.05,140.30956,292.921707,110.4,176.731908,104.581489,148.818939,126.587972,138.8366,119.1671,133.935796,177.832913,123.311456,132.0523,123.35,121.6052,121.0755,101.9863,144.632019,132.066832,433.2216,210.245598,112.6],\"yaxis\":\"y\",\"type\":\"scatter\"}],                        {\"template\":{\"data\":{\"histogram2dcontour\":[{\"type\":\"histogram2dcontour\",\"colorbar\":{\"outlinewidth\":0,\"ticks\":\"\"},\"colorscale\":[[0.0,\"#0d0887\"],[0.1111111111111111,\"#46039f\"],[0.2222222222222222,\"#7201a8\"],[0.3333333333333333,\"#9c179e\"],[0.4444444444444444,\"#bd3786\"],[0.5555555555555556,\"#d8576b\"],[0.6666666666666666,\"#ed7953\"],[0.7777777777777778,\"#fb9f3a\"],[0.8888888888888888,\"#fdca26\"],[1.0,\"#f0f921\"]]}],\"choropleth\":[{\"type\":\"choropleth\",\"colorbar\":{\"outlinewidth\":0,\"ticks\":\"\"}}],\"histogram2d\":[{\"type\":\"histogram2d\",\"colorbar\":{\"outlinewidth\":0,\"ticks\":\"\"},\"colorscale\":[[0.0,\"#0d0887\"],[0.1111111111111111,\"#46039f\"],[0.2222222222222222,\"#7201a8\"],[0.3333333333333333,\"#9c179e\"],[0.4444444444444444,\"#bd3786\"],[0.5555555555555556,\"#d8576b\"],[0.6666666666666666,\"#ed7953\"],[0.7777777777777778,\"#fb9f3a\"],[0.8888888888888888,\"#fdca26\"],[1.0,\"#f0f921\"]]}],\"heatmap\":[{\"type\":\"heatmap\",\"colorbar\":{\"outlinewidth\":0,\"ticks\":\"\"},\"colorscale\":[[0.0,\"#0d0887\"],[0.1111111111111111,\"#46039f\"],[0.2222222222222222,\"#7201a8\"],[0.3333333333333333,\"#9c179e\"],[0.4444444444444444,\"#bd3786\"],[0.5555555555555556,\"#d8576b\"],[0.6666666666666666,\"#ed7953\"],[0.7777777777777778,\"#fb9f3a\"],[0.8888888888888888,\"#fdca26\"],[1.0,\"#f0f921\"]]}],\"heatmapgl\":[{\"type\":\"heatmapgl\",\"colorbar\":{\"outlinewidth\":0,\"ticks\":\"\"},\"colorscale\":[[0.0,\"#0d0887\"],[0.1111111111111111,\"#46039f\"],[0.2222222222222222,\"#7201a8\"],[0.3333333333333333,\"#9c179e\"],[0.4444444444444444,\"#bd3786\"],[0.5555555555555556,\"#d8576b\"],[0.6666666666666666,\"#ed7953\"],[0.7777777777777778,\"#fb9f3a\"],[0.8888888888888888,\"#fdca26\"],[1.0,\"#f0f921\"]]}],\"contourcarpet\":[{\"type\":\"contourcarpet\",\"colorbar\":{\"outlinewidth\":0,\"ticks\":\"\"}}],\"contour\":[{\"type\":\"contour\",\"colorbar\":{\"outlinewidth\":0,\"ticks\":\"\"},\"colorscale\":[[0.0,\"#0d0887\"],[0.1111111111111111,\"#46039f\"],[0.2222222222222222,\"#7201a8\"],[0.3333333333333333,\"#9c179e\"],[0.4444444444444444,\"#bd3786\"],[0.5555555555555556,\"#d8576b\"],[0.6666666666666666,\"#ed7953\"],[0.7777777777777778,\"#fb9f3a\"],[0.8888888888888888,\"#fdca26\"],[1.0,\"#f0f921\"]]}],\"surface\":[{\"type\":\"surface\",\"colorbar\":{\"outlinewidth\":0,\"ticks\":\"\"},\"colorscale\":[[0.0,\"#0d0887\"],[0.1111111111111111,\"#46039f\"],[0.2222222222222222,\"#7201a8\"],[0.3333333333333333,\"#9c179e\"],[0.4444444444444444,\"#bd3786\"],[0.5555555555555556,\"#d8576b\"],[0.6666666666666666,\"#ed7953\"],[0.7777777777777778,\"#fb9f3a\"],[0.8888888888888888,\"#fdca26\"],[1.0,\"#f0f921\"]]}],\"mesh3d\":[{\"type\":\"mesh3d\",\"colorbar\":{\"outlinewidth\":0,\"ticks\":\"\"}}],\"scatter\":[{\"fillpattern\":{\"fillmode\":\"overlay\",\"size\":10,\"solidity\":0.2},\"type\":\"scatter\"}],\"parcoords\":[{\"type\":\"parcoords\",\"line\":{\"colorbar\":{\"outlinewidth\":0,\"ticks\":\"\"}}}],\"scatterpolargl\":[{\"type\":\"scatterpolargl\",\"marker\":{\"colorbar\":{\"outlinewidth\":0,\"ticks\":\"\"}}}],\"bar\":[{\"error_x\":{\"color\":\"#2a3f5f\"},\"error_y\":{\"color\":\"#2a3f5f\"},\"marker\":{\"line\":{\"color\":\"#E5ECF6\",\"width\":0.5},\"pattern\":{\"fillmode\":\"overlay\",\"size\":10,\"solidity\":0.2}},\"type\":\"bar\"}],\"scattergeo\":[{\"type\":\"scattergeo\",\"marker\":{\"colorbar\":{\"outlinewidth\":0,\"ticks\":\"\"}}}],\"scatterpolar\":[{\"type\":\"scatterpolar\",\"marker\":{\"colorbar\":{\"outlinewidth\":0,\"ticks\":\"\"}}}],\"histogram\":[{\"marker\":{\"pattern\":{\"fillmode\":\"overlay\",\"size\":10,\"solidity\":0.2}},\"type\":\"histogram\"}],\"scattergl\":[{\"type\":\"scattergl\",\"marker\":{\"colorbar\":{\"outlinewidth\":0,\"ticks\":\"\"}}}],\"scatter3d\":[{\"type\":\"scatter3d\",\"line\":{\"colorbar\":{\"outlinewidth\":0,\"ticks\":\"\"}},\"marker\":{\"colorbar\":{\"outlinewidth\":0,\"ticks\":\"\"}}}],\"scattermapbox\":[{\"type\":\"scattermapbox\",\"marker\":{\"colorbar\":{\"outlinewidth\":0,\"ticks\":\"\"}}}],\"scatterternary\":[{\"type\":\"scatterternary\",\"marker\":{\"colorbar\":{\"outlinewidth\":0,\"ticks\":\"\"}}}],\"scattercarpet\":[{\"type\":\"scattercarpet\",\"marker\":{\"colorbar\":{\"outlinewidth\":0,\"ticks\":\"\"}}}],\"carpet\":[{\"aaxis\":{\"endlinecolor\":\"#2a3f5f\",\"gridcolor\":\"white\",\"linecolor\":\"white\",\"minorgridcolor\":\"white\",\"startlinecolor\":\"#2a3f5f\"},\"baxis\":{\"endlinecolor\":\"#2a3f5f\",\"gridcolor\":\"white\",\"linecolor\":\"white\",\"minorgridcolor\":\"white\",\"startlinecolor\":\"#2a3f5f\"},\"type\":\"carpet\"}],\"table\":[{\"cells\":{\"fill\":{\"color\":\"#EBF0F8\"},\"line\":{\"color\":\"white\"}},\"header\":{\"fill\":{\"color\":\"#C8D4E3\"},\"line\":{\"color\":\"white\"}},\"type\":\"table\"}],\"barpolar\":[{\"marker\":{\"line\":{\"color\":\"#E5ECF6\",\"width\":0.5},\"pattern\":{\"fillmode\":\"overlay\",\"size\":10,\"solidity\":0.2}},\"type\":\"barpolar\"}],\"pie\":[{\"automargin\":true,\"type\":\"pie\"}]},\"layout\":{\"autotypenumbers\":\"strict\",\"colorway\":[\"#636efa\",\"#EF553B\",\"#00cc96\",\"#ab63fa\",\"#FFA15A\",\"#19d3f3\",\"#FF6692\",\"#B6E880\",\"#FF97FF\",\"#FECB52\"],\"font\":{\"color\":\"#2a3f5f\"},\"hovermode\":\"closest\",\"hoverlabel\":{\"align\":\"left\"},\"paper_bgcolor\":\"white\",\"plot_bgcolor\":\"#E5ECF6\",\"polar\":{\"bgcolor\":\"#E5ECF6\",\"angularaxis\":{\"gridcolor\":\"white\",\"linecolor\":\"white\",\"ticks\":\"\"},\"radialaxis\":{\"gridcolor\":\"white\",\"linecolor\":\"white\",\"ticks\":\"\"}},\"ternary\":{\"bgcolor\":\"#E5ECF6\",\"aaxis\":{\"gridcolor\":\"white\",\"linecolor\":\"white\",\"ticks\":\"\"},\"baxis\":{\"gridcolor\":\"white\",\"linecolor\":\"white\",\"ticks\":\"\"},\"caxis\":{\"gridcolor\":\"white\",\"linecolor\":\"white\",\"ticks\":\"\"}},\"coloraxis\":{\"colorbar\":{\"outlinewidth\":0,\"ticks\":\"\"}},\"colorscale\":{\"sequential\":[[0.0,\"#0d0887\"],[0.1111111111111111,\"#46039f\"],[0.2222222222222222,\"#7201a8\"],[0.3333333333333333,\"#9c179e\"],[0.4444444444444444,\"#bd3786\"],[0.5555555555555556,\"#d8576b\"],[0.6666666666666666,\"#ed7953\"],[0.7777777777777778,\"#fb9f3a\"],[0.8888888888888888,\"#fdca26\"],[1.0,\"#f0f921\"]],\"sequentialminus\":[[0.0,\"#0d0887\"],[0.1111111111111111,\"#46039f\"],[0.2222222222222222,\"#7201a8\"],[0.3333333333333333,\"#9c179e\"],[0.4444444444444444,\"#bd3786\"],[0.5555555555555556,\"#d8576b\"],[0.6666666666666666,\"#ed7953\"],[0.7777777777777778,\"#fb9f3a\"],[0.8888888888888888,\"#fdca26\"],[1.0,\"#f0f921\"]],\"diverging\":[[0,\"#8e0152\"],[0.1,\"#c51b7d\"],[0.2,\"#de77ae\"],[0.3,\"#f1b6da\"],[0.4,\"#fde0ef\"],[0.5,\"#f7f7f7\"],[0.6,\"#e6f5d0\"],[0.7,\"#b8e186\"],[0.8,\"#7fbc41\"],[0.9,\"#4d9221\"],[1,\"#276419\"]]},\"xaxis\":{\"gridcolor\":\"white\",\"linecolor\":\"white\",\"ticks\":\"\",\"title\":{\"standoff\":15},\"zerolinecolor\":\"white\",\"automargin\":true,\"zerolinewidth\":2},\"yaxis\":{\"gridcolor\":\"white\",\"linecolor\":\"white\",\"ticks\":\"\",\"title\":{\"standoff\":15},\"zerolinecolor\":\"white\",\"automargin\":true,\"zerolinewidth\":2},\"scene\":{\"xaxis\":{\"backgroundcolor\":\"#E5ECF6\",\"gridcolor\":\"white\",\"linecolor\":\"white\",\"showbackground\":true,\"ticks\":\"\",\"zerolinecolor\":\"white\",\"gridwidth\":2},\"yaxis\":{\"backgroundcolor\":\"#E5ECF6\",\"gridcolor\":\"white\",\"linecolor\":\"white\",\"showbackground\":true,\"ticks\":\"\",\"zerolinecolor\":\"white\",\"gridwidth\":2},\"zaxis\":{\"backgroundcolor\":\"#E5ECF6\",\"gridcolor\":\"white\",\"linecolor\":\"white\",\"showbackground\":true,\"ticks\":\"\",\"zerolinecolor\":\"white\",\"gridwidth\":2}},\"shapedefaults\":{\"line\":{\"color\":\"#2a3f5f\"}},\"annotationdefaults\":{\"arrowcolor\":\"#2a3f5f\",\"arrowhead\":0,\"arrowwidth\":1},\"geo\":{\"bgcolor\":\"white\",\"landcolor\":\"#E5ECF6\",\"subunitcolor\":\"white\",\"showland\":true,\"showlakes\":true,\"lakecolor\":\"white\"},\"title\":{\"x\":0.05},\"mapbox\":{\"style\":\"light\"}}},\"xaxis\":{\"anchor\":\"y\",\"domain\":[0.0,1.0],\"title\":{\"text\":\"Prevalence of Undernourishment (%)\"}},\"yaxis\":{\"anchor\":\"x\",\"domain\":[0.0,1.0],\"title\":{\"text\":\"Food Price Index (May)\"}},\"coloraxis\":{\"colorbar\":{\"title\":{\"text\":\"Agri to GDP t-1 (%)\"}},\"colorscale\":[[0.0,\"#0d0887\"],[0.1111111111111111,\"#46039f\"],[0.2222222222222222,\"#7201a8\"],[0.3333333333333333,\"#9c179e\"],[0.4444444444444444,\"#bd3786\"],[0.5555555555555556,\"#d8576b\"],[0.6666666666666666,\"#ed7953\"],[0.7777777777777778,\"#fb9f3a\"],[0.8888888888888888,\"#fdca26\"],[1.0,\"#f0f921\"]]},\"legend\":{\"tracegroupgap\":0,\"itemsizing\":\"constant\"},\"margin\":{\"t\":60},\"title\":{\"text\":\"Clustering Food\"}},                        {\"responsive\": true}                    ).then(function(){\n",
       "                            \n",
       "var gd = document.getElementById('c64cdc36-1ef6-4348-9ee1-06b42c8bfea9');\n",
       "var x = new MutationObserver(function (mutations, observer) {{\n",
       "        var display = window.getComputedStyle(gd).display;\n",
       "        if (!display || display === 'none') {{\n",
       "            console.log([gd, 'removed!']);\n",
       "            Plotly.purge(gd);\n",
       "            observer.disconnect();\n",
       "        }}\n",
       "}});\n",
       "\n",
       "// Listen for the removal of the full notebook cells\n",
       "var notebookContainer = gd.closest('#notebook-container');\n",
       "if (notebookContainer) {{\n",
       "    x.observe(notebookContainer, {childList: true});\n",
       "}}\n",
       "\n",
       "// Listen for the clearing of the current output cell\n",
       "var outputEl = gd.closest('.output');\n",
       "if (outputEl) {{\n",
       "    x.observe(outputEl, {childList: true});\n",
       "}}\n",
       "\n",
       "                        })                };                });            </script>        </div>"
      ]
     },
     "metadata": {},
     "output_type": "display_data"
    }
   ],
   "source": [
    "#Clustering 4 features\n",
    "data_cluster = data[(data.Year == 2022)]\n",
    "fig1 = px.scatter(data_cluster, x=\"Prevalence of Undernourishment (%)\", y=\"Food Price Index (May)\", color=\"Agri to GDP t-1 (%)\",\n",
    "                 size=\"GDP per Capita t-1 (Current US$)\",text='Country')\n",
    "fig1.update_layout(title=\"Clustering Food\")\n",
    "fig1.show()"
   ]
  },
  {
   "cell_type": "code",
   "execution_count": 79,
   "id": "bba18617",
   "metadata": {
    "ExecuteTime": {
     "end_time": "2022-11-10T19:02:38.019732Z",
     "start_time": "2022-11-10T19:02:37.176951Z"
    }
   },
   "outputs": [
    {
     "data": {
      "application/vnd.plotly.v1+json": {
       "config": {
        "plotlyServerURL": "https://plot.ly"
       },
       "data": [
        {
         "type": "scatter",
         "x": [
          1,
          2,
          3,
          4,
          5,
          6,
          7,
          8,
          9,
          10
         ],
         "y": [
          50.776958653049675,
          32.52011224746368,
          23.69481687661935,
          18.32509177642186,
          15.280170354097576,
          12.645292802677893,
          10.396716797002712,
          9.325868961566083,
          8.306517415485828,
          7.523201389585193
         ]
        }
       ],
       "layout": {
        "annotations": [
         {
          "arrowhead": 7,
          "ax": 20,
          "ay": -40,
          "showarrow": true,
          "text": "Elbow!",
          "x": 3,
          "xref": "x",
          "y": 23.69481687661935,
          "yref": "y"
         }
        ],
        "template": {
         "data": {
          "bar": [
           {
            "error_x": {
             "color": "#2a3f5f"
            },
            "error_y": {
             "color": "#2a3f5f"
            },
            "marker": {
             "line": {
              "color": "#E5ECF6",
              "width": 0.5
             },
             "pattern": {
              "fillmode": "overlay",
              "size": 10,
              "solidity": 0.2
             }
            },
            "type": "bar"
           }
          ],
          "barpolar": [
           {
            "marker": {
             "line": {
              "color": "#E5ECF6",
              "width": 0.5
             },
             "pattern": {
              "fillmode": "overlay",
              "size": 10,
              "solidity": 0.2
             }
            },
            "type": "barpolar"
           }
          ],
          "carpet": [
           {
            "aaxis": {
             "endlinecolor": "#2a3f5f",
             "gridcolor": "white",
             "linecolor": "white",
             "minorgridcolor": "white",
             "startlinecolor": "#2a3f5f"
            },
            "baxis": {
             "endlinecolor": "#2a3f5f",
             "gridcolor": "white",
             "linecolor": "white",
             "minorgridcolor": "white",
             "startlinecolor": "#2a3f5f"
            },
            "type": "carpet"
           }
          ],
          "choropleth": [
           {
            "colorbar": {
             "outlinewidth": 0,
             "ticks": ""
            },
            "type": "choropleth"
           }
          ],
          "contour": [
           {
            "colorbar": {
             "outlinewidth": 0,
             "ticks": ""
            },
            "colorscale": [
             [
              0,
              "#0d0887"
             ],
             [
              0.1111111111111111,
              "#46039f"
             ],
             [
              0.2222222222222222,
              "#7201a8"
             ],
             [
              0.3333333333333333,
              "#9c179e"
             ],
             [
              0.4444444444444444,
              "#bd3786"
             ],
             [
              0.5555555555555556,
              "#d8576b"
             ],
             [
              0.6666666666666666,
              "#ed7953"
             ],
             [
              0.7777777777777778,
              "#fb9f3a"
             ],
             [
              0.8888888888888888,
              "#fdca26"
             ],
             [
              1,
              "#f0f921"
             ]
            ],
            "type": "contour"
           }
          ],
          "contourcarpet": [
           {
            "colorbar": {
             "outlinewidth": 0,
             "ticks": ""
            },
            "type": "contourcarpet"
           }
          ],
          "heatmap": [
           {
            "colorbar": {
             "outlinewidth": 0,
             "ticks": ""
            },
            "colorscale": [
             [
              0,
              "#0d0887"
             ],
             [
              0.1111111111111111,
              "#46039f"
             ],
             [
              0.2222222222222222,
              "#7201a8"
             ],
             [
              0.3333333333333333,
              "#9c179e"
             ],
             [
              0.4444444444444444,
              "#bd3786"
             ],
             [
              0.5555555555555556,
              "#d8576b"
             ],
             [
              0.6666666666666666,
              "#ed7953"
             ],
             [
              0.7777777777777778,
              "#fb9f3a"
             ],
             [
              0.8888888888888888,
              "#fdca26"
             ],
             [
              1,
              "#f0f921"
             ]
            ],
            "type": "heatmap"
           }
          ],
          "heatmapgl": [
           {
            "colorbar": {
             "outlinewidth": 0,
             "ticks": ""
            },
            "colorscale": [
             [
              0,
              "#0d0887"
             ],
             [
              0.1111111111111111,
              "#46039f"
             ],
             [
              0.2222222222222222,
              "#7201a8"
             ],
             [
              0.3333333333333333,
              "#9c179e"
             ],
             [
              0.4444444444444444,
              "#bd3786"
             ],
             [
              0.5555555555555556,
              "#d8576b"
             ],
             [
              0.6666666666666666,
              "#ed7953"
             ],
             [
              0.7777777777777778,
              "#fb9f3a"
             ],
             [
              0.8888888888888888,
              "#fdca26"
             ],
             [
              1,
              "#f0f921"
             ]
            ],
            "type": "heatmapgl"
           }
          ],
          "histogram": [
           {
            "marker": {
             "pattern": {
              "fillmode": "overlay",
              "size": 10,
              "solidity": 0.2
             }
            },
            "type": "histogram"
           }
          ],
          "histogram2d": [
           {
            "colorbar": {
             "outlinewidth": 0,
             "ticks": ""
            },
            "colorscale": [
             [
              0,
              "#0d0887"
             ],
             [
              0.1111111111111111,
              "#46039f"
             ],
             [
              0.2222222222222222,
              "#7201a8"
             ],
             [
              0.3333333333333333,
              "#9c179e"
             ],
             [
              0.4444444444444444,
              "#bd3786"
             ],
             [
              0.5555555555555556,
              "#d8576b"
             ],
             [
              0.6666666666666666,
              "#ed7953"
             ],
             [
              0.7777777777777778,
              "#fb9f3a"
             ],
             [
              0.8888888888888888,
              "#fdca26"
             ],
             [
              1,
              "#f0f921"
             ]
            ],
            "type": "histogram2d"
           }
          ],
          "histogram2dcontour": [
           {
            "colorbar": {
             "outlinewidth": 0,
             "ticks": ""
            },
            "colorscale": [
             [
              0,
              "#0d0887"
             ],
             [
              0.1111111111111111,
              "#46039f"
             ],
             [
              0.2222222222222222,
              "#7201a8"
             ],
             [
              0.3333333333333333,
              "#9c179e"
             ],
             [
              0.4444444444444444,
              "#bd3786"
             ],
             [
              0.5555555555555556,
              "#d8576b"
             ],
             [
              0.6666666666666666,
              "#ed7953"
             ],
             [
              0.7777777777777778,
              "#fb9f3a"
             ],
             [
              0.8888888888888888,
              "#fdca26"
             ],
             [
              1,
              "#f0f921"
             ]
            ],
            "type": "histogram2dcontour"
           }
          ],
          "mesh3d": [
           {
            "colorbar": {
             "outlinewidth": 0,
             "ticks": ""
            },
            "type": "mesh3d"
           }
          ],
          "parcoords": [
           {
            "line": {
             "colorbar": {
              "outlinewidth": 0,
              "ticks": ""
             }
            },
            "type": "parcoords"
           }
          ],
          "pie": [
           {
            "automargin": true,
            "type": "pie"
           }
          ],
          "scatter": [
           {
            "fillpattern": {
             "fillmode": "overlay",
             "size": 10,
             "solidity": 0.2
            },
            "type": "scatter"
           }
          ],
          "scatter3d": [
           {
            "line": {
             "colorbar": {
              "outlinewidth": 0,
              "ticks": ""
             }
            },
            "marker": {
             "colorbar": {
              "outlinewidth": 0,
              "ticks": ""
             }
            },
            "type": "scatter3d"
           }
          ],
          "scattercarpet": [
           {
            "marker": {
             "colorbar": {
              "outlinewidth": 0,
              "ticks": ""
             }
            },
            "type": "scattercarpet"
           }
          ],
          "scattergeo": [
           {
            "marker": {
             "colorbar": {
              "outlinewidth": 0,
              "ticks": ""
             }
            },
            "type": "scattergeo"
           }
          ],
          "scattergl": [
           {
            "marker": {
             "colorbar": {
              "outlinewidth": 0,
              "ticks": ""
             }
            },
            "type": "scattergl"
           }
          ],
          "scattermapbox": [
           {
            "marker": {
             "colorbar": {
              "outlinewidth": 0,
              "ticks": ""
             }
            },
            "type": "scattermapbox"
           }
          ],
          "scatterpolar": [
           {
            "marker": {
             "colorbar": {
              "outlinewidth": 0,
              "ticks": ""
             }
            },
            "type": "scatterpolar"
           }
          ],
          "scatterpolargl": [
           {
            "marker": {
             "colorbar": {
              "outlinewidth": 0,
              "ticks": ""
             }
            },
            "type": "scatterpolargl"
           }
          ],
          "scatterternary": [
           {
            "marker": {
             "colorbar": {
              "outlinewidth": 0,
              "ticks": ""
             }
            },
            "type": "scatterternary"
           }
          ],
          "surface": [
           {
            "colorbar": {
             "outlinewidth": 0,
             "ticks": ""
            },
            "colorscale": [
             [
              0,
              "#0d0887"
             ],
             [
              0.1111111111111111,
              "#46039f"
             ],
             [
              0.2222222222222222,
              "#7201a8"
             ],
             [
              0.3333333333333333,
              "#9c179e"
             ],
             [
              0.4444444444444444,
              "#bd3786"
             ],
             [
              0.5555555555555556,
              "#d8576b"
             ],
             [
              0.6666666666666666,
              "#ed7953"
             ],
             [
              0.7777777777777778,
              "#fb9f3a"
             ],
             [
              0.8888888888888888,
              "#fdca26"
             ],
             [
              1,
              "#f0f921"
             ]
            ],
            "type": "surface"
           }
          ],
          "table": [
           {
            "cells": {
             "fill": {
              "color": "#EBF0F8"
             },
             "line": {
              "color": "white"
             }
            },
            "header": {
             "fill": {
              "color": "#C8D4E3"
             },
             "line": {
              "color": "white"
             }
            },
            "type": "table"
           }
          ]
         },
         "layout": {
          "annotationdefaults": {
           "arrowcolor": "#2a3f5f",
           "arrowhead": 0,
           "arrowwidth": 1
          },
          "autotypenumbers": "strict",
          "coloraxis": {
           "colorbar": {
            "outlinewidth": 0,
            "ticks": ""
           }
          },
          "colorscale": {
           "diverging": [
            [
             0,
             "#8e0152"
            ],
            [
             0.1,
             "#c51b7d"
            ],
            [
             0.2,
             "#de77ae"
            ],
            [
             0.3,
             "#f1b6da"
            ],
            [
             0.4,
             "#fde0ef"
            ],
            [
             0.5,
             "#f7f7f7"
            ],
            [
             0.6,
             "#e6f5d0"
            ],
            [
             0.7,
             "#b8e186"
            ],
            [
             0.8,
             "#7fbc41"
            ],
            [
             0.9,
             "#4d9221"
            ],
            [
             1,
             "#276419"
            ]
           ],
           "sequential": [
            [
             0,
             "#0d0887"
            ],
            [
             0.1111111111111111,
             "#46039f"
            ],
            [
             0.2222222222222222,
             "#7201a8"
            ],
            [
             0.3333333333333333,
             "#9c179e"
            ],
            [
             0.4444444444444444,
             "#bd3786"
            ],
            [
             0.5555555555555556,
             "#d8576b"
            ],
            [
             0.6666666666666666,
             "#ed7953"
            ],
            [
             0.7777777777777778,
             "#fb9f3a"
            ],
            [
             0.8888888888888888,
             "#fdca26"
            ],
            [
             1,
             "#f0f921"
            ]
           ],
           "sequentialminus": [
            [
             0,
             "#0d0887"
            ],
            [
             0.1111111111111111,
             "#46039f"
            ],
            [
             0.2222222222222222,
             "#7201a8"
            ],
            [
             0.3333333333333333,
             "#9c179e"
            ],
            [
             0.4444444444444444,
             "#bd3786"
            ],
            [
             0.5555555555555556,
             "#d8576b"
            ],
            [
             0.6666666666666666,
             "#ed7953"
            ],
            [
             0.7777777777777778,
             "#fb9f3a"
            ],
            [
             0.8888888888888888,
             "#fdca26"
            ],
            [
             1,
             "#f0f921"
            ]
           ]
          },
          "colorway": [
           "#636efa",
           "#EF553B",
           "#00cc96",
           "#ab63fa",
           "#FFA15A",
           "#19d3f3",
           "#FF6692",
           "#B6E880",
           "#FF97FF",
           "#FECB52"
          ],
          "font": {
           "color": "#2a3f5f"
          },
          "geo": {
           "bgcolor": "white",
           "lakecolor": "white",
           "landcolor": "#E5ECF6",
           "showlakes": true,
           "showland": true,
           "subunitcolor": "white"
          },
          "hoverlabel": {
           "align": "left"
          },
          "hovermode": "closest",
          "mapbox": {
           "style": "light"
          },
          "paper_bgcolor": "white",
          "plot_bgcolor": "#E5ECF6",
          "polar": {
           "angularaxis": {
            "gridcolor": "white",
            "linecolor": "white",
            "ticks": ""
           },
           "bgcolor": "#E5ECF6",
           "radialaxis": {
            "gridcolor": "white",
            "linecolor": "white",
            "ticks": ""
           }
          },
          "scene": {
           "xaxis": {
            "backgroundcolor": "#E5ECF6",
            "gridcolor": "white",
            "gridwidth": 2,
            "linecolor": "white",
            "showbackground": true,
            "ticks": "",
            "zerolinecolor": "white"
           },
           "yaxis": {
            "backgroundcolor": "#E5ECF6",
            "gridcolor": "white",
            "gridwidth": 2,
            "linecolor": "white",
            "showbackground": true,
            "ticks": "",
            "zerolinecolor": "white"
           },
           "zaxis": {
            "backgroundcolor": "#E5ECF6",
            "gridcolor": "white",
            "gridwidth": 2,
            "linecolor": "white",
            "showbackground": true,
            "ticks": "",
            "zerolinecolor": "white"
           }
          },
          "shapedefaults": {
           "line": {
            "color": "#2a3f5f"
           }
          },
          "ternary": {
           "aaxis": {
            "gridcolor": "white",
            "linecolor": "white",
            "ticks": ""
           },
           "baxis": {
            "gridcolor": "white",
            "linecolor": "white",
            "ticks": ""
           },
           "bgcolor": "#E5ECF6",
           "caxis": {
            "gridcolor": "white",
            "linecolor": "white",
            "ticks": ""
           }
          },
          "title": {
           "x": 0.05
          },
          "xaxis": {
           "automargin": true,
           "gridcolor": "white",
           "linecolor": "white",
           "ticks": "",
           "title": {
            "standoff": 15
           },
           "zerolinecolor": "white",
           "zerolinewidth": 2
          },
          "yaxis": {
           "automargin": true,
           "gridcolor": "white",
           "linecolor": "white",
           "ticks": "",
           "title": {
            "standoff": 15
           },
           "zerolinecolor": "white",
           "zerolinewidth": 2
          }
         }
        },
        "xaxis": {
         "range": [
          0,
          11
         ],
         "title": {
          "text": "Cluster Number"
         }
        },
        "yaxis": {
         "title": {
          "text": "Inertia"
         }
        }
       }
      },
      "text/html": [
       "<div>                            <div id=\"1d96745d-6a01-4a40-a327-4df82a42afa1\" class=\"plotly-graph-div\" style=\"height:525px; width:100%;\"></div>            <script type=\"text/javascript\">                require([\"plotly\"], function(Plotly) {                    window.PLOTLYENV=window.PLOTLYENV || {};                                    if (document.getElementById(\"1d96745d-6a01-4a40-a327-4df82a42afa1\")) {                    Plotly.newPlot(                        \"1d96745d-6a01-4a40-a327-4df82a42afa1\",                        [{\"x\":[1,2,3,4,5,6,7,8,9,10],\"y\":[50.776958653049675,32.52011224746368,23.69481687661935,18.32509177642186,15.280170354097576,12.645292802677893,10.396716797002712,9.325868961566083,8.306517415485828,7.523201389585193],\"type\":\"scatter\"}],                        {\"template\":{\"data\":{\"histogram2dcontour\":[{\"type\":\"histogram2dcontour\",\"colorbar\":{\"outlinewidth\":0,\"ticks\":\"\"},\"colorscale\":[[0.0,\"#0d0887\"],[0.1111111111111111,\"#46039f\"],[0.2222222222222222,\"#7201a8\"],[0.3333333333333333,\"#9c179e\"],[0.4444444444444444,\"#bd3786\"],[0.5555555555555556,\"#d8576b\"],[0.6666666666666666,\"#ed7953\"],[0.7777777777777778,\"#fb9f3a\"],[0.8888888888888888,\"#fdca26\"],[1.0,\"#f0f921\"]]}],\"choropleth\":[{\"type\":\"choropleth\",\"colorbar\":{\"outlinewidth\":0,\"ticks\":\"\"}}],\"histogram2d\":[{\"type\":\"histogram2d\",\"colorbar\":{\"outlinewidth\":0,\"ticks\":\"\"},\"colorscale\":[[0.0,\"#0d0887\"],[0.1111111111111111,\"#46039f\"],[0.2222222222222222,\"#7201a8\"],[0.3333333333333333,\"#9c179e\"],[0.4444444444444444,\"#bd3786\"],[0.5555555555555556,\"#d8576b\"],[0.6666666666666666,\"#ed7953\"],[0.7777777777777778,\"#fb9f3a\"],[0.8888888888888888,\"#fdca26\"],[1.0,\"#f0f921\"]]}],\"heatmap\":[{\"type\":\"heatmap\",\"colorbar\":{\"outlinewidth\":0,\"ticks\":\"\"},\"colorscale\":[[0.0,\"#0d0887\"],[0.1111111111111111,\"#46039f\"],[0.2222222222222222,\"#7201a8\"],[0.3333333333333333,\"#9c179e\"],[0.4444444444444444,\"#bd3786\"],[0.5555555555555556,\"#d8576b\"],[0.6666666666666666,\"#ed7953\"],[0.7777777777777778,\"#fb9f3a\"],[0.8888888888888888,\"#fdca26\"],[1.0,\"#f0f921\"]]}],\"heatmapgl\":[{\"type\":\"heatmapgl\",\"colorbar\":{\"outlinewidth\":0,\"ticks\":\"\"},\"colorscale\":[[0.0,\"#0d0887\"],[0.1111111111111111,\"#46039f\"],[0.2222222222222222,\"#7201a8\"],[0.3333333333333333,\"#9c179e\"],[0.4444444444444444,\"#bd3786\"],[0.5555555555555556,\"#d8576b\"],[0.6666666666666666,\"#ed7953\"],[0.7777777777777778,\"#fb9f3a\"],[0.8888888888888888,\"#fdca26\"],[1.0,\"#f0f921\"]]}],\"contourcarpet\":[{\"type\":\"contourcarpet\",\"colorbar\":{\"outlinewidth\":0,\"ticks\":\"\"}}],\"contour\":[{\"type\":\"contour\",\"colorbar\":{\"outlinewidth\":0,\"ticks\":\"\"},\"colorscale\":[[0.0,\"#0d0887\"],[0.1111111111111111,\"#46039f\"],[0.2222222222222222,\"#7201a8\"],[0.3333333333333333,\"#9c179e\"],[0.4444444444444444,\"#bd3786\"],[0.5555555555555556,\"#d8576b\"],[0.6666666666666666,\"#ed7953\"],[0.7777777777777778,\"#fb9f3a\"],[0.8888888888888888,\"#fdca26\"],[1.0,\"#f0f921\"]]}],\"surface\":[{\"type\":\"surface\",\"colorbar\":{\"outlinewidth\":0,\"ticks\":\"\"},\"colorscale\":[[0.0,\"#0d0887\"],[0.1111111111111111,\"#46039f\"],[0.2222222222222222,\"#7201a8\"],[0.3333333333333333,\"#9c179e\"],[0.4444444444444444,\"#bd3786\"],[0.5555555555555556,\"#d8576b\"],[0.6666666666666666,\"#ed7953\"],[0.7777777777777778,\"#fb9f3a\"],[0.8888888888888888,\"#fdca26\"],[1.0,\"#f0f921\"]]}],\"mesh3d\":[{\"type\":\"mesh3d\",\"colorbar\":{\"outlinewidth\":0,\"ticks\":\"\"}}],\"scatter\":[{\"fillpattern\":{\"fillmode\":\"overlay\",\"size\":10,\"solidity\":0.2},\"type\":\"scatter\"}],\"parcoords\":[{\"type\":\"parcoords\",\"line\":{\"colorbar\":{\"outlinewidth\":0,\"ticks\":\"\"}}}],\"scatterpolargl\":[{\"type\":\"scatterpolargl\",\"marker\":{\"colorbar\":{\"outlinewidth\":0,\"ticks\":\"\"}}}],\"bar\":[{\"error_x\":{\"color\":\"#2a3f5f\"},\"error_y\":{\"color\":\"#2a3f5f\"},\"marker\":{\"line\":{\"color\":\"#E5ECF6\",\"width\":0.5},\"pattern\":{\"fillmode\":\"overlay\",\"size\":10,\"solidity\":0.2}},\"type\":\"bar\"}],\"scattergeo\":[{\"type\":\"scattergeo\",\"marker\":{\"colorbar\":{\"outlinewidth\":0,\"ticks\":\"\"}}}],\"scatterpolar\":[{\"type\":\"scatterpolar\",\"marker\":{\"colorbar\":{\"outlinewidth\":0,\"ticks\":\"\"}}}],\"histogram\":[{\"marker\":{\"pattern\":{\"fillmode\":\"overlay\",\"size\":10,\"solidity\":0.2}},\"type\":\"histogram\"}],\"scattergl\":[{\"type\":\"scattergl\",\"marker\":{\"colorbar\":{\"outlinewidth\":0,\"ticks\":\"\"}}}],\"scatter3d\":[{\"type\":\"scatter3d\",\"line\":{\"colorbar\":{\"outlinewidth\":0,\"ticks\":\"\"}},\"marker\":{\"colorbar\":{\"outlinewidth\":0,\"ticks\":\"\"}}}],\"scattermapbox\":[{\"type\":\"scattermapbox\",\"marker\":{\"colorbar\":{\"outlinewidth\":0,\"ticks\":\"\"}}}],\"scatterternary\":[{\"type\":\"scatterternary\",\"marker\":{\"colorbar\":{\"outlinewidth\":0,\"ticks\":\"\"}}}],\"scattercarpet\":[{\"type\":\"scattercarpet\",\"marker\":{\"colorbar\":{\"outlinewidth\":0,\"ticks\":\"\"}}}],\"carpet\":[{\"aaxis\":{\"endlinecolor\":\"#2a3f5f\",\"gridcolor\":\"white\",\"linecolor\":\"white\",\"minorgridcolor\":\"white\",\"startlinecolor\":\"#2a3f5f\"},\"baxis\":{\"endlinecolor\":\"#2a3f5f\",\"gridcolor\":\"white\",\"linecolor\":\"white\",\"minorgridcolor\":\"white\",\"startlinecolor\":\"#2a3f5f\"},\"type\":\"carpet\"}],\"table\":[{\"cells\":{\"fill\":{\"color\":\"#EBF0F8\"},\"line\":{\"color\":\"white\"}},\"header\":{\"fill\":{\"color\":\"#C8D4E3\"},\"line\":{\"color\":\"white\"}},\"type\":\"table\"}],\"barpolar\":[{\"marker\":{\"line\":{\"color\":\"#E5ECF6\",\"width\":0.5},\"pattern\":{\"fillmode\":\"overlay\",\"size\":10,\"solidity\":0.2}},\"type\":\"barpolar\"}],\"pie\":[{\"automargin\":true,\"type\":\"pie\"}]},\"layout\":{\"autotypenumbers\":\"strict\",\"colorway\":[\"#636efa\",\"#EF553B\",\"#00cc96\",\"#ab63fa\",\"#FFA15A\",\"#19d3f3\",\"#FF6692\",\"#B6E880\",\"#FF97FF\",\"#FECB52\"],\"font\":{\"color\":\"#2a3f5f\"},\"hovermode\":\"closest\",\"hoverlabel\":{\"align\":\"left\"},\"paper_bgcolor\":\"white\",\"plot_bgcolor\":\"#E5ECF6\",\"polar\":{\"bgcolor\":\"#E5ECF6\",\"angularaxis\":{\"gridcolor\":\"white\",\"linecolor\":\"white\",\"ticks\":\"\"},\"radialaxis\":{\"gridcolor\":\"white\",\"linecolor\":\"white\",\"ticks\":\"\"}},\"ternary\":{\"bgcolor\":\"#E5ECF6\",\"aaxis\":{\"gridcolor\":\"white\",\"linecolor\":\"white\",\"ticks\":\"\"},\"baxis\":{\"gridcolor\":\"white\",\"linecolor\":\"white\",\"ticks\":\"\"},\"caxis\":{\"gridcolor\":\"white\",\"linecolor\":\"white\",\"ticks\":\"\"}},\"coloraxis\":{\"colorbar\":{\"outlinewidth\":0,\"ticks\":\"\"}},\"colorscale\":{\"sequential\":[[0.0,\"#0d0887\"],[0.1111111111111111,\"#46039f\"],[0.2222222222222222,\"#7201a8\"],[0.3333333333333333,\"#9c179e\"],[0.4444444444444444,\"#bd3786\"],[0.5555555555555556,\"#d8576b\"],[0.6666666666666666,\"#ed7953\"],[0.7777777777777778,\"#fb9f3a\"],[0.8888888888888888,\"#fdca26\"],[1.0,\"#f0f921\"]],\"sequentialminus\":[[0.0,\"#0d0887\"],[0.1111111111111111,\"#46039f\"],[0.2222222222222222,\"#7201a8\"],[0.3333333333333333,\"#9c179e\"],[0.4444444444444444,\"#bd3786\"],[0.5555555555555556,\"#d8576b\"],[0.6666666666666666,\"#ed7953\"],[0.7777777777777778,\"#fb9f3a\"],[0.8888888888888888,\"#fdca26\"],[1.0,\"#f0f921\"]],\"diverging\":[[0,\"#8e0152\"],[0.1,\"#c51b7d\"],[0.2,\"#de77ae\"],[0.3,\"#f1b6da\"],[0.4,\"#fde0ef\"],[0.5,\"#f7f7f7\"],[0.6,\"#e6f5d0\"],[0.7,\"#b8e186\"],[0.8,\"#7fbc41\"],[0.9,\"#4d9221\"],[1,\"#276419\"]]},\"xaxis\":{\"gridcolor\":\"white\",\"linecolor\":\"white\",\"ticks\":\"\",\"title\":{\"standoff\":15},\"zerolinecolor\":\"white\",\"automargin\":true,\"zerolinewidth\":2},\"yaxis\":{\"gridcolor\":\"white\",\"linecolor\":\"white\",\"ticks\":\"\",\"title\":{\"standoff\":15},\"zerolinecolor\":\"white\",\"automargin\":true,\"zerolinewidth\":2},\"scene\":{\"xaxis\":{\"backgroundcolor\":\"#E5ECF6\",\"gridcolor\":\"white\",\"linecolor\":\"white\",\"showbackground\":true,\"ticks\":\"\",\"zerolinecolor\":\"white\",\"gridwidth\":2},\"yaxis\":{\"backgroundcolor\":\"#E5ECF6\",\"gridcolor\":\"white\",\"linecolor\":\"white\",\"showbackground\":true,\"ticks\":\"\",\"zerolinecolor\":\"white\",\"gridwidth\":2},\"zaxis\":{\"backgroundcolor\":\"#E5ECF6\",\"gridcolor\":\"white\",\"linecolor\":\"white\",\"showbackground\":true,\"ticks\":\"\",\"zerolinecolor\":\"white\",\"gridwidth\":2}},\"shapedefaults\":{\"line\":{\"color\":\"#2a3f5f\"}},\"annotationdefaults\":{\"arrowcolor\":\"#2a3f5f\",\"arrowhead\":0,\"arrowwidth\":1},\"geo\":{\"bgcolor\":\"white\",\"landcolor\":\"#E5ECF6\",\"subunitcolor\":\"white\",\"showland\":true,\"showlakes\":true,\"lakecolor\":\"white\"},\"title\":{\"x\":0.05},\"mapbox\":{\"style\":\"light\"}}},\"xaxis\":{\"range\":[0,11],\"title\":{\"text\":\"Cluster Number\"}},\"yaxis\":{\"title\":{\"text\":\"Inertia\"}},\"annotations\":[{\"arrowhead\":7,\"ax\":20,\"ay\":-40,\"showarrow\":true,\"text\":\"Elbow!\",\"x\":3,\"xref\":\"x\",\"y\":23.69481687661935,\"yref\":\"y\"}]},                        {\"responsive\": true}                    ).then(function(){\n",
       "                            \n",
       "var gd = document.getElementById('1d96745d-6a01-4a40-a327-4df82a42afa1');\n",
       "var x = new MutationObserver(function (mutations, observer) {{\n",
       "        var display = window.getComputedStyle(gd).display;\n",
       "        if (!display || display === 'none') {{\n",
       "            console.log([gd, 'removed!']);\n",
       "            Plotly.purge(gd);\n",
       "            observer.disconnect();\n",
       "        }}\n",
       "}});\n",
       "\n",
       "// Listen for the removal of the full notebook cells\n",
       "var notebookContainer = gd.closest('#notebook-container');\n",
       "if (notebookContainer) {{\n",
       "    x.observe(notebookContainer, {childList: true});\n",
       "}}\n",
       "\n",
       "// Listen for the clearing of the current output cell\n",
       "var outputEl = gd.closest('.output');\n",
       "if (outputEl) {{\n",
       "    x.observe(outputEl, {childList: true});\n",
       "}}\n",
       "\n",
       "                        })                };                });            </script>        </div>"
      ]
     },
     "metadata": {},
     "output_type": "display_data"
    }
   ],
   "source": [
    "#We try to find the best cluster for our data with K-means algorithm\n",
    "X=data.drop(['C&Y','Year','Country','Prevalence of Undernourishment (%)'],axis=1)\n",
    "scaler = MinMaxScaler()\n",
    "scaler.fit(X)\n",
    "X=scaler.transform(X)\n",
    "inertia = []\n",
    "for i in range(1,11):\n",
    "    kmeans = KMeans(\n",
    "        n_clusters=i, init=\"k-means++\",\n",
    "        n_init=10,\n",
    "        tol=1e-04, random_state=42\n",
    "    )\n",
    "    kmeans.fit(X)\n",
    "    inertia.append(kmeans.inertia_)\n",
    "fig = go.Figure(data=go.Scatter(x=np.arange(1,11),y=inertia))\n",
    "fig.update_layout(xaxis=dict(range=[0,11],title=\"Cluster Number\"),\n",
    "                  yaxis={'title':'Inertia'},\n",
    "                 annotations=[\n",
    "        dict(\n",
    "            x=3,\n",
    "            y=inertia[2],\n",
    "            xref=\"x\",\n",
    "            yref=\"y\",\n",
    "            text=\"Elbow!\",\n",
    "            showarrow=True,\n",
    "            arrowhead=7,\n",
    "            ax=20,\n",
    "            ay=-40\n",
    "        )\n",
    "    ])"
   ]
  },
  {
   "cell_type": "code",
   "execution_count": 80,
   "id": "b8989615",
   "metadata": {
    "ExecuteTime": {
     "end_time": "2022-11-10T19:02:38.079785Z",
     "start_time": "2022-11-10T19:02:38.021674Z"
    }
   },
   "outputs": [
    {
     "data": {
      "text/plain": [
       "KMeans(algorithm='auto', copy_x=True, init='k-means++', max_iter=300,\n",
       "       n_clusters=3, n_init=10, n_jobs='deprecated',\n",
       "       precompute_distances='deprecated', random_state=42, tol=0.0001,\n",
       "       verbose=0)"
      ]
     },
     "execution_count": 80,
     "metadata": {},
     "output_type": "execute_result"
    }
   ],
   "source": [
    "kmeans = KMeans(\n",
    "        n_clusters=3, init=\"k-means++\",\n",
    "        n_init=10,\n",
    "        tol=1e-04, random_state=42\n",
    "    )\n",
    "kmeans.fit(X)"
   ]
  },
  {
   "cell_type": "code",
   "execution_count": 81,
   "id": "551e4498",
   "metadata": {
    "ExecuteTime": {
     "end_time": "2022-11-10T19:02:38.547508Z",
     "start_time": "2022-11-10T19:02:38.535870Z"
    }
   },
   "outputs": [],
   "source": [
    "data['cluster']=kmeans.labels_"
   ]
  },
  {
   "cell_type": "code",
   "execution_count": 82,
   "id": "829a7fe1",
   "metadata": {
    "ExecuteTime": {
     "end_time": "2022-11-10T19:02:39.358325Z",
     "start_time": "2022-11-10T19:02:39.348118Z"
    }
   },
   "outputs": [
    {
     "data": {
      "text/plain": [
       "array([2, 1, 0])"
      ]
     },
     "execution_count": 82,
     "metadata": {},
     "output_type": "execute_result"
    }
   ],
   "source": [
    "data['cluster'].unique()"
   ]
  },
  {
   "cell_type": "code",
   "execution_count": 83,
   "id": "a2eeff82",
   "metadata": {
    "ExecuteTime": {
     "end_time": "2022-11-10T19:02:42.451291Z",
     "start_time": "2022-11-10T19:02:42.385129Z"
    }
   },
   "outputs": [
    {
     "data": {
      "application/vnd.plotly.v1+json": {
       "config": {
        "plotlyServerURL": "https://plot.ly"
       },
       "data": [
        {
         "customdata": [
          [
           "blue"
          ],
          [
           "red"
          ],
          [
           "green"
          ]
         ],
         "domain": {
          "x": [
           0,
           1
          ],
          "y": [
           0,
           1
          ]
         },
         "hovertemplate": "cluster=%{label}<br>value=%{value}<br>color=%{customdata[0]}<extra></extra>",
         "labels": [
          0,
          1,
          2
         ],
         "legendgroup": "",
         "marker": {
          "colors": [
           "#636efa",
           "#EF553B",
           "#00cc96"
          ]
         },
         "name": "",
         "showlegend": true,
         "type": "pie",
         "values": [
          274,
          129,
          199
         ]
        }
       ],
       "layout": {
        "legend": {
         "tracegroupgap": 0
        },
        "margin": {
         "t": 60
        },
        "template": {
         "data": {
          "bar": [
           {
            "error_x": {
             "color": "#2a3f5f"
            },
            "error_y": {
             "color": "#2a3f5f"
            },
            "marker": {
             "line": {
              "color": "#E5ECF6",
              "width": 0.5
             },
             "pattern": {
              "fillmode": "overlay",
              "size": 10,
              "solidity": 0.2
             }
            },
            "type": "bar"
           }
          ],
          "barpolar": [
           {
            "marker": {
             "line": {
              "color": "#E5ECF6",
              "width": 0.5
             },
             "pattern": {
              "fillmode": "overlay",
              "size": 10,
              "solidity": 0.2
             }
            },
            "type": "barpolar"
           }
          ],
          "carpet": [
           {
            "aaxis": {
             "endlinecolor": "#2a3f5f",
             "gridcolor": "white",
             "linecolor": "white",
             "minorgridcolor": "white",
             "startlinecolor": "#2a3f5f"
            },
            "baxis": {
             "endlinecolor": "#2a3f5f",
             "gridcolor": "white",
             "linecolor": "white",
             "minorgridcolor": "white",
             "startlinecolor": "#2a3f5f"
            },
            "type": "carpet"
           }
          ],
          "choropleth": [
           {
            "colorbar": {
             "outlinewidth": 0,
             "ticks": ""
            },
            "type": "choropleth"
           }
          ],
          "contour": [
           {
            "colorbar": {
             "outlinewidth": 0,
             "ticks": ""
            },
            "colorscale": [
             [
              0,
              "#0d0887"
             ],
             [
              0.1111111111111111,
              "#46039f"
             ],
             [
              0.2222222222222222,
              "#7201a8"
             ],
             [
              0.3333333333333333,
              "#9c179e"
             ],
             [
              0.4444444444444444,
              "#bd3786"
             ],
             [
              0.5555555555555556,
              "#d8576b"
             ],
             [
              0.6666666666666666,
              "#ed7953"
             ],
             [
              0.7777777777777778,
              "#fb9f3a"
             ],
             [
              0.8888888888888888,
              "#fdca26"
             ],
             [
              1,
              "#f0f921"
             ]
            ],
            "type": "contour"
           }
          ],
          "contourcarpet": [
           {
            "colorbar": {
             "outlinewidth": 0,
             "ticks": ""
            },
            "type": "contourcarpet"
           }
          ],
          "heatmap": [
           {
            "colorbar": {
             "outlinewidth": 0,
             "ticks": ""
            },
            "colorscale": [
             [
              0,
              "#0d0887"
             ],
             [
              0.1111111111111111,
              "#46039f"
             ],
             [
              0.2222222222222222,
              "#7201a8"
             ],
             [
              0.3333333333333333,
              "#9c179e"
             ],
             [
              0.4444444444444444,
              "#bd3786"
             ],
             [
              0.5555555555555556,
              "#d8576b"
             ],
             [
              0.6666666666666666,
              "#ed7953"
             ],
             [
              0.7777777777777778,
              "#fb9f3a"
             ],
             [
              0.8888888888888888,
              "#fdca26"
             ],
             [
              1,
              "#f0f921"
             ]
            ],
            "type": "heatmap"
           }
          ],
          "heatmapgl": [
           {
            "colorbar": {
             "outlinewidth": 0,
             "ticks": ""
            },
            "colorscale": [
             [
              0,
              "#0d0887"
             ],
             [
              0.1111111111111111,
              "#46039f"
             ],
             [
              0.2222222222222222,
              "#7201a8"
             ],
             [
              0.3333333333333333,
              "#9c179e"
             ],
             [
              0.4444444444444444,
              "#bd3786"
             ],
             [
              0.5555555555555556,
              "#d8576b"
             ],
             [
              0.6666666666666666,
              "#ed7953"
             ],
             [
              0.7777777777777778,
              "#fb9f3a"
             ],
             [
              0.8888888888888888,
              "#fdca26"
             ],
             [
              1,
              "#f0f921"
             ]
            ],
            "type": "heatmapgl"
           }
          ],
          "histogram": [
           {
            "marker": {
             "pattern": {
              "fillmode": "overlay",
              "size": 10,
              "solidity": 0.2
             }
            },
            "type": "histogram"
           }
          ],
          "histogram2d": [
           {
            "colorbar": {
             "outlinewidth": 0,
             "ticks": ""
            },
            "colorscale": [
             [
              0,
              "#0d0887"
             ],
             [
              0.1111111111111111,
              "#46039f"
             ],
             [
              0.2222222222222222,
              "#7201a8"
             ],
             [
              0.3333333333333333,
              "#9c179e"
             ],
             [
              0.4444444444444444,
              "#bd3786"
             ],
             [
              0.5555555555555556,
              "#d8576b"
             ],
             [
              0.6666666666666666,
              "#ed7953"
             ],
             [
              0.7777777777777778,
              "#fb9f3a"
             ],
             [
              0.8888888888888888,
              "#fdca26"
             ],
             [
              1,
              "#f0f921"
             ]
            ],
            "type": "histogram2d"
           }
          ],
          "histogram2dcontour": [
           {
            "colorbar": {
             "outlinewidth": 0,
             "ticks": ""
            },
            "colorscale": [
             [
              0,
              "#0d0887"
             ],
             [
              0.1111111111111111,
              "#46039f"
             ],
             [
              0.2222222222222222,
              "#7201a8"
             ],
             [
              0.3333333333333333,
              "#9c179e"
             ],
             [
              0.4444444444444444,
              "#bd3786"
             ],
             [
              0.5555555555555556,
              "#d8576b"
             ],
             [
              0.6666666666666666,
              "#ed7953"
             ],
             [
              0.7777777777777778,
              "#fb9f3a"
             ],
             [
              0.8888888888888888,
              "#fdca26"
             ],
             [
              1,
              "#f0f921"
             ]
            ],
            "type": "histogram2dcontour"
           }
          ],
          "mesh3d": [
           {
            "colorbar": {
             "outlinewidth": 0,
             "ticks": ""
            },
            "type": "mesh3d"
           }
          ],
          "parcoords": [
           {
            "line": {
             "colorbar": {
              "outlinewidth": 0,
              "ticks": ""
             }
            },
            "type": "parcoords"
           }
          ],
          "pie": [
           {
            "automargin": true,
            "type": "pie"
           }
          ],
          "scatter": [
           {
            "fillpattern": {
             "fillmode": "overlay",
             "size": 10,
             "solidity": 0.2
            },
            "type": "scatter"
           }
          ],
          "scatter3d": [
           {
            "line": {
             "colorbar": {
              "outlinewidth": 0,
              "ticks": ""
             }
            },
            "marker": {
             "colorbar": {
              "outlinewidth": 0,
              "ticks": ""
             }
            },
            "type": "scatter3d"
           }
          ],
          "scattercarpet": [
           {
            "marker": {
             "colorbar": {
              "outlinewidth": 0,
              "ticks": ""
             }
            },
            "type": "scattercarpet"
           }
          ],
          "scattergeo": [
           {
            "marker": {
             "colorbar": {
              "outlinewidth": 0,
              "ticks": ""
             }
            },
            "type": "scattergeo"
           }
          ],
          "scattergl": [
           {
            "marker": {
             "colorbar": {
              "outlinewidth": 0,
              "ticks": ""
             }
            },
            "type": "scattergl"
           }
          ],
          "scattermapbox": [
           {
            "marker": {
             "colorbar": {
              "outlinewidth": 0,
              "ticks": ""
             }
            },
            "type": "scattermapbox"
           }
          ],
          "scatterpolar": [
           {
            "marker": {
             "colorbar": {
              "outlinewidth": 0,
              "ticks": ""
             }
            },
            "type": "scatterpolar"
           }
          ],
          "scatterpolargl": [
           {
            "marker": {
             "colorbar": {
              "outlinewidth": 0,
              "ticks": ""
             }
            },
            "type": "scatterpolargl"
           }
          ],
          "scatterternary": [
           {
            "marker": {
             "colorbar": {
              "outlinewidth": 0,
              "ticks": ""
             }
            },
            "type": "scatterternary"
           }
          ],
          "surface": [
           {
            "colorbar": {
             "outlinewidth": 0,
             "ticks": ""
            },
            "colorscale": [
             [
              0,
              "#0d0887"
             ],
             [
              0.1111111111111111,
              "#46039f"
             ],
             [
              0.2222222222222222,
              "#7201a8"
             ],
             [
              0.3333333333333333,
              "#9c179e"
             ],
             [
              0.4444444444444444,
              "#bd3786"
             ],
             [
              0.5555555555555556,
              "#d8576b"
             ],
             [
              0.6666666666666666,
              "#ed7953"
             ],
             [
              0.7777777777777778,
              "#fb9f3a"
             ],
             [
              0.8888888888888888,
              "#fdca26"
             ],
             [
              1,
              "#f0f921"
             ]
            ],
            "type": "surface"
           }
          ],
          "table": [
           {
            "cells": {
             "fill": {
              "color": "#EBF0F8"
             },
             "line": {
              "color": "white"
             }
            },
            "header": {
             "fill": {
              "color": "#C8D4E3"
             },
             "line": {
              "color": "white"
             }
            },
            "type": "table"
           }
          ]
         },
         "layout": {
          "annotationdefaults": {
           "arrowcolor": "#2a3f5f",
           "arrowhead": 0,
           "arrowwidth": 1
          },
          "autotypenumbers": "strict",
          "coloraxis": {
           "colorbar": {
            "outlinewidth": 0,
            "ticks": ""
           }
          },
          "colorscale": {
           "diverging": [
            [
             0,
             "#8e0152"
            ],
            [
             0.1,
             "#c51b7d"
            ],
            [
             0.2,
             "#de77ae"
            ],
            [
             0.3,
             "#f1b6da"
            ],
            [
             0.4,
             "#fde0ef"
            ],
            [
             0.5,
             "#f7f7f7"
            ],
            [
             0.6,
             "#e6f5d0"
            ],
            [
             0.7,
             "#b8e186"
            ],
            [
             0.8,
             "#7fbc41"
            ],
            [
             0.9,
             "#4d9221"
            ],
            [
             1,
             "#276419"
            ]
           ],
           "sequential": [
            [
             0,
             "#0d0887"
            ],
            [
             0.1111111111111111,
             "#46039f"
            ],
            [
             0.2222222222222222,
             "#7201a8"
            ],
            [
             0.3333333333333333,
             "#9c179e"
            ],
            [
             0.4444444444444444,
             "#bd3786"
            ],
            [
             0.5555555555555556,
             "#d8576b"
            ],
            [
             0.6666666666666666,
             "#ed7953"
            ],
            [
             0.7777777777777778,
             "#fb9f3a"
            ],
            [
             0.8888888888888888,
             "#fdca26"
            ],
            [
             1,
             "#f0f921"
            ]
           ],
           "sequentialminus": [
            [
             0,
             "#0d0887"
            ],
            [
             0.1111111111111111,
             "#46039f"
            ],
            [
             0.2222222222222222,
             "#7201a8"
            ],
            [
             0.3333333333333333,
             "#9c179e"
            ],
            [
             0.4444444444444444,
             "#bd3786"
            ],
            [
             0.5555555555555556,
             "#d8576b"
            ],
            [
             0.6666666666666666,
             "#ed7953"
            ],
            [
             0.7777777777777778,
             "#fb9f3a"
            ],
            [
             0.8888888888888888,
             "#fdca26"
            ],
            [
             1,
             "#f0f921"
            ]
           ]
          },
          "colorway": [
           "#636efa",
           "#EF553B",
           "#00cc96",
           "#ab63fa",
           "#FFA15A",
           "#19d3f3",
           "#FF6692",
           "#B6E880",
           "#FF97FF",
           "#FECB52"
          ],
          "font": {
           "color": "#2a3f5f"
          },
          "geo": {
           "bgcolor": "white",
           "lakecolor": "white",
           "landcolor": "#E5ECF6",
           "showlakes": true,
           "showland": true,
           "subunitcolor": "white"
          },
          "hoverlabel": {
           "align": "left"
          },
          "hovermode": "closest",
          "mapbox": {
           "style": "light"
          },
          "paper_bgcolor": "white",
          "plot_bgcolor": "#E5ECF6",
          "polar": {
           "angularaxis": {
            "gridcolor": "white",
            "linecolor": "white",
            "ticks": ""
           },
           "bgcolor": "#E5ECF6",
           "radialaxis": {
            "gridcolor": "white",
            "linecolor": "white",
            "ticks": ""
           }
          },
          "scene": {
           "xaxis": {
            "backgroundcolor": "#E5ECF6",
            "gridcolor": "white",
            "gridwidth": 2,
            "linecolor": "white",
            "showbackground": true,
            "ticks": "",
            "zerolinecolor": "white"
           },
           "yaxis": {
            "backgroundcolor": "#E5ECF6",
            "gridcolor": "white",
            "gridwidth": 2,
            "linecolor": "white",
            "showbackground": true,
            "ticks": "",
            "zerolinecolor": "white"
           },
           "zaxis": {
            "backgroundcolor": "#E5ECF6",
            "gridcolor": "white",
            "gridwidth": 2,
            "linecolor": "white",
            "showbackground": true,
            "ticks": "",
            "zerolinecolor": "white"
           }
          },
          "shapedefaults": {
           "line": {
            "color": "#2a3f5f"
           }
          },
          "ternary": {
           "aaxis": {
            "gridcolor": "white",
            "linecolor": "white",
            "ticks": ""
           },
           "baxis": {
            "gridcolor": "white",
            "linecolor": "white",
            "ticks": ""
           },
           "bgcolor": "#E5ECF6",
           "caxis": {
            "gridcolor": "white",
            "linecolor": "white",
            "ticks": ""
           }
          },
          "title": {
           "x": 0.05
          },
          "xaxis": {
           "automargin": true,
           "gridcolor": "white",
           "linecolor": "white",
           "ticks": "",
           "title": {
            "standoff": 15
           },
           "zerolinecolor": "white",
           "zerolinewidth": 2
          },
          "yaxis": {
           "automargin": true,
           "gridcolor": "white",
           "linecolor": "white",
           "ticks": "",
           "title": {
            "standoff": 15
           },
           "zerolinecolor": "white",
           "zerolinewidth": 2
          }
         }
        }
       }
      },
      "text/html": [
       "<div>                            <div id=\"fd0497d2-cf59-44fc-b1e1-92e202058fb4\" class=\"plotly-graph-div\" style=\"height:525px; width:100%;\"></div>            <script type=\"text/javascript\">                require([\"plotly\"], function(Plotly) {                    window.PLOTLYENV=window.PLOTLYENV || {};                                    if (document.getElementById(\"fd0497d2-cf59-44fc-b1e1-92e202058fb4\")) {                    Plotly.newPlot(                        \"fd0497d2-cf59-44fc-b1e1-92e202058fb4\",                        [{\"customdata\":[[\"blue\"],[\"red\"],[\"green\"]],\"domain\":{\"x\":[0.0,1.0],\"y\":[0.0,1.0]},\"hovertemplate\":\"cluster=%{label}<br>value=%{value}<br>color=%{customdata[0]}<extra></extra>\",\"labels\":[0,1,2],\"legendgroup\":\"\",\"marker\":{\"colors\":[\"#636efa\",\"#EF553B\",\"#00cc96\"]},\"name\":\"\",\"showlegend\":true,\"values\":[274,129,199],\"type\":\"pie\"}],                        {\"template\":{\"data\":{\"histogram2dcontour\":[{\"type\":\"histogram2dcontour\",\"colorbar\":{\"outlinewidth\":0,\"ticks\":\"\"},\"colorscale\":[[0.0,\"#0d0887\"],[0.1111111111111111,\"#46039f\"],[0.2222222222222222,\"#7201a8\"],[0.3333333333333333,\"#9c179e\"],[0.4444444444444444,\"#bd3786\"],[0.5555555555555556,\"#d8576b\"],[0.6666666666666666,\"#ed7953\"],[0.7777777777777778,\"#fb9f3a\"],[0.8888888888888888,\"#fdca26\"],[1.0,\"#f0f921\"]]}],\"choropleth\":[{\"type\":\"choropleth\",\"colorbar\":{\"outlinewidth\":0,\"ticks\":\"\"}}],\"histogram2d\":[{\"type\":\"histogram2d\",\"colorbar\":{\"outlinewidth\":0,\"ticks\":\"\"},\"colorscale\":[[0.0,\"#0d0887\"],[0.1111111111111111,\"#46039f\"],[0.2222222222222222,\"#7201a8\"],[0.3333333333333333,\"#9c179e\"],[0.4444444444444444,\"#bd3786\"],[0.5555555555555556,\"#d8576b\"],[0.6666666666666666,\"#ed7953\"],[0.7777777777777778,\"#fb9f3a\"],[0.8888888888888888,\"#fdca26\"],[1.0,\"#f0f921\"]]}],\"heatmap\":[{\"type\":\"heatmap\",\"colorbar\":{\"outlinewidth\":0,\"ticks\":\"\"},\"colorscale\":[[0.0,\"#0d0887\"],[0.1111111111111111,\"#46039f\"],[0.2222222222222222,\"#7201a8\"],[0.3333333333333333,\"#9c179e\"],[0.4444444444444444,\"#bd3786\"],[0.5555555555555556,\"#d8576b\"],[0.6666666666666666,\"#ed7953\"],[0.7777777777777778,\"#fb9f3a\"],[0.8888888888888888,\"#fdca26\"],[1.0,\"#f0f921\"]]}],\"heatmapgl\":[{\"type\":\"heatmapgl\",\"colorbar\":{\"outlinewidth\":0,\"ticks\":\"\"},\"colorscale\":[[0.0,\"#0d0887\"],[0.1111111111111111,\"#46039f\"],[0.2222222222222222,\"#7201a8\"],[0.3333333333333333,\"#9c179e\"],[0.4444444444444444,\"#bd3786\"],[0.5555555555555556,\"#d8576b\"],[0.6666666666666666,\"#ed7953\"],[0.7777777777777778,\"#fb9f3a\"],[0.8888888888888888,\"#fdca26\"],[1.0,\"#f0f921\"]]}],\"contourcarpet\":[{\"type\":\"contourcarpet\",\"colorbar\":{\"outlinewidth\":0,\"ticks\":\"\"}}],\"contour\":[{\"type\":\"contour\",\"colorbar\":{\"outlinewidth\":0,\"ticks\":\"\"},\"colorscale\":[[0.0,\"#0d0887\"],[0.1111111111111111,\"#46039f\"],[0.2222222222222222,\"#7201a8\"],[0.3333333333333333,\"#9c179e\"],[0.4444444444444444,\"#bd3786\"],[0.5555555555555556,\"#d8576b\"],[0.6666666666666666,\"#ed7953\"],[0.7777777777777778,\"#fb9f3a\"],[0.8888888888888888,\"#fdca26\"],[1.0,\"#f0f921\"]]}],\"surface\":[{\"type\":\"surface\",\"colorbar\":{\"outlinewidth\":0,\"ticks\":\"\"},\"colorscale\":[[0.0,\"#0d0887\"],[0.1111111111111111,\"#46039f\"],[0.2222222222222222,\"#7201a8\"],[0.3333333333333333,\"#9c179e\"],[0.4444444444444444,\"#bd3786\"],[0.5555555555555556,\"#d8576b\"],[0.6666666666666666,\"#ed7953\"],[0.7777777777777778,\"#fb9f3a\"],[0.8888888888888888,\"#fdca26\"],[1.0,\"#f0f921\"]]}],\"mesh3d\":[{\"type\":\"mesh3d\",\"colorbar\":{\"outlinewidth\":0,\"ticks\":\"\"}}],\"scatter\":[{\"fillpattern\":{\"fillmode\":\"overlay\",\"size\":10,\"solidity\":0.2},\"type\":\"scatter\"}],\"parcoords\":[{\"type\":\"parcoords\",\"line\":{\"colorbar\":{\"outlinewidth\":0,\"ticks\":\"\"}}}],\"scatterpolargl\":[{\"type\":\"scatterpolargl\",\"marker\":{\"colorbar\":{\"outlinewidth\":0,\"ticks\":\"\"}}}],\"bar\":[{\"error_x\":{\"color\":\"#2a3f5f\"},\"error_y\":{\"color\":\"#2a3f5f\"},\"marker\":{\"line\":{\"color\":\"#E5ECF6\",\"width\":0.5},\"pattern\":{\"fillmode\":\"overlay\",\"size\":10,\"solidity\":0.2}},\"type\":\"bar\"}],\"scattergeo\":[{\"type\":\"scattergeo\",\"marker\":{\"colorbar\":{\"outlinewidth\":0,\"ticks\":\"\"}}}],\"scatterpolar\":[{\"type\":\"scatterpolar\",\"marker\":{\"colorbar\":{\"outlinewidth\":0,\"ticks\":\"\"}}}],\"histogram\":[{\"marker\":{\"pattern\":{\"fillmode\":\"overlay\",\"size\":10,\"solidity\":0.2}},\"type\":\"histogram\"}],\"scattergl\":[{\"type\":\"scattergl\",\"marker\":{\"colorbar\":{\"outlinewidth\":0,\"ticks\":\"\"}}}],\"scatter3d\":[{\"type\":\"scatter3d\",\"line\":{\"colorbar\":{\"outlinewidth\":0,\"ticks\":\"\"}},\"marker\":{\"colorbar\":{\"outlinewidth\":0,\"ticks\":\"\"}}}],\"scattermapbox\":[{\"type\":\"scattermapbox\",\"marker\":{\"colorbar\":{\"outlinewidth\":0,\"ticks\":\"\"}}}],\"scatterternary\":[{\"type\":\"scatterternary\",\"marker\":{\"colorbar\":{\"outlinewidth\":0,\"ticks\":\"\"}}}],\"scattercarpet\":[{\"type\":\"scattercarpet\",\"marker\":{\"colorbar\":{\"outlinewidth\":0,\"ticks\":\"\"}}}],\"carpet\":[{\"aaxis\":{\"endlinecolor\":\"#2a3f5f\",\"gridcolor\":\"white\",\"linecolor\":\"white\",\"minorgridcolor\":\"white\",\"startlinecolor\":\"#2a3f5f\"},\"baxis\":{\"endlinecolor\":\"#2a3f5f\",\"gridcolor\":\"white\",\"linecolor\":\"white\",\"minorgridcolor\":\"white\",\"startlinecolor\":\"#2a3f5f\"},\"type\":\"carpet\"}],\"table\":[{\"cells\":{\"fill\":{\"color\":\"#EBF0F8\"},\"line\":{\"color\":\"white\"}},\"header\":{\"fill\":{\"color\":\"#C8D4E3\"},\"line\":{\"color\":\"white\"}},\"type\":\"table\"}],\"barpolar\":[{\"marker\":{\"line\":{\"color\":\"#E5ECF6\",\"width\":0.5},\"pattern\":{\"fillmode\":\"overlay\",\"size\":10,\"solidity\":0.2}},\"type\":\"barpolar\"}],\"pie\":[{\"automargin\":true,\"type\":\"pie\"}]},\"layout\":{\"autotypenumbers\":\"strict\",\"colorway\":[\"#636efa\",\"#EF553B\",\"#00cc96\",\"#ab63fa\",\"#FFA15A\",\"#19d3f3\",\"#FF6692\",\"#B6E880\",\"#FF97FF\",\"#FECB52\"],\"font\":{\"color\":\"#2a3f5f\"},\"hovermode\":\"closest\",\"hoverlabel\":{\"align\":\"left\"},\"paper_bgcolor\":\"white\",\"plot_bgcolor\":\"#E5ECF6\",\"polar\":{\"bgcolor\":\"#E5ECF6\",\"angularaxis\":{\"gridcolor\":\"white\",\"linecolor\":\"white\",\"ticks\":\"\"},\"radialaxis\":{\"gridcolor\":\"white\",\"linecolor\":\"white\",\"ticks\":\"\"}},\"ternary\":{\"bgcolor\":\"#E5ECF6\",\"aaxis\":{\"gridcolor\":\"white\",\"linecolor\":\"white\",\"ticks\":\"\"},\"baxis\":{\"gridcolor\":\"white\",\"linecolor\":\"white\",\"ticks\":\"\"},\"caxis\":{\"gridcolor\":\"white\",\"linecolor\":\"white\",\"ticks\":\"\"}},\"coloraxis\":{\"colorbar\":{\"outlinewidth\":0,\"ticks\":\"\"}},\"colorscale\":{\"sequential\":[[0.0,\"#0d0887\"],[0.1111111111111111,\"#46039f\"],[0.2222222222222222,\"#7201a8\"],[0.3333333333333333,\"#9c179e\"],[0.4444444444444444,\"#bd3786\"],[0.5555555555555556,\"#d8576b\"],[0.6666666666666666,\"#ed7953\"],[0.7777777777777778,\"#fb9f3a\"],[0.8888888888888888,\"#fdca26\"],[1.0,\"#f0f921\"]],\"sequentialminus\":[[0.0,\"#0d0887\"],[0.1111111111111111,\"#46039f\"],[0.2222222222222222,\"#7201a8\"],[0.3333333333333333,\"#9c179e\"],[0.4444444444444444,\"#bd3786\"],[0.5555555555555556,\"#d8576b\"],[0.6666666666666666,\"#ed7953\"],[0.7777777777777778,\"#fb9f3a\"],[0.8888888888888888,\"#fdca26\"],[1.0,\"#f0f921\"]],\"diverging\":[[0,\"#8e0152\"],[0.1,\"#c51b7d\"],[0.2,\"#de77ae\"],[0.3,\"#f1b6da\"],[0.4,\"#fde0ef\"],[0.5,\"#f7f7f7\"],[0.6,\"#e6f5d0\"],[0.7,\"#b8e186\"],[0.8,\"#7fbc41\"],[0.9,\"#4d9221\"],[1,\"#276419\"]]},\"xaxis\":{\"gridcolor\":\"white\",\"linecolor\":\"white\",\"ticks\":\"\",\"title\":{\"standoff\":15},\"zerolinecolor\":\"white\",\"automargin\":true,\"zerolinewidth\":2},\"yaxis\":{\"gridcolor\":\"white\",\"linecolor\":\"white\",\"ticks\":\"\",\"title\":{\"standoff\":15},\"zerolinecolor\":\"white\",\"automargin\":true,\"zerolinewidth\":2},\"scene\":{\"xaxis\":{\"backgroundcolor\":\"#E5ECF6\",\"gridcolor\":\"white\",\"linecolor\":\"white\",\"showbackground\":true,\"ticks\":\"\",\"zerolinecolor\":\"white\",\"gridwidth\":2},\"yaxis\":{\"backgroundcolor\":\"#E5ECF6\",\"gridcolor\":\"white\",\"linecolor\":\"white\",\"showbackground\":true,\"ticks\":\"\",\"zerolinecolor\":\"white\",\"gridwidth\":2},\"zaxis\":{\"backgroundcolor\":\"#E5ECF6\",\"gridcolor\":\"white\",\"linecolor\":\"white\",\"showbackground\":true,\"ticks\":\"\",\"zerolinecolor\":\"white\",\"gridwidth\":2}},\"shapedefaults\":{\"line\":{\"color\":\"#2a3f5f\"}},\"annotationdefaults\":{\"arrowcolor\":\"#2a3f5f\",\"arrowhead\":0,\"arrowwidth\":1},\"geo\":{\"bgcolor\":\"white\",\"landcolor\":\"#E5ECF6\",\"subunitcolor\":\"white\",\"showland\":true,\"showlakes\":true,\"lakecolor\":\"white\"},\"title\":{\"x\":0.05},\"mapbox\":{\"style\":\"light\"}}},\"legend\":{\"tracegroupgap\":0},\"margin\":{\"t\":60}},                        {\"responsive\": true}                    ).then(function(){\n",
       "                            \n",
       "var gd = document.getElementById('fd0497d2-cf59-44fc-b1e1-92e202058fb4');\n",
       "var x = new MutationObserver(function (mutations, observer) {{\n",
       "        var display = window.getComputedStyle(gd).display;\n",
       "        if (!display || display === 'none') {{\n",
       "            console.log([gd, 'removed!']);\n",
       "            Plotly.purge(gd);\n",
       "            observer.disconnect();\n",
       "        }}\n",
       "}});\n",
       "\n",
       "// Listen for the removal of the full notebook cells\n",
       "var notebookContainer = gd.closest('#notebook-container');\n",
       "if (notebookContainer) {{\n",
       "    x.observe(notebookContainer, {childList: true});\n",
       "}}\n",
       "\n",
       "// Listen for the clearing of the current output cell\n",
       "var outputEl = gd.closest('.output');\n",
       "if (outputEl) {{\n",
       "    x.observe(outputEl, {childList: true});\n",
       "}}\n",
       "\n",
       "                        })                };                });            </script>        </div>"
      ]
     },
     "metadata": {},
     "output_type": "display_data"
    }
   ],
   "source": [
    "#After clustering, we can know the distribution of clustered country\n",
    "pie=data.groupby('cluster').size().reset_index()\n",
    "pie.columns=['cluster','value']\n",
    "px.pie(pie,values='value',names='cluster',color=['blue','red','green'])"
   ]
  }
 ],
 "metadata": {
  "kernelspec": {
   "display_name": "Python 3 (ipykernel)",
   "language": "python",
   "name": "python3"
  },
  "language_info": {
   "codemirror_mode": {
    "name": "ipython",
    "version": 3
   },
   "file_extension": ".py",
   "mimetype": "text/x-python",
   "name": "python",
   "nbconvert_exporter": "python",
   "pygments_lexer": "ipython3",
   "version": "3.9.7"
  },
  "toc": {
   "base_numbering": 1,
   "nav_menu": {},
   "number_sections": true,
   "sideBar": true,
   "skip_h1_title": false,
   "title_cell": "Table of Contents",
   "title_sidebar": "Contents",
   "toc_cell": true,
   "toc_position": {},
   "toc_section_display": true,
   "toc_window_display": true
  }
 },
 "nbformat": 4,
 "nbformat_minor": 5
}
